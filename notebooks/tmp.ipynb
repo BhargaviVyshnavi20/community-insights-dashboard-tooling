{
 "cells": [
  {
   "cell_type": "raw",
   "id": "fe8cc786-b3ab-43c1-8ba1-0024da8b6089",
   "metadata": {},
   "source": [
    "---\n",
    "title: Distribution of articles created using CX \n",
    "subtitle: across the standard quality criteria\n",
    "date: 8 April 2025\n",
    "date-modified: last-modified\n",
    "author: \n",
    "  - name: Krishna Chaitanya Velaga\n",
    "    affiliation: Product Analytics, Wikimedia Foundation\n",
    "format: \n",
    "  html:\n",
    "    toc: true\n",
    "    toc-location: left\n",
    "    toc-depth: 6\n",
    "    theme: cosmo\n",
    "    code-fold: true\n",
    "    code-overflow: scroll\n",
    "    code-copy: true\n",
    "    code-line-numbers: false\n",
    "    code-tools:\n",
    "        source: https://gitlab.wikimedia.org/repos/lpl/analytics/translated-articles-deletion-factors/-/tree/main/2025-T389676?ref_type=heads\n",
    "embed-resources: true\n",
    "reference-location: margin\n",
    "license: \"CC BY-SA\"\n",
    "copyright: Krishna Chaitanya Velaga\n",
    "warning: false\n",
    "---"
   ]
  },
  {
   "cell_type": "markdown",
   "id": "0d92eff0-001c-4024-99f3-43e6301c52ed",
   "metadata": {},
   "source": [
    "TASK: [T390519](https://phabricator.wikimedia.org/T390519)"
   ]
  },
  {
   "cell_type": "markdown",
   "id": "72df1b9b-e2d3-465c-884b-00778374f450",
   "metadata": {},
   "source": [
    "## Introduction\n",
    "\n",
    "::: {.callout-note icon=\"false\" appearance=\"simple\"}\n",
    "\n",
    "In 2024, we did the [first iteration](https://analytics.wikimedia.org/published/reports/content_translation/cx_deletion_rate_factors_report_202404.html) to understand various factors that affect the deletion rate of articles created through the Content Translation (CX) tool, which are mostly translations from a source to a target language. The analysis did reveal interesting insights, and one thing that particularly stood out was that articles that met the [Standard Quality Criteria](https://meta.wikimedia.org/wiki/Research:Knowledge_Gaps_Index/Measurement/Content#Standard_Quality_Criteria) were almost never deleted. While that is a useful insight, there was interest in understanding why. As a result, there has been a [request](https://phabricator.wikimedia.org/T389676) for follow-up analysis, to further explore these factors and investigate insights from related qualitative studies. This analysis is Part-A of the follow-up analysis, which is more exploratory to understand the distribution of translated articles (through CX) across the six standard quality criteria,^[An article is considered to meet the standard criteria if it satisfies five of the six] which are:\n",
    "\n",
    "* It is at least 8kB long in size\n",
    "* It has at least 1 category\n",
    "* It has at least 7 sections\n",
    "* It is illustrated with 1 or more images\n",
    "* Its references are at least 4\n",
    "* It has 2 or more intra wiki links\n",
    "\n",
    "In this analysis, we will explore the state of translated articles across these criteria, and the goal is to answer questions such as:\n",
    "\n",
    "- How many of the articles translated using CX are of standard quality?\n",
    "- For articles which are not of standard quality, have there been any improvements post-creation?\n",
    "- For articles that do not meet the standard quality, what are their distributions like (for example, how many of the articles meet four of the six criteria)?\n",
    "\n",
    "In this analysis, we will only be considering articles that were not deleted at the time of data gathering (as of March 2025). These will be considered in Part B of the analysis, but for this part the assumption is that if an article is deleted after creation, then it is assumed to be of lower quality. \n",
    "\n",
    ":::\n",
    "\n",
    "::: {.callout-note icon=\"false\" appearance=\"simple\" title=\"Data gathering\" collapse=true}\n",
    "\n",
    "The data sources are:\n",
    "\n",
    "* [wmf.mediawiki_history](https://datahub.wikimedia.org/dataset/urn:li:dataset:(urn:li:dataPlatform:hive,wmf.mediawiki_history,PROD)/Schema?is_lineage_mode=false&schemaFilter=): to identify articles created using CX, along with metadata such as page information, user experience, etc.\n",
    "* [canonical_data.wikis](https://datahub.wikimedia.org/dataset/urn:li:dataset:(urn:li:dataPlatform:hive,canonical_data.wikis,PROD)/Schema?is_lineage_mode=false&schemaFilter=): information about wikis that are only currently in production.\n",
    "* [content_gap_metrics.metric_features](https://datahub.wikimedia.org/dataset/urn:li:dataset:(urn:li:dataPlatform:hive,content_gap_metrics.metric_features,PROD)/Schema?is_lineage_mode=false&schemaFilter=): information about whether articles meet the standard quality criteria.\n",
    "* [research.article_features](https://datahub.wikimedia.org/dataset/urn:li:dataset:(urn:li:dataPlatform:hive,research.article_features,PROD)?is_lineage_mode=false): data on individual features (the six criteria) that determine whether an article meets standard quality.\n",
    "\n",
    "For more details and the queries, please refer to the [data gathering notebook](https://gitlab.wikimedia.org/repos/lpl/analytics/translated-articles-deletion-factors/-/blob/main/2025-T389676/01_data-gathering.ipynb?ref_type=heads).\n",
    "\n",
    ":::"
   ]
  },
  {
   "cell_type": "markdown",
   "id": "ed243e4f-cf4d-467a-a9e1-e01dd81e7de4",
   "metadata": {},
   "source": [
    "## Setup "
   ]
  },
  {
   "cell_type": "code",
   "execution_count": 233,
   "id": "6e7ab01c-411a-4afb-a339-f23a42336b43",
   "metadata": {},
   "outputs": [],
   "source": [
    "import pandas as pd\n",
    "import numpy as np\n",
    "import duckdb\n",
    "\n",
    "import plotly.express as px\n",
    "import plotly.graph_objects as go\n",
    "import plotly.subplots as sp\n",
    "import plotly.io as pio\n",
    "from plotly.offline import (\n",
    "    download_plotlyjs, \n",
    "    init_notebook_mode,\n",
    "    iplot\n",
    ")\n",
    "\n",
    "# import bambi as bmb\n",
    "\n",
    "import great_tables as gt"
   ]
  },
  {
   "cell_type": "code",
   "execution_count": 234,
   "id": "84a554fe-574a-486c-bef7-65703a2209cc",
   "metadata": {},
   "outputs": [
    {
     "data": {
      "text/html": [
       "        <script type=\"text/javascript\">\n",
       "        window.PlotlyConfig = {MathJaxConfig: 'local'};\n",
       "        if (window.MathJax && window.MathJax.Hub && window.MathJax.Hub.Config) {window.MathJax.Hub.Config({SVG: {font: \"STIX-Web\"}});}\n",
       "        if (typeof require !== 'undefined') {\n",
       "        require.undef(\"plotly\");\n",
       "        requirejs.config({\n",
       "            paths: {\n",
       "                'plotly': ['https://cdn.plot.ly/plotly-2.35.2.min']\n",
       "            }\n",
       "        });\n",
       "        require(['plotly'], function(Plotly) {\n",
       "            window._Plotly = Plotly;\n",
       "        });\n",
       "        }\n",
       "        </script>\n",
       "        "
      ]
     },
     "metadata": {},
     "output_type": "display_data"
    }
   ],
   "source": [
    "init_notebook_mode(connected=True)\n",
    "\n",
    "pd.options.display.max_columns = None\n",
    "pd.options.display.max_rows = 250\n",
    "\n",
    "# default dimensions for charts\n",
    "iplot_width = 950\n",
    "max_width = 1250\n",
    "\n",
    "# always show options bar\n",
    "iplot_config = {'displayModeBar': True}\n",
    "\n",
    "pio.templates.default = 'simple_white'"
   ]
  },
  {
   "cell_type": "code",
   "execution_count": 235,
   "id": "c7c8854a-f136-4073-b789-779eadd4028d",
   "metadata": {},
   "outputs": [
    {
     "name": "stdout",
     "output_type": "stream",
     "text": [
      "1.2.0 <duckdb.duckdb.DuckDBPyConnection object at 0x7ceb2b36d130>\n"
     ]
    }
   ],
   "source": [
    "#| output: false\n",
    "\n",
    "con = duckdb.connect('secrets/T389676.duckdb', read_only=True)\n",
    "\n",
    "print(duckdb.__version__, con)"
   ]
  },
  {
   "cell_type": "code",
   "execution_count": 236,
   "id": "4ea0a9c0-31ee-4251-87b2-ce8ab39f91e0",
   "metadata": {},
   "outputs": [],
   "source": [
    "# con.close()"
   ]
  },
  {
   "cell_type": "markdown",
   "id": "87c07148-ed94-4425-88ad-2687de23af41",
   "metadata": {},
   "source": [
    "## Analysis"
   ]
  },
  {
   "cell_type": "code",
   "execution_count": 237,
   "id": "f113294b-0fbe-4054-ba9f-acc40b05b1dd",
   "metadata": {},
   "outputs": [
    {
     "data": {
      "text/plain": [
       "<duckdb.duckdb.DuckDBPyConnection at 0x7ceb2b36d130>"
      ]
     },
     "execution_count": 237,
     "metadata": {},
     "output_type": "execute_result"
    }
   ],
   "source": [
    "#| output: false\n",
    "\n",
    "con.execute(\"\"\"\n",
    "CREATE OR REPLACE TEMP VIEW cx_init AS\n",
    "SELECT \n",
    "    * \n",
    "FROM \n",
    "    translations_creation\n",
    "WHERE \n",
    "    NOT is_page_deleted\n",
    "    AND COLUMNS(*) IS NOT NULL\n",
    "\"\"\")"
   ]
  },
  {
   "cell_type": "code",
   "execution_count": 238,
   "id": "f4a93a80-83b9-4423-9d32-0924372b756d",
   "metadata": {},
   "outputs": [
    {
     "data": {
      "text/plain": [
       "<duckdb.duckdb.DuckDBPyConnection at 0x7ceb2b36d130>"
      ]
     },
     "execution_count": 238,
     "metadata": {},
     "output_type": "execute_result"
    }
   ],
   "source": [
    "#| output: false\n",
    "\n",
    "con.execute(\"\"\"\n",
    "CREATE OR REPLACE TEMP VIEW cx_latest AS \n",
    "SELECT \n",
    "    * \n",
    "FROM \n",
    "    translations_latest\n",
    "WHERE \n",
    "    COLUMNS(*) IS NOT NULL\n",
    "\"\"\")"
   ]
  },
  {
   "cell_type": "code",
   "execution_count": 239,
   "id": "627f8f97-33c8-4405-a614-66344e3b105a",
   "metadata": {},
   "outputs": [],
   "source": [
    "std_qual_init_latest_overall = con.sql(\"\"\"\n",
    "WITH base AS (\n",
    "    SELECT\n",
    "        i.wiki_db,\n",
    "        i.page_id,\n",
    "        CONCAT_WS('-', i.wiki_db, i.page_id) AS db_page_id,\n",
    "        i.is_std_qual AS is_std_qual_init,\n",
    "        l.is_std_qual AS is_std_qual_latest\n",
    "    FROM\n",
    "        cx_init i\n",
    "    JOIN\n",
    "        cx_latest l\n",
    "        ON i.wiki_db = l.wiki_db\n",
    "            AND i.page_id = l.page_id\n",
    "),\n",
    "\n",
    "grouped AS (\n",
    "    SELECT\n",
    "        CAST(is_std_qual_init AS BOOLEAN) AS is_std_qual_init,\n",
    "        CAST(is_std_qual_latest AS BOOLEAN) AS is_std_qual_latest,\n",
    "        COUNT(DISTINCT db_page_id) AS article_count\n",
    "    FROM\n",
    "        base\n",
    "    GROUP BY ALL\n",
    "),\n",
    "\n",
    "total AS (\n",
    "    SELECT SUM(article_count) AS total_count FROM grouped\n",
    ")\n",
    "\n",
    "SELECT\n",
    "    g.*,\n",
    "    g.article_count / t.total_count AS pct\n",
    "FROM\n",
    "    grouped g\n",
    "CROSS JOIN\n",
    "    total t\n",
    "\"\"\").df()"
   ]
  },
  {
   "cell_type": "markdown",
   "id": "760ccd2c-aca0-4750-8a4b-d70689f1a89c",
   "metadata": {},
   "source": [
    "### Standard quality: Overall"
   ]
  },
  {
   "cell_type": "code",
   "execution_count": 240,
   "id": "3be6e51e-7f26-4d59-904e-3d0f8844284a",
   "metadata": {},
   "outputs": [
    {
     "data": {
      "text/html": [
       "<div id=\"lpolmldbxy\" style=\"padding-left:0px;padding-right:0px;padding-top:10px;padding-bottom:10px;overflow-x:auto;overflow-y:auto;width:auto;height:auto;\">\n",
       "<style>\n",
       "#lpolmldbxy table {\n",
       "          font-family: -apple-system, BlinkMacSystemFont, 'Segoe UI', Roboto, Oxygen, Ubuntu, Cantarell, 'Helvetica Neue', 'Fira Sans', 'Droid Sans', Arial, sans-serif;\n",
       "          -webkit-font-smoothing: antialiased;\n",
       "          -moz-osx-font-smoothing: grayscale;\n",
       "        }\n",
       "\n",
       "#lpolmldbxy thead, tbody, tfoot, tr, td, th { border-style: none; }\n",
       " tr { background-color: transparent; }\n",
       "#lpolmldbxy p { margin: 0; padding: 0; }\n",
       " #lpolmldbxy .gt_table { display: table; border-collapse: collapse; line-height: normal; margin-left: auto; margin-right: auto; color: #333333; font-size: 16px; font-weight: normal; font-style: normal; background-color: #FFFFFF; width: auto; border-top-style: solid; border-top-width: 2px; border-top-color: #004D80; border-right-style: none; border-right-width: 2px; border-right-color: #D3D3D3; border-bottom-style: solid; border-bottom-width: 2px; border-bottom-color: #004D80; border-left-style: none; border-left-width: 2px; border-left-color: #D3D3D3; }\n",
       " #lpolmldbxy .gt_caption { padding-top: 4px; padding-bottom: 4px; }\n",
       " #lpolmldbxy .gt_title { color: #333333; font-size: 125%; font-weight: initial; padding-top: 4px; padding-bottom: 4px; padding-left: 5px; padding-right: 5px; border-bottom-color: #FFFFFF; border-bottom-width: 0; }\n",
       " #lpolmldbxy .gt_subtitle { color: #333333; font-size: 85%; font-weight: initial; padding-top: 3px; padding-bottom: 5px; padding-left: 5px; padding-right: 5px; border-top-color: #FFFFFF; border-top-width: 0; }\n",
       " #lpolmldbxy .gt_heading { background-color: #FFFFFF; text-align: center; border-bottom-color: #FFFFFF; border-left-style: none; border-left-width: 1px; border-left-color: #D3D3D3; border-right-style: none; border-right-width: 1px; border-right-color: #D3D3D3; }\n",
       " #lpolmldbxy .gt_bottom_border { border-bottom-style: solid; border-bottom-width: 2px; border-bottom-color: #0076BA; }\n",
       " #lpolmldbxy .gt_col_headings { border-top-style: solid; border-top-width: 2px; border-top-color: #0076BA; border-bottom-style: solid; border-bottom-width: 2px; border-bottom-color: #0076BA; border-left-style: none; border-left-width: 1px; border-left-color: #D3D3D3; border-right-style: none; border-right-width: 1px; border-right-color: #D3D3D3; }\n",
       " #lpolmldbxy .gt_col_heading { color: #333333; background-color: #FFFFFF; font-size: 100%; font-weight: normal; text-transform: inherit; border-left-style: none; border-left-width: 1px; border-left-color: #D3D3D3; border-right-style: none; border-right-width: 1px; border-right-color: #D3D3D3; vertical-align: bottom; padding-top: 5px; padding-bottom: 5px; padding-left: 5px; padding-right: 5px; overflow-x: hidden; }\n",
       " #lpolmldbxy .gt_column_spanner_outer { color: #333333; background-color: #FFFFFF; font-size: 100%; font-weight: normal; text-transform: inherit; padding-top: 0; padding-bottom: 0; padding-left: 4px; padding-right: 4px; }\n",
       " #lpolmldbxy .gt_column_spanner_outer:first-child { padding-left: 0; }\n",
       " #lpolmldbxy .gt_column_spanner_outer:last-child { padding-right: 0; }\n",
       " #lpolmldbxy .gt_column_spanner { border-bottom-style: solid; border-bottom-width: 2px; border-bottom-color: #0076BA; vertical-align: bottom; padding-top: 5px; padding-bottom: 5px; overflow-x: hidden; display: inline-block; width: 100%; }\n",
       " #lpolmldbxy .gt_spanner_row { border-bottom-style: hidden; }\n",
       " #lpolmldbxy .gt_group_heading { padding-top: 8px; padding-bottom: 8px; padding-left: 5px; padding-right: 5px; color: #333333; background-color: #FFFFFF; font-size: 100%; font-weight: initial; text-transform: inherit; border-top-style: solid; border-top-width: 2px; border-top-color: #0076BA; border-bottom-style: solid; border-bottom-width: 2px; border-bottom-color: #0076BA; border-left-style: none; border-left-width: 1px; border-left-color: #D3D3D3; border-right-style: none; border-right-width: 1px; border-right-color: #D3D3D3; vertical-align: middle; text-align: left; }\n",
       " #lpolmldbxy .gt_empty_group_heading { padding: 0.5px; color: #333333; background-color: #FFFFFF; font-size: 100%; font-weight: initial; border-top-style: solid; border-top-width: 2px; border-top-color: #0076BA; border-bottom-style: solid; border-bottom-width: 2px; border-bottom-color: #0076BA; vertical-align: middle; }\n",
       " #lpolmldbxy .gt_from_md> :first-child { margin-top: 0; }\n",
       " #lpolmldbxy .gt_from_md> :last-child { margin-bottom: 0; }\n",
       " #lpolmldbxy .gt_row { padding-top: 8px; padding-bottom: 8px; padding-left: 5px; padding-right: 5px; margin: 10px; border-top-style: none; border-top-width: 1px; border-top-color: #89D3FE; border-left-style: none; border-left-width: 1px; border-left-color: #89D3FE; border-right-style: none; border-right-width: 1px; border-right-color: #89D3FE; vertical-align: middle; overflow-x: hidden; }\n",
       " #lpolmldbxy .gt_stub { color: #FFFFFF; background-color: #0076BA; font-size: 100%; font-weight: initial; text-transform: inherit; border-right-style: solid; border-right-width: 2px; border-right-color: #0076BA; padding-left: 5px; padding-right: 5px; }\n",
       " #lpolmldbxy .gt_stub_row_group { color: #333333; background-color: #FFFFFF; font-size: 100%; font-weight: initial; text-transform: inherit; border-right-style: solid; border-right-width: 2px; border-right-color: #D3D3D3; padding-left: 5px; padding-right: 5px; vertical-align: top; }\n",
       " #lpolmldbxy .gt_row_group_first td { border-top-width: 2px; }\n",
       " #lpolmldbxy .gt_row_group_first th { border-top-width: 2px; }\n",
       " #lpolmldbxy .gt_striped { background-color: #F4F4F4; }\n",
       " #lpolmldbxy .gt_table_body { border-top-style: solid; border-top-width: 2px; border-top-color: #0076BA; border-bottom-style: solid; border-bottom-width: 2px; border-bottom-color: #0076BA; }\n",
       " #lpolmldbxy .gt_sourcenotes { color: #333333; background-color: #FFFFFF; border-bottom-style: none; border-bottom-width: 2px; border-bottom-color: #D3D3D3; border-left-style: none; border-left-width: 2px; border-left-color: #D3D3D3; border-right-style: none; border-right-width: 2px; border-right-color: #D3D3D3; }\n",
       " #lpolmldbxy .gt_sourcenote { font-size: 90%; padding-top: 4px; padding-bottom: 4px; padding-left: 5px; padding-right: 5px; text-align: left; }\n",
       " #lpolmldbxy .gt_left { text-align: left; }\n",
       " #lpolmldbxy .gt_center { text-align: center; }\n",
       " #lpolmldbxy .gt_right { text-align: right; font-variant-numeric: tabular-nums; }\n",
       " #lpolmldbxy .gt_font_normal { font-weight: normal; }\n",
       " #lpolmldbxy .gt_font_bold { font-weight: bold; }\n",
       " #lpolmldbxy .gt_font_italic { font-style: italic; }\n",
       " #lpolmldbxy .gt_super { font-size: 65%; }\n",
       " #lpolmldbxy .gt_footnote_marks { font-size: 75%; vertical-align: 0.4em; position: initial; }\n",
       " #lpolmldbxy .gt_asterisk { font-size: 100%; vertical-align: 0; }\n",
       " \n",
       "</style>\n",
       "<table class=\"gt_table\" data-quarto-disable-processing=\"false\" data-quarto-bootstrap=\"false\">\n",
       "<thead>\n",
       "\n",
       "  <tr class=\"gt_heading\">\n",
       "    <td colspan=\"4\" class=\"gt_heading gt_title gt_font_normal\">Articles translated using CX - standard quality, at creation and latest</td>\n",
       "  </tr>\n",
       "<tr class=\"gt_col_headings\">\n",
       "  <th class=\"gt_col_heading gt_columns_bottom_border gt_center\" rowspan=\"1\" colspan=\"1\" scope=\"col\" id=\"is_std_qual_init\">Standard quality, at creation</th>\n",
       "  <th class=\"gt_col_heading gt_columns_bottom_border gt_center\" rowspan=\"1\" colspan=\"1\" scope=\"col\" id=\"is_std_qual_latest\">Standard quality, latest</th>\n",
       "  <th class=\"gt_col_heading gt_columns_bottom_border gt_right\" rowspan=\"1\" colspan=\"1\" scope=\"col\" id=\"article_count\"># Articles</th>\n",
       "  <th class=\"gt_col_heading gt_columns_bottom_border gt_right\" rowspan=\"1\" colspan=\"1\" scope=\"col\" id=\"pct\">Percentage</th>\n",
       "</tr>\n",
       "</thead>\n",
       "<tbody class=\"gt_table_body\">\n",
       "  <tr>\n",
       "    <td class=\"gt_row gt_center\">False</td>\n",
       "    <td class=\"gt_row gt_center\">False</td>\n",
       "    <td class=\"gt_row gt_right\">1365382</td>\n",
       "    <td class=\"gt_row gt_right\">78.26%</td>\n",
       "  </tr>\n",
       "  <tr>\n",
       "    <td class=\"gt_row gt_center gt_striped\">False</td>\n",
       "    <td class=\"gt_row gt_center gt_striped\">True</td>\n",
       "    <td class=\"gt_row gt_right gt_striped\">123156</td>\n",
       "    <td class=\"gt_row gt_right gt_striped\">7.06%</td>\n",
       "  </tr>\n",
       "  <tr>\n",
       "    <td class=\"gt_row gt_center\">True</td>\n",
       "    <td class=\"gt_row gt_center\">False</td>\n",
       "    <td class=\"gt_row gt_right\">23467</td>\n",
       "    <td class=\"gt_row gt_right\">1.35%</td>\n",
       "  </tr>\n",
       "  <tr>\n",
       "    <td class=\"gt_row gt_center gt_striped\">True</td>\n",
       "    <td class=\"gt_row gt_center gt_striped\">True</td>\n",
       "    <td class=\"gt_row gt_right gt_striped\">232694</td>\n",
       "    <td class=\"gt_row gt_right gt_striped\">13.34%</td>\n",
       "  </tr>\n",
       "</tbody>\n",
       "  <tfoot class=\"gt_sourcenotes\">\n",
       "  \n",
       "  <tr>\n",
       "    <td class=\"gt_sourcenote\" colspan=\"4\">as of March 2025</td>\n",
       "  </tr>\n",
       "\n",
       "</tfoot>\n",
       "\n",
       "</table>\n",
       "\n",
       "</div>\n",
       "        "
      ],
      "text/plain": [
       "GT(_tbl_data=   is_std_qual_init  is_std_qual_latest  article_count       pct\n",
       "0             False               False        1365382  0.782589\n",
       "3             False                True         123156  0.070589\n",
       "1              True               False          23467  0.013450\n",
       "2              True                True         232694  0.133372, _body=<great_tables._gt_data.Body object at 0x7ceb1053dbb0>, _boxhead=Boxhead([ColInfo(var='is_std_qual_init', type=<ColInfoTypeEnum.default: 1>, column_label='Standard quality, at creation', column_align='center', column_width=None), ColInfo(var='is_std_qual_latest', type=<ColInfoTypeEnum.default: 1>, column_label='Standard quality, latest', column_align='center', column_width=None), ColInfo(var='article_count', type=<ColInfoTypeEnum.default: 1>, column_label='# Articles', column_align='right', column_width=None), ColInfo(var='pct', type=<ColInfoTypeEnum.default: 1>, column_label='Percentage', column_align='right', column_width=None)]), _stub=<great_tables._gt_data.Stub object at 0x7ceb0b1af0e0>, _spanners=Spanners([]), _heading=Heading(title='Articles translated using CX - standard quality, at creation and latest', subtitle=None, preheader=None), _stubhead=None, _source_notes=['as of March 2025'], _footnotes=[], _styles=[], _locale=<great_tables._gt_data.Locale object at 0x7ceac2406cc0>, _formats=[<great_tables._gt_data.FormatInfo object at 0x7cea5ecef830>], _substitutions=[], _options=Options(table_id=OptionsInfo(scss=False, category='table', type='value', value=None), table_caption=OptionsInfo(scss=False, category='table', type='value', value=None), table_width=OptionsInfo(scss=True, category='table', type='px', value='auto'), table_layout=OptionsInfo(scss=True, category='table', type='value', value='fixed'), table_margin_left=OptionsInfo(scss=True, category='table', type='px', value='auto'), table_margin_right=OptionsInfo(scss=True, category='table', type='px', value='auto'), table_background_color=OptionsInfo(scss=True, category='table', type='value', value='#FFFFFF'), table_additional_css=OptionsInfo(scss=False, category='table', type='values', value=[]), table_font_names=OptionsInfo(scss=False, category='table', type='values', value=['-apple-system', 'BlinkMacSystemFont', 'Segoe UI', 'Roboto', 'Oxygen', 'Ubuntu', 'Cantarell', 'Helvetica Neue', 'Fira Sans', 'Droid Sans', 'Arial', 'sans-serif']), table_font_size=OptionsInfo(scss=True, category='table', type='px', value='16px'), table_font_weight=OptionsInfo(scss=True, category='table', type='value', value='normal'), table_font_style=OptionsInfo(scss=True, category='table', type='value', value='normal'), table_font_color=OptionsInfo(scss=True, category='table', type='value', value='#333333'), table_font_color_light=OptionsInfo(scss=True, category='table', type='value', value='#FFFFFF'), table_border_top_include=OptionsInfo(scss=False, category='table', type='boolean', value=True), table_border_top_style=OptionsInfo(scss=True, category='table', type='value', value='solid'), table_border_top_width=OptionsInfo(scss=True, category='table', type='px', value='2px'), table_border_top_color=OptionsInfo(scss=True, category='table', type='value', value='#004D80'), table_border_right_style=OptionsInfo(scss=True, category='table', type='value', value='none'), table_border_right_width=OptionsInfo(scss=True, category='table', type='px', value='2px'), table_border_right_color=OptionsInfo(scss=True, category='table', type='value', value='#D3D3D3'), table_border_bottom_include=OptionsInfo(scss=False, category='table', type='boolean', value=True), table_border_bottom_style=OptionsInfo(scss=True, category='table', type='value', value='solid'), table_border_bottom_width=OptionsInfo(scss=True, category='table', type='px', value='2px'), table_border_bottom_color=OptionsInfo(scss=True, category='table', type='value', value='#004D80'), table_border_left_style=OptionsInfo(scss=True, category='table', type='value', value='none'), table_border_left_width=OptionsInfo(scss=True, category='table', type='px', value='2px'), table_border_left_color=OptionsInfo(scss=True, category='table', type='value', value='#D3D3D3'), heading_background_color=OptionsInfo(scss=True, category='heading', type='value', value=None), heading_align=OptionsInfo(scss=True, category='heading', type='value', value='center'), heading_title_font_size=OptionsInfo(scss=True, category='heading', type='px', value='125%'), heading_title_font_weight=OptionsInfo(scss=True, category='heading', type='value', value='initial'), heading_subtitle_font_size=OptionsInfo(scss=True, category='heading', type='px', value='85%'), heading_subtitle_font_weight=OptionsInfo(scss=True, category='heading', type='value', value='initial'), heading_padding=OptionsInfo(scss=True, category='heading', type='px', value='4px'), heading_padding_horizontal=OptionsInfo(scss=True, category='heading', type='px', value='5px'), heading_border_bottom_style=OptionsInfo(scss=True, category='heading', type='value', value='solid'), heading_border_bottom_width=OptionsInfo(scss=True, category='heading', type='px', value='2px'), heading_border_bottom_color=OptionsInfo(scss=True, category='heading', type='value', value='#0076BA'), heading_border_lr_style=OptionsInfo(scss=True, category='heading', type='value', value='none'), heading_border_lr_width=OptionsInfo(scss=True, category='heading', type='px', value='1px'), heading_border_lr_color=OptionsInfo(scss=True, category='heading', type='value', value='#D3D3D3'), column_labels_background_color=OptionsInfo(scss=True, category='column_labels', type='value', value='#FFFFFF'), column_labels_font_size=OptionsInfo(scss=True, category='column_labels', type='px', value='100%'), column_labels_font_weight=OptionsInfo(scss=True, category='column_labels', type='value', value='normal'), column_labels_text_transform=OptionsInfo(scss=True, category='column_labels', type='value', value='inherit'), column_labels_padding=OptionsInfo(scss=True, category='column_labels', type='px', value='5px'), column_labels_padding_horizontal=OptionsInfo(scss=True, category='column_labels', type='px', value='5px'), column_labels_vlines_style=OptionsInfo(scss=True, category='table_body', type='value', value='none'), column_labels_vlines_width=OptionsInfo(scss=True, category='table_body', type='px', value='1px'), column_labels_vlines_color=OptionsInfo(scss=True, category='table_body', type='value', value='#D3D3D3'), column_labels_border_top_style=OptionsInfo(scss=True, category='column_labels', type='value', value='solid'), column_labels_border_top_width=OptionsInfo(scss=True, category='column_labels', type='px', value='2px'), column_labels_border_top_color=OptionsInfo(scss=True, category='column_labels', type='value', value='#0076BA'), column_labels_border_bottom_style=OptionsInfo(scss=True, category='column_labels', type='value', value='solid'), column_labels_border_bottom_width=OptionsInfo(scss=True, category='column_labels', type='px', value='2px'), column_labels_border_bottom_color=OptionsInfo(scss=True, category='column_labels', type='value', value='#0076BA'), column_labels_border_lr_style=OptionsInfo(scss=True, category='column_labels', type='value', value='none'), column_labels_border_lr_width=OptionsInfo(scss=True, category='column_labels', type='px', value='1px'), column_labels_border_lr_color=OptionsInfo(scss=True, category='column_labels', type='value', value='#D3D3D3'), column_labels_hidden=OptionsInfo(scss=False, category='column_labels', type='boolean', value=False), row_group_background_color=OptionsInfo(scss=True, category='row_group', type='value', value=None), row_group_font_size=OptionsInfo(scss=True, category='row_group', type='px', value='100%'), row_group_font_weight=OptionsInfo(scss=True, category='row_group', type='value', value='initial'), row_group_text_transform=OptionsInfo(scss=True, category='row_group', type='value', value='inherit'), row_group_padding=OptionsInfo(scss=True, category='row_group', type='px', value='8px'), row_group_padding_horizontal=OptionsInfo(scss=True, category='row_group', type='px', value='5px'), row_group_border_top_style=OptionsInfo(scss=True, category='row_group', type='value', value='solid'), row_group_border_top_width=OptionsInfo(scss=True, category='row_group', type='px', value='2px'), row_group_border_top_color=OptionsInfo(scss=True, category='row_group', type='value', value='#0076BA'), row_group_border_right_style=OptionsInfo(scss=True, category='row_group', type='value', value='none'), row_group_border_right_width=OptionsInfo(scss=True, category='row_group', type='px', value='1px'), row_group_border_right_color=OptionsInfo(scss=True, category='row_group', type='value', value='#D3D3D3'), row_group_border_bottom_style=OptionsInfo(scss=True, category='row_group', type='value', value='solid'), row_group_border_bottom_width=OptionsInfo(scss=True, category='row_group', type='px', value='2px'), row_group_border_bottom_color=OptionsInfo(scss=True, category='row_group', type='value', value='#0076BA'), row_group_border_left_style=OptionsInfo(scss=True, category='row_group', type='value', value='none'), row_group_border_left_width=OptionsInfo(scss=True, category='row_group', type='px', value='1px'), row_group_border_left_color=OptionsInfo(scss=True, category='row_group', type='value', value='#D3D3D3'), row_group_as_column=OptionsInfo(scss=False, category='row_group', type='boolean', value=False), table_body_hlines_style=OptionsInfo(scss=True, category='table_body', type='value', value='none'), table_body_hlines_width=OptionsInfo(scss=True, category='table_body', type='px', value='1px'), table_body_hlines_color=OptionsInfo(scss=True, category='table_body', type='value', value='#89D3FE'), table_body_vlines_style=OptionsInfo(scss=True, category='table_body', type='value', value='none'), table_body_vlines_width=OptionsInfo(scss=True, category='table_body', type='px', value='1px'), table_body_vlines_color=OptionsInfo(scss=True, category='table_body', type='value', value='#89D3FE'), table_body_border_top_style=OptionsInfo(scss=True, category='table_body', type='value', value='solid'), table_body_border_top_width=OptionsInfo(scss=True, category='table_body', type='px', value='2px'), table_body_border_top_color=OptionsInfo(scss=True, category='table_body', type='value', value='#0076BA'), table_body_border_bottom_style=OptionsInfo(scss=True, category='table_body', type='value', value='solid'), table_body_border_bottom_width=OptionsInfo(scss=True, category='table_body', type='px', value='2px'), table_body_border_bottom_color=OptionsInfo(scss=True, category='table_body', type='value', value='#0076BA'), data_row_padding=OptionsInfo(scss=True, category='data_row', type='px', value='8px'), data_row_padding_horizontal=OptionsInfo(scss=True, category='data_row', type='px', value='5px'), stub_background_color=OptionsInfo(scss=True, category='stub', type='value', value='#0076BA'), stub_font_size=OptionsInfo(scss=True, category='stub', type='px', value='100%'), stub_font_weight=OptionsInfo(scss=True, category='stub', type='value', value='initial'), stub_text_transform=OptionsInfo(scss=True, category='stub', type='value', value='inherit'), stub_border_style=OptionsInfo(scss=True, category='stub', type='value', value='solid'), stub_border_width=OptionsInfo(scss=True, category='stub', type='px', value='2px'), stub_border_color=OptionsInfo(scss=True, category='stub', type='value', value='#0076BA'), stub_row_group_background_color=OptionsInfo(scss=True, category='stub', type='value', value=None), stub_row_group_font_size=OptionsInfo(scss=True, category='stub', type='px', value='100%'), stub_row_group_font_weight=OptionsInfo(scss=True, category='stub', type='value', value='initial'), stub_row_group_text_transform=OptionsInfo(scss=True, category='stub', type='value', value='inherit'), stub_row_group_border_style=OptionsInfo(scss=True, category='stub', type='value', value='solid'), stub_row_group_border_width=OptionsInfo(scss=True, category='stub', type='px', value='2px'), stub_row_group_border_color=OptionsInfo(scss=True, category='stub', type='value', value='#D3D3D3'), source_notes_padding=OptionsInfo(scss=True, category='source_notes', type='px', value='4px'), source_notes_padding_horizontal=OptionsInfo(scss=True, category='source_notes', type='px', value='5px'), source_notes_background_color=OptionsInfo(scss=True, category='source_notes', type='value', value=None), source_notes_font_size=OptionsInfo(scss=True, category='source_notes', type='px', value='90%'), source_notes_border_bottom_style=OptionsInfo(scss=True, category='source_notes', type='value', value='none'), source_notes_border_bottom_width=OptionsInfo(scss=True, category='source_notes', type='px', value='2px'), source_notes_border_bottom_color=OptionsInfo(scss=True, category='source_notes', type='value', value='#D3D3D3'), source_notes_border_lr_style=OptionsInfo(scss=True, category='source_notes', type='value', value='none'), source_notes_border_lr_width=OptionsInfo(scss=True, category='source_notes', type='px', value='2px'), source_notes_border_lr_color=OptionsInfo(scss=True, category='source_notes', type='value', value='#D3D3D3'), source_notes_multiline=OptionsInfo(scss=False, category='source_notes', type='boolean', value=True), source_notes_sep=OptionsInfo(scss=False, category='source_notes', type='value', value=' '), row_striping_background_color=OptionsInfo(scss=True, category='row', type='value', value='#F4F4F4'), row_striping_include_stub=OptionsInfo(scss=False, category='row', type='boolean', value=False), row_striping_include_table_body=OptionsInfo(scss=False, category='row', type='boolean', value=['True']), container_width=OptionsInfo(scss=False, category='container', type='px', value='auto'), container_height=OptionsInfo(scss=False, category='container', type='px', value='auto'), container_padding_x=OptionsInfo(scss=False, category='container', type='px', value='0px'), container_padding_y=OptionsInfo(scss=False, category='container', type='px', value='10px'), container_overflow_x=OptionsInfo(scss=False, category='container', type='overflow', value='auto'), container_overflow_y=OptionsInfo(scss=False, category='container', type='overflow', value='auto'), quarto_disable_processing=OptionsInfo(scss=False, category='quarto', type='logical', value=False), quarto_use_bootstrap=OptionsInfo(scss=False, category='quarto', type='logical', value=False)), _has_built=False)"
      ]
     },
     "execution_count": 240,
     "metadata": {},
     "output_type": "execute_result"
    }
   ],
   "source": [
    "std_qual_init_latest_overall_tbl = (\n",
    "    gt.GT(std_qual_init_latest_overall.sort_values(['is_std_qual_init', 'is_std_qual_latest']))\n",
    "    .tab_header('Articles translated using CX - standard quality, at creation and latest')\n",
    "    .fmt_percent(columns='pct')\n",
    "    .cols_label({\n",
    "        'is_std_qual_init': 'Standard quality, at creation',\n",
    "        'is_std_qual_latest': 'Standard quality, latest',\n",
    "        'article_count': '# Articles',\n",
    "        'pct': 'Percentage'\n",
    "    })\n",
    "    .opt_stylize()\n",
    "    .tab_source_note('as of March 2025')\n",
    ")\n",
    "\n",
    "std_qual_init_latest_overall_tbl"
   ]
  },
  {
   "cell_type": "markdown",
   "id": "cc6a6f0f-016f-4570-8767-291c90bf72a4",
   "metadata": {},
   "source": [
    "::: {.callout-tip title=\"Summary\" icon=\"false\" collapse=false}\n",
    "\n",
    "* As of March 2025, ~20% of the articles created through the Content Translation tool meet the standard quality.\n",
    "    * Of these, ~13% met the standard quality at the time of creation, while 7% improved later.\n",
    "* Interestingly, about 1% of articles met the standard quality at the time of creation but not at the latest snapshot. We will further explore the potential causes behind this.\n",
    "* Almost 78% of articles did not meet the standard quality at either the time of creation or the latest snapshot.\n",
    "\n",
    ":::"
   ]
  },
  {
   "cell_type": "markdown",
   "id": "ff4db8bc-9f46-4139-ac5f-25cd112395b5",
   "metadata": {},
   "source": [
    "### Causes for quality decrease"
   ]
  },
  {
   "cell_type": "code",
   "execution_count": 241,
   "id": "75389c5a-76bd-4cd9-8044-bac23941b792",
   "metadata": {},
   "outputs": [],
   "source": [
    "n_lost_std_qual = std_qual_init_latest_overall.query(\"\"\"(is_std_qual_init == True) & (is_std_qual_latest == False)\"\"\").article_count.values[0]\n",
    "n_gained_std_qual = std_qual_init_latest_overall.query(\"\"\"(is_std_qual_init == False) & (is_std_qual_latest == True)\"\"\").article_count.values[0]"
   ]
  },
  {
   "cell_type": "code",
   "execution_count": 242,
   "id": "efda1dfe-6ae1-429c-9051-7999549f990d",
   "metadata": {},
   "outputs": [],
   "source": [
    "stand_qual_reduction_reasons = con.sql(\"\"\"\n",
    "WITH base AS (\n",
    "    SELECT\n",
    "        i.wiki_db,\n",
    "        i.page_id,\n",
    "        CONCAT_WS('-', i.wiki_db, i.page_id) AS db_page_id,\n",
    "        i.is_std_qual AS is_std_qual_init,\n",
    "        l.is_std_qual AS is_std_qual_latest,\n",
    "        i.page_length AS page_length_init,\n",
    "        l.page_length AS page_length_latest,\n",
    "        i.num_refs AS num_refs_init,\n",
    "        l.num_refs AS num_refs_latest,\n",
    "        i.num_wikilinks AS num_wikilinks_init,\n",
    "        l.num_wikilinks AS num_wikilinks_latest,\n",
    "        i.num_categories AS num_categories_init,\n",
    "        l.num_categories AS num_categories_latest,\n",
    "        i.num_media AS num_media_init,\n",
    "        l.num_media AS num_media_latest,\n",
    "        i.num_headings AS num_headings_init,\n",
    "        l.num_headings AS num_headings_latest\n",
    "    FROM\n",
    "        cx_init i\n",
    "    JOIN\n",
    "        cx_latest l\n",
    "        ON i.wiki_db = l.wiki_db\n",
    "           AND i.page_id = l.page_id\n",
    "    WHERE\n",
    "        i.is_std_qual = 1 AND l.is_std_qual = 0\n",
    ")\n",
    "\n",
    "SELECT\n",
    "    COUNT_IF(page_length_latest < page_length_init) AS reduced_length,\n",
    "    COUNT_IF(num_refs_latest < num_refs_init) AS reduced_refs,\n",
    "    COUNT_IF(num_wikilinks_latest < num_wikilinks_init) AS reduced_wikilinks,\n",
    "    COUNT_IF(num_categories_latest < num_categories_init) AS reduced_categories,\n",
    "    COUNT_IF(num_media_latest < num_media_init) AS reduced_media,\n",
    "    COUNT_IF(num_headings_latest < num_headings_init) AS reduced_headings\n",
    "FROM\n",
    "    base\n",
    "\"\"\").df().transpose().reset_index()\n",
    "\n",
    "\n",
    "stand_qual_reduction_reasons = stand_qual_reduction_reasons.rename({\n",
    "    'index': 'Article feature',\n",
    "    0: 'Count'\n",
    "}, axis=1)"
   ]
  },
  {
   "cell_type": "code",
   "execution_count": 243,
   "id": "ba432cc2-aaad-4024-802f-2aca7108954e",
   "metadata": {},
   "outputs": [
    {
     "data": {
      "application/vnd.plotly.v1+json": {
       "config": {
        "plotlyServerURL": "https://plot.ly"
       },
       "data": [
        {
         "alignmentgroup": "True",
         "hovertemplate": "Article feature=%{x}<br>Count=%{text}<extra></extra>",
         "legendgroup": "",
         "marker": {
          "color": "#1F77B4",
          "pattern": {
           "shape": ""
          }
         },
         "name": "",
         "offsetgroup": "",
         "orientation": "v",
         "showlegend": false,
         "text": [
          19309,
          12951,
          11080,
          9554,
          7952,
          7005
         ],
         "textposition": "auto",
         "type": "bar",
         "x": [
          "reduced_length",
          "reduced_wikilinks",
          "reduced_media",
          "reduced_refs",
          "reduced_headings",
          "reduced_categories"
         ],
         "xaxis": "x",
         "y": [
          19309,
          12951,
          11080,
          9554,
          7952,
          7005
         ],
         "yaxis": "y"
        }
       ],
       "layout": {
        "barmode": "relative",
        "height": 400,
        "legend": {
         "tracegroupgap": 0
        },
        "template": {
         "data": {
          "bar": [
           {
            "error_x": {
             "color": "rgb(36,36,36)"
            },
            "error_y": {
             "color": "rgb(36,36,36)"
            },
            "marker": {
             "line": {
              "color": "white",
              "width": 0.5
             },
             "pattern": {
              "fillmode": "overlay",
              "size": 10,
              "solidity": 0.2
             }
            },
            "type": "bar"
           }
          ],
          "barpolar": [
           {
            "marker": {
             "line": {
              "color": "white",
              "width": 0.5
             },
             "pattern": {
              "fillmode": "overlay",
              "size": 10,
              "solidity": 0.2
             }
            },
            "type": "barpolar"
           }
          ],
          "carpet": [
           {
            "aaxis": {
             "endlinecolor": "rgb(36,36,36)",
             "gridcolor": "white",
             "linecolor": "white",
             "minorgridcolor": "white",
             "startlinecolor": "rgb(36,36,36)"
            },
            "baxis": {
             "endlinecolor": "rgb(36,36,36)",
             "gridcolor": "white",
             "linecolor": "white",
             "minorgridcolor": "white",
             "startlinecolor": "rgb(36,36,36)"
            },
            "type": "carpet"
           }
          ],
          "choropleth": [
           {
            "colorbar": {
             "outlinewidth": 1,
             "tickcolor": "rgb(36,36,36)",
             "ticks": "outside"
            },
            "type": "choropleth"
           }
          ],
          "contour": [
           {
            "colorbar": {
             "outlinewidth": 1,
             "tickcolor": "rgb(36,36,36)",
             "ticks": "outside"
            },
            "colorscale": [
             [
              0,
              "#440154"
             ],
             [
              0.1111111111111111,
              "#482878"
             ],
             [
              0.2222222222222222,
              "#3e4989"
             ],
             [
              0.3333333333333333,
              "#31688e"
             ],
             [
              0.4444444444444444,
              "#26828e"
             ],
             [
              0.5555555555555556,
              "#1f9e89"
             ],
             [
              0.6666666666666666,
              "#35b779"
             ],
             [
              0.7777777777777778,
              "#6ece58"
             ],
             [
              0.8888888888888888,
              "#b5de2b"
             ],
             [
              1,
              "#fde725"
             ]
            ],
            "type": "contour"
           }
          ],
          "contourcarpet": [
           {
            "colorbar": {
             "outlinewidth": 1,
             "tickcolor": "rgb(36,36,36)",
             "ticks": "outside"
            },
            "type": "contourcarpet"
           }
          ],
          "heatmap": [
           {
            "colorbar": {
             "outlinewidth": 1,
             "tickcolor": "rgb(36,36,36)",
             "ticks": "outside"
            },
            "colorscale": [
             [
              0,
              "#440154"
             ],
             [
              0.1111111111111111,
              "#482878"
             ],
             [
              0.2222222222222222,
              "#3e4989"
             ],
             [
              0.3333333333333333,
              "#31688e"
             ],
             [
              0.4444444444444444,
              "#26828e"
             ],
             [
              0.5555555555555556,
              "#1f9e89"
             ],
             [
              0.6666666666666666,
              "#35b779"
             ],
             [
              0.7777777777777778,
              "#6ece58"
             ],
             [
              0.8888888888888888,
              "#b5de2b"
             ],
             [
              1,
              "#fde725"
             ]
            ],
            "type": "heatmap"
           }
          ],
          "heatmapgl": [
           {
            "colorbar": {
             "outlinewidth": 1,
             "tickcolor": "rgb(36,36,36)",
             "ticks": "outside"
            },
            "colorscale": [
             [
              0,
              "#440154"
             ],
             [
              0.1111111111111111,
              "#482878"
             ],
             [
              0.2222222222222222,
              "#3e4989"
             ],
             [
              0.3333333333333333,
              "#31688e"
             ],
             [
              0.4444444444444444,
              "#26828e"
             ],
             [
              0.5555555555555556,
              "#1f9e89"
             ],
             [
              0.6666666666666666,
              "#35b779"
             ],
             [
              0.7777777777777778,
              "#6ece58"
             ],
             [
              0.8888888888888888,
              "#b5de2b"
             ],
             [
              1,
              "#fde725"
             ]
            ],
            "type": "heatmapgl"
           }
          ],
          "histogram": [
           {
            "marker": {
             "line": {
              "color": "white",
              "width": 0.6
             }
            },
            "type": "histogram"
           }
          ],
          "histogram2d": [
           {
            "colorbar": {
             "outlinewidth": 1,
             "tickcolor": "rgb(36,36,36)",
             "ticks": "outside"
            },
            "colorscale": [
             [
              0,
              "#440154"
             ],
             [
              0.1111111111111111,
              "#482878"
             ],
             [
              0.2222222222222222,
              "#3e4989"
             ],
             [
              0.3333333333333333,
              "#31688e"
             ],
             [
              0.4444444444444444,
              "#26828e"
             ],
             [
              0.5555555555555556,
              "#1f9e89"
             ],
             [
              0.6666666666666666,
              "#35b779"
             ],
             [
              0.7777777777777778,
              "#6ece58"
             ],
             [
              0.8888888888888888,
              "#b5de2b"
             ],
             [
              1,
              "#fde725"
             ]
            ],
            "type": "histogram2d"
           }
          ],
          "histogram2dcontour": [
           {
            "colorbar": {
             "outlinewidth": 1,
             "tickcolor": "rgb(36,36,36)",
             "ticks": "outside"
            },
            "colorscale": [
             [
              0,
              "#440154"
             ],
             [
              0.1111111111111111,
              "#482878"
             ],
             [
              0.2222222222222222,
              "#3e4989"
             ],
             [
              0.3333333333333333,
              "#31688e"
             ],
             [
              0.4444444444444444,
              "#26828e"
             ],
             [
              0.5555555555555556,
              "#1f9e89"
             ],
             [
              0.6666666666666666,
              "#35b779"
             ],
             [
              0.7777777777777778,
              "#6ece58"
             ],
             [
              0.8888888888888888,
              "#b5de2b"
             ],
             [
              1,
              "#fde725"
             ]
            ],
            "type": "histogram2dcontour"
           }
          ],
          "mesh3d": [
           {
            "colorbar": {
             "outlinewidth": 1,
             "tickcolor": "rgb(36,36,36)",
             "ticks": "outside"
            },
            "type": "mesh3d"
           }
          ],
          "parcoords": [
           {
            "line": {
             "colorbar": {
              "outlinewidth": 1,
              "tickcolor": "rgb(36,36,36)",
              "ticks": "outside"
             }
            },
            "type": "parcoords"
           }
          ],
          "pie": [
           {
            "automargin": true,
            "type": "pie"
           }
          ],
          "scatter": [
           {
            "fillpattern": {
             "fillmode": "overlay",
             "size": 10,
             "solidity": 0.2
            },
            "type": "scatter"
           }
          ],
          "scatter3d": [
           {
            "line": {
             "colorbar": {
              "outlinewidth": 1,
              "tickcolor": "rgb(36,36,36)",
              "ticks": "outside"
             }
            },
            "marker": {
             "colorbar": {
              "outlinewidth": 1,
              "tickcolor": "rgb(36,36,36)",
              "ticks": "outside"
             }
            },
            "type": "scatter3d"
           }
          ],
          "scattercarpet": [
           {
            "marker": {
             "colorbar": {
              "outlinewidth": 1,
              "tickcolor": "rgb(36,36,36)",
              "ticks": "outside"
             }
            },
            "type": "scattercarpet"
           }
          ],
          "scattergeo": [
           {
            "marker": {
             "colorbar": {
              "outlinewidth": 1,
              "tickcolor": "rgb(36,36,36)",
              "ticks": "outside"
             }
            },
            "type": "scattergeo"
           }
          ],
          "scattergl": [
           {
            "marker": {
             "colorbar": {
              "outlinewidth": 1,
              "tickcolor": "rgb(36,36,36)",
              "ticks": "outside"
             }
            },
            "type": "scattergl"
           }
          ],
          "scattermapbox": [
           {
            "marker": {
             "colorbar": {
              "outlinewidth": 1,
              "tickcolor": "rgb(36,36,36)",
              "ticks": "outside"
             }
            },
            "type": "scattermapbox"
           }
          ],
          "scatterpolar": [
           {
            "marker": {
             "colorbar": {
              "outlinewidth": 1,
              "tickcolor": "rgb(36,36,36)",
              "ticks": "outside"
             }
            },
            "type": "scatterpolar"
           }
          ],
          "scatterpolargl": [
           {
            "marker": {
             "colorbar": {
              "outlinewidth": 1,
              "tickcolor": "rgb(36,36,36)",
              "ticks": "outside"
             }
            },
            "type": "scatterpolargl"
           }
          ],
          "scatterternary": [
           {
            "marker": {
             "colorbar": {
              "outlinewidth": 1,
              "tickcolor": "rgb(36,36,36)",
              "ticks": "outside"
             }
            },
            "type": "scatterternary"
           }
          ],
          "surface": [
           {
            "colorbar": {
             "outlinewidth": 1,
             "tickcolor": "rgb(36,36,36)",
             "ticks": "outside"
            },
            "colorscale": [
             [
              0,
              "#440154"
             ],
             [
              0.1111111111111111,
              "#482878"
             ],
             [
              0.2222222222222222,
              "#3e4989"
             ],
             [
              0.3333333333333333,
              "#31688e"
             ],
             [
              0.4444444444444444,
              "#26828e"
             ],
             [
              0.5555555555555556,
              "#1f9e89"
             ],
             [
              0.6666666666666666,
              "#35b779"
             ],
             [
              0.7777777777777778,
              "#6ece58"
             ],
             [
              0.8888888888888888,
              "#b5de2b"
             ],
             [
              1,
              "#fde725"
             ]
            ],
            "type": "surface"
           }
          ],
          "table": [
           {
            "cells": {
             "fill": {
              "color": "rgb(237,237,237)"
             },
             "line": {
              "color": "white"
             }
            },
            "header": {
             "fill": {
              "color": "rgb(217,217,217)"
             },
             "line": {
              "color": "white"
             }
            },
            "type": "table"
           }
          ]
         },
         "layout": {
          "annotationdefaults": {
           "arrowhead": 0,
           "arrowwidth": 1
          },
          "autotypenumbers": "strict",
          "coloraxis": {
           "colorbar": {
            "outlinewidth": 1,
            "tickcolor": "rgb(36,36,36)",
            "ticks": "outside"
           }
          },
          "colorscale": {
           "diverging": [
            [
             0,
             "rgb(103,0,31)"
            ],
            [
             0.1,
             "rgb(178,24,43)"
            ],
            [
             0.2,
             "rgb(214,96,77)"
            ],
            [
             0.3,
             "rgb(244,165,130)"
            ],
            [
             0.4,
             "rgb(253,219,199)"
            ],
            [
             0.5,
             "rgb(247,247,247)"
            ],
            [
             0.6,
             "rgb(209,229,240)"
            ],
            [
             0.7,
             "rgb(146,197,222)"
            ],
            [
             0.8,
             "rgb(67,147,195)"
            ],
            [
             0.9,
             "rgb(33,102,172)"
            ],
            [
             1,
             "rgb(5,48,97)"
            ]
           ],
           "sequential": [
            [
             0,
             "#440154"
            ],
            [
             0.1111111111111111,
             "#482878"
            ],
            [
             0.2222222222222222,
             "#3e4989"
            ],
            [
             0.3333333333333333,
             "#31688e"
            ],
            [
             0.4444444444444444,
             "#26828e"
            ],
            [
             0.5555555555555556,
             "#1f9e89"
            ],
            [
             0.6666666666666666,
             "#35b779"
            ],
            [
             0.7777777777777778,
             "#6ece58"
            ],
            [
             0.8888888888888888,
             "#b5de2b"
            ],
            [
             1,
             "#fde725"
            ]
           ],
           "sequentialminus": [
            [
             0,
             "#440154"
            ],
            [
             0.1111111111111111,
             "#482878"
            ],
            [
             0.2222222222222222,
             "#3e4989"
            ],
            [
             0.3333333333333333,
             "#31688e"
            ],
            [
             0.4444444444444444,
             "#26828e"
            ],
            [
             0.5555555555555556,
             "#1f9e89"
            ],
            [
             0.6666666666666666,
             "#35b779"
            ],
            [
             0.7777777777777778,
             "#6ece58"
            ],
            [
             0.8888888888888888,
             "#b5de2b"
            ],
            [
             1,
             "#fde725"
            ]
           ]
          },
          "colorway": [
           "#1F77B4",
           "#FF7F0E",
           "#2CA02C",
           "#D62728",
           "#9467BD",
           "#8C564B",
           "#E377C2",
           "#7F7F7F",
           "#BCBD22",
           "#17BECF"
          ],
          "font": {
           "color": "rgb(36,36,36)"
          },
          "geo": {
           "bgcolor": "white",
           "lakecolor": "white",
           "landcolor": "white",
           "showlakes": true,
           "showland": true,
           "subunitcolor": "white"
          },
          "hoverlabel": {
           "align": "left"
          },
          "hovermode": "closest",
          "mapbox": {
           "style": "light"
          },
          "paper_bgcolor": "white",
          "plot_bgcolor": "white",
          "polar": {
           "angularaxis": {
            "gridcolor": "rgb(232,232,232)",
            "linecolor": "rgb(36,36,36)",
            "showgrid": false,
            "showline": true,
            "ticks": "outside"
           },
           "bgcolor": "white",
           "radialaxis": {
            "gridcolor": "rgb(232,232,232)",
            "linecolor": "rgb(36,36,36)",
            "showgrid": false,
            "showline": true,
            "ticks": "outside"
           }
          },
          "scene": {
           "xaxis": {
            "backgroundcolor": "white",
            "gridcolor": "rgb(232,232,232)",
            "gridwidth": 2,
            "linecolor": "rgb(36,36,36)",
            "showbackground": true,
            "showgrid": false,
            "showline": true,
            "ticks": "outside",
            "zeroline": false,
            "zerolinecolor": "rgb(36,36,36)"
           },
           "yaxis": {
            "backgroundcolor": "white",
            "gridcolor": "rgb(232,232,232)",
            "gridwidth": 2,
            "linecolor": "rgb(36,36,36)",
            "showbackground": true,
            "showgrid": false,
            "showline": true,
            "ticks": "outside",
            "zeroline": false,
            "zerolinecolor": "rgb(36,36,36)"
           },
           "zaxis": {
            "backgroundcolor": "white",
            "gridcolor": "rgb(232,232,232)",
            "gridwidth": 2,
            "linecolor": "rgb(36,36,36)",
            "showbackground": true,
            "showgrid": false,
            "showline": true,
            "ticks": "outside",
            "zeroline": false,
            "zerolinecolor": "rgb(36,36,36)"
           }
          },
          "shapedefaults": {
           "fillcolor": "black",
           "line": {
            "width": 0
           },
           "opacity": 0.3
          },
          "ternary": {
           "aaxis": {
            "gridcolor": "rgb(232,232,232)",
            "linecolor": "rgb(36,36,36)",
            "showgrid": false,
            "showline": true,
            "ticks": "outside"
           },
           "baxis": {
            "gridcolor": "rgb(232,232,232)",
            "linecolor": "rgb(36,36,36)",
            "showgrid": false,
            "showline": true,
            "ticks": "outside"
           },
           "bgcolor": "white",
           "caxis": {
            "gridcolor": "rgb(232,232,232)",
            "linecolor": "rgb(36,36,36)",
            "showgrid": false,
            "showline": true,
            "ticks": "outside"
           }
          },
          "title": {
           "x": 0.05
          },
          "xaxis": {
           "automargin": true,
           "gridcolor": "rgb(232,232,232)",
           "linecolor": "rgb(36,36,36)",
           "showgrid": false,
           "showline": true,
           "ticks": "outside",
           "title": {
            "standoff": 15
           },
           "zeroline": false,
           "zerolinecolor": "rgb(36,36,36)"
          },
          "yaxis": {
           "automargin": true,
           "gridcolor": "rgb(232,232,232)",
           "linecolor": "rgb(36,36,36)",
           "showgrid": false,
           "showline": true,
           "ticks": "outside",
           "title": {
            "standoff": 15
           },
           "zeroline": false,
           "zerolinecolor": "rgb(36,36,36)"
          }
         }
        },
        "title": {
         "text": "Potential causes for losing standard quality of CX-created articles (at creation to latest)<br><br>                    <sup>in total 23467 articles lost standard quality; as of March 2025</sup>",
         "x": 0.5,
         "xanchor": "center"
        },
        "width": 1000,
        "xaxis": {
         "anchor": "y",
         "domain": [
          0,
          1
         ],
         "title": {
          "text": "Article feature"
         }
        },
        "yaxis": {
         "anchor": "x",
         "domain": [
          0,
          1
         ],
         "title": {
          "text": "Count"
         }
        }
       }
      },
      "text/html": [
       "<div>                            <div id=\"98c089e2-ab06-4ef7-8964-f9060baa7081\" class=\"plotly-graph-div\" style=\"height:400px; width:1000px;\"></div>            <script type=\"text/javascript\">                require([\"plotly\"], function(Plotly) {                    window.PLOTLYENV=window.PLOTLYENV || {};                                    if (document.getElementById(\"98c089e2-ab06-4ef7-8964-f9060baa7081\")) {                    Plotly.newPlot(                        \"98c089e2-ab06-4ef7-8964-f9060baa7081\",                        [{\"alignmentgroup\":\"True\",\"hovertemplate\":\"Article feature=%{x}\\u003cbr\\u003eCount=%{text}\\u003cextra\\u003e\\u003c\\u002fextra\\u003e\",\"legendgroup\":\"\",\"marker\":{\"color\":\"#1F77B4\",\"pattern\":{\"shape\":\"\"}},\"name\":\"\",\"offsetgroup\":\"\",\"orientation\":\"v\",\"showlegend\":false,\"text\":[19309.0,12951.0,11080.0,9554.0,7952.0,7005.0],\"textposition\":\"auto\",\"x\":[\"reduced_length\",\"reduced_wikilinks\",\"reduced_media\",\"reduced_refs\",\"reduced_headings\",\"reduced_categories\"],\"xaxis\":\"x\",\"y\":[19309.0,12951.0,11080.0,9554.0,7952.0,7005.0],\"yaxis\":\"y\",\"type\":\"bar\"}],                        {\"template\":{\"data\":{\"histogram2dcontour\":[{\"type\":\"histogram2dcontour\",\"colorbar\":{\"outlinewidth\":1,\"tickcolor\":\"rgb(36,36,36)\",\"ticks\":\"outside\"},\"colorscale\":[[0.0,\"#440154\"],[0.1111111111111111,\"#482878\"],[0.2222222222222222,\"#3e4989\"],[0.3333333333333333,\"#31688e\"],[0.4444444444444444,\"#26828e\"],[0.5555555555555556,\"#1f9e89\"],[0.6666666666666666,\"#35b779\"],[0.7777777777777778,\"#6ece58\"],[0.8888888888888888,\"#b5de2b\"],[1.0,\"#fde725\"]]}],\"choropleth\":[{\"type\":\"choropleth\",\"colorbar\":{\"outlinewidth\":1,\"tickcolor\":\"rgb(36,36,36)\",\"ticks\":\"outside\"}}],\"histogram2d\":[{\"type\":\"histogram2d\",\"colorbar\":{\"outlinewidth\":1,\"tickcolor\":\"rgb(36,36,36)\",\"ticks\":\"outside\"},\"colorscale\":[[0.0,\"#440154\"],[0.1111111111111111,\"#482878\"],[0.2222222222222222,\"#3e4989\"],[0.3333333333333333,\"#31688e\"],[0.4444444444444444,\"#26828e\"],[0.5555555555555556,\"#1f9e89\"],[0.6666666666666666,\"#35b779\"],[0.7777777777777778,\"#6ece58\"],[0.8888888888888888,\"#b5de2b\"],[1.0,\"#fde725\"]]}],\"heatmap\":[{\"type\":\"heatmap\",\"colorbar\":{\"outlinewidth\":1,\"tickcolor\":\"rgb(36,36,36)\",\"ticks\":\"outside\"},\"colorscale\":[[0.0,\"#440154\"],[0.1111111111111111,\"#482878\"],[0.2222222222222222,\"#3e4989\"],[0.3333333333333333,\"#31688e\"],[0.4444444444444444,\"#26828e\"],[0.5555555555555556,\"#1f9e89\"],[0.6666666666666666,\"#35b779\"],[0.7777777777777778,\"#6ece58\"],[0.8888888888888888,\"#b5de2b\"],[1.0,\"#fde725\"]]}],\"heatmapgl\":[{\"type\":\"heatmapgl\",\"colorbar\":{\"outlinewidth\":1,\"tickcolor\":\"rgb(36,36,36)\",\"ticks\":\"outside\"},\"colorscale\":[[0.0,\"#440154\"],[0.1111111111111111,\"#482878\"],[0.2222222222222222,\"#3e4989\"],[0.3333333333333333,\"#31688e\"],[0.4444444444444444,\"#26828e\"],[0.5555555555555556,\"#1f9e89\"],[0.6666666666666666,\"#35b779\"],[0.7777777777777778,\"#6ece58\"],[0.8888888888888888,\"#b5de2b\"],[1.0,\"#fde725\"]]}],\"contourcarpet\":[{\"type\":\"contourcarpet\",\"colorbar\":{\"outlinewidth\":1,\"tickcolor\":\"rgb(36,36,36)\",\"ticks\":\"outside\"}}],\"contour\":[{\"type\":\"contour\",\"colorbar\":{\"outlinewidth\":1,\"tickcolor\":\"rgb(36,36,36)\",\"ticks\":\"outside\"},\"colorscale\":[[0.0,\"#440154\"],[0.1111111111111111,\"#482878\"],[0.2222222222222222,\"#3e4989\"],[0.3333333333333333,\"#31688e\"],[0.4444444444444444,\"#26828e\"],[0.5555555555555556,\"#1f9e89\"],[0.6666666666666666,\"#35b779\"],[0.7777777777777778,\"#6ece58\"],[0.8888888888888888,\"#b5de2b\"],[1.0,\"#fde725\"]]}],\"surface\":[{\"type\":\"surface\",\"colorbar\":{\"outlinewidth\":1,\"tickcolor\":\"rgb(36,36,36)\",\"ticks\":\"outside\"},\"colorscale\":[[0.0,\"#440154\"],[0.1111111111111111,\"#482878\"],[0.2222222222222222,\"#3e4989\"],[0.3333333333333333,\"#31688e\"],[0.4444444444444444,\"#26828e\"],[0.5555555555555556,\"#1f9e89\"],[0.6666666666666666,\"#35b779\"],[0.7777777777777778,\"#6ece58\"],[0.8888888888888888,\"#b5de2b\"],[1.0,\"#fde725\"]]}],\"mesh3d\":[{\"type\":\"mesh3d\",\"colorbar\":{\"outlinewidth\":1,\"tickcolor\":\"rgb(36,36,36)\",\"ticks\":\"outside\"}}],\"scatter\":[{\"fillpattern\":{\"fillmode\":\"overlay\",\"size\":10,\"solidity\":0.2},\"type\":\"scatter\"}],\"parcoords\":[{\"type\":\"parcoords\",\"line\":{\"colorbar\":{\"outlinewidth\":1,\"tickcolor\":\"rgb(36,36,36)\",\"ticks\":\"outside\"}}}],\"scatterpolargl\":[{\"type\":\"scatterpolargl\",\"marker\":{\"colorbar\":{\"outlinewidth\":1,\"tickcolor\":\"rgb(36,36,36)\",\"ticks\":\"outside\"}}}],\"bar\":[{\"error_x\":{\"color\":\"rgb(36,36,36)\"},\"error_y\":{\"color\":\"rgb(36,36,36)\"},\"marker\":{\"line\":{\"color\":\"white\",\"width\":0.5},\"pattern\":{\"fillmode\":\"overlay\",\"size\":10,\"solidity\":0.2}},\"type\":\"bar\"}],\"scattergeo\":[{\"type\":\"scattergeo\",\"marker\":{\"colorbar\":{\"outlinewidth\":1,\"tickcolor\":\"rgb(36,36,36)\",\"ticks\":\"outside\"}}}],\"scatterpolar\":[{\"type\":\"scatterpolar\",\"marker\":{\"colorbar\":{\"outlinewidth\":1,\"tickcolor\":\"rgb(36,36,36)\",\"ticks\":\"outside\"}}}],\"histogram\":[{\"marker\":{\"line\":{\"color\":\"white\",\"width\":0.6}},\"type\":\"histogram\"}],\"scattergl\":[{\"type\":\"scattergl\",\"marker\":{\"colorbar\":{\"outlinewidth\":1,\"tickcolor\":\"rgb(36,36,36)\",\"ticks\":\"outside\"}}}],\"scatter3d\":[{\"type\":\"scatter3d\",\"line\":{\"colorbar\":{\"outlinewidth\":1,\"tickcolor\":\"rgb(36,36,36)\",\"ticks\":\"outside\"}},\"marker\":{\"colorbar\":{\"outlinewidth\":1,\"tickcolor\":\"rgb(36,36,36)\",\"ticks\":\"outside\"}}}],\"scattermapbox\":[{\"type\":\"scattermapbox\",\"marker\":{\"colorbar\":{\"outlinewidth\":1,\"tickcolor\":\"rgb(36,36,36)\",\"ticks\":\"outside\"}}}],\"scatterternary\":[{\"type\":\"scatterternary\",\"marker\":{\"colorbar\":{\"outlinewidth\":1,\"tickcolor\":\"rgb(36,36,36)\",\"ticks\":\"outside\"}}}],\"scattercarpet\":[{\"type\":\"scattercarpet\",\"marker\":{\"colorbar\":{\"outlinewidth\":1,\"tickcolor\":\"rgb(36,36,36)\",\"ticks\":\"outside\"}}}],\"carpet\":[{\"aaxis\":{\"endlinecolor\":\"rgb(36,36,36)\",\"gridcolor\":\"white\",\"linecolor\":\"white\",\"minorgridcolor\":\"white\",\"startlinecolor\":\"rgb(36,36,36)\"},\"baxis\":{\"endlinecolor\":\"rgb(36,36,36)\",\"gridcolor\":\"white\",\"linecolor\":\"white\",\"minorgridcolor\":\"white\",\"startlinecolor\":\"rgb(36,36,36)\"},\"type\":\"carpet\"}],\"table\":[{\"cells\":{\"fill\":{\"color\":\"rgb(237,237,237)\"},\"line\":{\"color\":\"white\"}},\"header\":{\"fill\":{\"color\":\"rgb(217,217,217)\"},\"line\":{\"color\":\"white\"}},\"type\":\"table\"}],\"barpolar\":[{\"marker\":{\"line\":{\"color\":\"white\",\"width\":0.5},\"pattern\":{\"fillmode\":\"overlay\",\"size\":10,\"solidity\":0.2}},\"type\":\"barpolar\"}],\"pie\":[{\"automargin\":true,\"type\":\"pie\"}]},\"layout\":{\"autotypenumbers\":\"strict\",\"colorway\":[\"#1F77B4\",\"#FF7F0E\",\"#2CA02C\",\"#D62728\",\"#9467BD\",\"#8C564B\",\"#E377C2\",\"#7F7F7F\",\"#BCBD22\",\"#17BECF\"],\"font\":{\"color\":\"rgb(36,36,36)\"},\"hovermode\":\"closest\",\"hoverlabel\":{\"align\":\"left\"},\"paper_bgcolor\":\"white\",\"plot_bgcolor\":\"white\",\"polar\":{\"bgcolor\":\"white\",\"angularaxis\":{\"gridcolor\":\"rgb(232,232,232)\",\"linecolor\":\"rgb(36,36,36)\",\"showgrid\":false,\"showline\":true,\"ticks\":\"outside\"},\"radialaxis\":{\"gridcolor\":\"rgb(232,232,232)\",\"linecolor\":\"rgb(36,36,36)\",\"showgrid\":false,\"showline\":true,\"ticks\":\"outside\"}},\"ternary\":{\"bgcolor\":\"white\",\"aaxis\":{\"gridcolor\":\"rgb(232,232,232)\",\"linecolor\":\"rgb(36,36,36)\",\"showgrid\":false,\"showline\":true,\"ticks\":\"outside\"},\"baxis\":{\"gridcolor\":\"rgb(232,232,232)\",\"linecolor\":\"rgb(36,36,36)\",\"showgrid\":false,\"showline\":true,\"ticks\":\"outside\"},\"caxis\":{\"gridcolor\":\"rgb(232,232,232)\",\"linecolor\":\"rgb(36,36,36)\",\"showgrid\":false,\"showline\":true,\"ticks\":\"outside\"}},\"coloraxis\":{\"colorbar\":{\"outlinewidth\":1,\"tickcolor\":\"rgb(36,36,36)\",\"ticks\":\"outside\"}},\"colorscale\":{\"sequential\":[[0.0,\"#440154\"],[0.1111111111111111,\"#482878\"],[0.2222222222222222,\"#3e4989\"],[0.3333333333333333,\"#31688e\"],[0.4444444444444444,\"#26828e\"],[0.5555555555555556,\"#1f9e89\"],[0.6666666666666666,\"#35b779\"],[0.7777777777777778,\"#6ece58\"],[0.8888888888888888,\"#b5de2b\"],[1.0,\"#fde725\"]],\"sequentialminus\":[[0.0,\"#440154\"],[0.1111111111111111,\"#482878\"],[0.2222222222222222,\"#3e4989\"],[0.3333333333333333,\"#31688e\"],[0.4444444444444444,\"#26828e\"],[0.5555555555555556,\"#1f9e89\"],[0.6666666666666666,\"#35b779\"],[0.7777777777777778,\"#6ece58\"],[0.8888888888888888,\"#b5de2b\"],[1.0,\"#fde725\"]],\"diverging\":[[0.0,\"rgb(103,0,31)\"],[0.1,\"rgb(178,24,43)\"],[0.2,\"rgb(214,96,77)\"],[0.3,\"rgb(244,165,130)\"],[0.4,\"rgb(253,219,199)\"],[0.5,\"rgb(247,247,247)\"],[0.6,\"rgb(209,229,240)\"],[0.7,\"rgb(146,197,222)\"],[0.8,\"rgb(67,147,195)\"],[0.9,\"rgb(33,102,172)\"],[1.0,\"rgb(5,48,97)\"]]},\"xaxis\":{\"gridcolor\":\"rgb(232,232,232)\",\"linecolor\":\"rgb(36,36,36)\",\"showgrid\":false,\"showline\":true,\"ticks\":\"outside\",\"title\":{\"standoff\":15},\"zerolinecolor\":\"rgb(36,36,36)\",\"automargin\":true,\"zeroline\":false},\"yaxis\":{\"gridcolor\":\"rgb(232,232,232)\",\"linecolor\":\"rgb(36,36,36)\",\"showgrid\":false,\"showline\":true,\"ticks\":\"outside\",\"title\":{\"standoff\":15},\"zerolinecolor\":\"rgb(36,36,36)\",\"automargin\":true,\"zeroline\":false},\"scene\":{\"xaxis\":{\"backgroundcolor\":\"white\",\"gridcolor\":\"rgb(232,232,232)\",\"linecolor\":\"rgb(36,36,36)\",\"showbackground\":true,\"showgrid\":false,\"showline\":true,\"ticks\":\"outside\",\"zerolinecolor\":\"rgb(36,36,36)\",\"gridwidth\":2,\"zeroline\":false},\"yaxis\":{\"backgroundcolor\":\"white\",\"gridcolor\":\"rgb(232,232,232)\",\"linecolor\":\"rgb(36,36,36)\",\"showbackground\":true,\"showgrid\":false,\"showline\":true,\"ticks\":\"outside\",\"zerolinecolor\":\"rgb(36,36,36)\",\"gridwidth\":2,\"zeroline\":false},\"zaxis\":{\"backgroundcolor\":\"white\",\"gridcolor\":\"rgb(232,232,232)\",\"linecolor\":\"rgb(36,36,36)\",\"showbackground\":true,\"showgrid\":false,\"showline\":true,\"ticks\":\"outside\",\"zerolinecolor\":\"rgb(36,36,36)\",\"gridwidth\":2,\"zeroline\":false}},\"shapedefaults\":{\"fillcolor\":\"black\",\"line\":{\"width\":0},\"opacity\":0.3},\"annotationdefaults\":{\"arrowhead\":0,\"arrowwidth\":1},\"geo\":{\"bgcolor\":\"white\",\"landcolor\":\"white\",\"subunitcolor\":\"white\",\"showland\":true,\"showlakes\":true,\"lakecolor\":\"white\"},\"title\":{\"x\":0.05},\"mapbox\":{\"style\":\"light\"}}},\"xaxis\":{\"anchor\":\"y\",\"domain\":[0.0,1.0],\"title\":{\"text\":\"Article feature\"}},\"yaxis\":{\"anchor\":\"x\",\"domain\":[0.0,1.0],\"title\":{\"text\":\"Count\"}},\"legend\":{\"tracegroupgap\":0},\"title\":{\"text\":\"Potential causes for losing standard quality of CX-created articles (at creation to latest)\\u003cbr\\u003e\\u003cbr\\u003e                    \\u003csup\\u003ein total 23467 articles lost standard quality; as of March 2025\\u003c\\u002fsup\\u003e\",\"x\":0.5,\"xanchor\":\"center\"},\"barmode\":\"relative\",\"width\":1000,\"height\":400},                        {\"responsive\": true}                    ).then(function(){\n",
       "                            \n",
       "var gd = document.getElementById('98c089e2-ab06-4ef7-8964-f9060baa7081');\n",
       "var x = new MutationObserver(function (mutations, observer) {{\n",
       "        var display = window.getComputedStyle(gd).display;\n",
       "        if (!display || display === 'none') {{\n",
       "            console.log([gd, 'removed!']);\n",
       "            Plotly.purge(gd);\n",
       "            observer.disconnect();\n",
       "        }}\n",
       "}});\n",
       "\n",
       "// Listen for the removal of the full notebook cells\n",
       "var notebookContainer = gd.closest('#notebook-container');\n",
       "if (notebookContainer) {{\n",
       "    x.observe(notebookContainer, {childList: true});\n",
       "}}\n",
       "\n",
       "// Listen for the clearing of the current output cell\n",
       "var outputEl = gd.closest('.output');\n",
       "if (outputEl) {{\n",
       "    x.observe(outputEl, {childList: true});\n",
       "}}\n",
       "\n",
       "                        })                };                });            </script>        </div>"
      ]
     },
     "metadata": {},
     "output_type": "display_data"
    }
   ],
   "source": [
    "#| column: page-right\n",
    "\n",
    "fig = px.bar(\n",
    "    stand_qual_reduction_reasons.sort_values('Count', ascending=False),\n",
    "    x='Article feature',\n",
    "    y='Count',\n",
    "    title='Potential causes for losing standard quality of CX-created articles (at creation to latest)',\n",
    "    text='Count'\n",
    ")\n",
    "\n",
    "fig.update_layout(\n",
    "    title={\n",
    "        'text': f'Potential causes for losing standard quality of CX-created articles (at creation to latest)<br><br>\\\n",
    "                    <sup>in total {n_lost_std_qual} articles lost standard quality; as of March 2025</sup>',\n",
    "        'x': 0.5,\n",
    "        'xanchor': 'center'\n",
    "    },\n",
    "    width=1000, height=400\n",
    ")\n",
    "fig.show()"
   ]
  },
  {
   "cell_type": "markdown",
   "id": "1aec4c70-1647-4adb-b388-47e7854c17cb",
   "metadata": {},
   "source": [
    "::: {.callout-tip title=\"Summary\" icon=\"false\" collapse=false}\n",
    "\n",
    "* 23K articles (~1% of the total) met the standard quality at the time of creation but not at the latest snapshot.\n",
    "* Of these, the three most common potential causes are reduction in length, decrease in wikilinks, and removal of references.\n",
    "* While the reduction in references and headers is also a substantial potential cause, they may be associated with content removal, which, along with reduced length, may also result in the removal of links, references, and sections.\n",
    "* Note: The potential causes are exploratory based on the available data and do not imply direct causation, as there may be other contributing factors.\n",
    "\n",
    ":::"
   ]
  },
  {
   "cell_type": "markdown",
   "id": "4c2c8d08-a4fc-4035-b1db-516fb6a2c527",
   "metadata": {},
   "source": [
    "### Causes for quality increase"
   ]
  },
  {
   "cell_type": "code",
   "execution_count": 244,
   "id": "9d0ce385-d790-43a1-9a4f-68140bb385c8",
   "metadata": {},
   "outputs": [],
   "source": [
    "std_qual_user_experience = con.sql(\"\"\"\n",
    "WITH improved AS (\n",
    "    SELECT\n",
    "        i.wiki_db,\n",
    "        i.page_id,\n",
    "        i.user_edit_count,\n",
    "        i.user_article_count,\n",
    "        i.user_cx_article_count,\n",
    "        CONCAT_WS('-', i.wiki_db, i.page_id) AS db_page_id,\n",
    "        CASE \n",
    "            WHEN (i.is_std_qual = 0 AND l.is_std_qual = 1) THEN 'increased'\n",
    "            WHEN (i.is_std_qual = 0 AND l.is_std_qual = 0) THEN 'no change'\n",
    "            WHEN (i.is_std_qual = 1 AND l.is_std_qual = 0) THEN 'decreased'\n",
    "        END AS quality_change\n",
    "    FROM\n",
    "        cx_init i\n",
    "    JOIN\n",
    "        cx_latest l\n",
    "        ON i.wiki_db = l.wiki_db\n",
    "           AND i.page_id = l.page_id\n",
    "    WHERE\n",
    "        NOT (i.is_std_qual = 1 AND l.is_std_qual = 1)\n",
    ")\n",
    "\n",
    "SELECT \n",
    "    * \n",
    "FROM \n",
    "    improved\n",
    "\"\"\").df()"
   ]
  },
  {
   "cell_type": "code",
   "execution_count": 245,
   "id": "d0f6213e-d1ef-4bc4-9d3a-cb1fff0c09bf",
   "metadata": {},
   "outputs": [],
   "source": [
    "stand_qual_growth_reasons = con.sql(\"\"\"\n",
    "WITH base AS (\n",
    "    SELECT\n",
    "        i.wiki_db,\n",
    "        i.page_id,\n",
    "        CONCAT_WS('-', i.wiki_db, i.page_id) AS db_page_id,\n",
    "        i.is_std_qual AS is_std_qual_init,\n",
    "        l.is_std_qual AS is_std_qual_latest,\n",
    "        i.page_length AS page_length_init,\n",
    "        l.page_length AS page_length_latest,\n",
    "        i.num_refs AS num_refs_init,\n",
    "        l.num_refs AS num_refs_latest,\n",
    "        i.num_wikilinks AS num_wikilinks_init,\n",
    "        l.num_wikilinks AS num_wikilinks_latest,\n",
    "        i.num_categories AS num_categories_init,\n",
    "        l.num_categories AS num_categories_latest,\n",
    "        i.num_media AS num_media_init,\n",
    "        l.num_media AS num_media_latest,\n",
    "        i.num_headings AS num_headings_init,\n",
    "        l.num_headings AS num_headings_latest\n",
    "    FROM\n",
    "        cx_init i\n",
    "    JOIN\n",
    "        cx_latest l\n",
    "        ON i.wiki_db = l.wiki_db\n",
    "           AND i.page_id = l.page_id\n",
    "    WHERE\n",
    "        i.is_std_qual = 0 AND l.is_std_qual = 1\n",
    ")\n",
    "\n",
    "SELECT\n",
    "    COUNT_IF(page_length_latest > page_length_init) AS increased_length,\n",
    "    COUNT_IF(num_refs_latest > num_refs_init) AS increased_refs,\n",
    "    COUNT_IF(num_wikilinks_latest > num_wikilinks_init) AS increased_wikilinks,\n",
    "    COUNT_IF(num_categories_latest > num_categories_init) AS increased_categories,\n",
    "    COUNT_IF(num_media_latest > num_media_init) AS increased_media,\n",
    "    COUNT_IF(num_headings_latest > num_headings_init) AS increased_headings\n",
    "FROM\n",
    "    base\n",
    "\"\"\").df().transpose().reset_index()\n",
    "\n",
    "\n",
    "stand_qual_growth_reasons = stand_qual_growth_reasons.rename({\n",
    "    'index': 'Article feature',\n",
    "    0: 'Count'\n",
    "}, axis=1)"
   ]
  },
  {
   "cell_type": "code",
   "execution_count": 246,
   "id": "29e99132-874e-4d2d-8bff-3b854b496662",
   "metadata": {},
   "outputs": [
    {
     "data": {
      "application/vnd.plotly.v1+json": {
       "config": {
        "plotlyServerURL": "https://plot.ly"
       },
       "data": [
        {
         "alignmentgroup": "True",
         "hovertemplate": "Article feature=%{x}<br>Count=%{text}<extra></extra>",
         "legendgroup": "",
         "marker": {
          "color": "#1F77B4",
          "pattern": {
           "shape": ""
          }
         },
         "name": "",
         "offsetgroup": "",
         "orientation": "v",
         "showlegend": false,
         "text": [
          113939,
          105581,
          91034,
          86740,
          76767,
          74026
         ],
         "textposition": "auto",
         "type": "bar",
         "x": [
          "increased_length",
          "increased_wikilinks",
          "increased_headings",
          "increased_refs",
          "increased_media",
          "increased_categories"
         ],
         "xaxis": "x",
         "y": [
          113939,
          105581,
          91034,
          86740,
          76767,
          74026
         ],
         "yaxis": "y"
        }
       ],
       "layout": {
        "barmode": "relative",
        "height": 400,
        "legend": {
         "tracegroupgap": 0
        },
        "margin": {
         "t": 60
        },
        "template": {
         "data": {
          "bar": [
           {
            "error_x": {
             "color": "rgb(36,36,36)"
            },
            "error_y": {
             "color": "rgb(36,36,36)"
            },
            "marker": {
             "line": {
              "color": "white",
              "width": 0.5
             },
             "pattern": {
              "fillmode": "overlay",
              "size": 10,
              "solidity": 0.2
             }
            },
            "type": "bar"
           }
          ],
          "barpolar": [
           {
            "marker": {
             "line": {
              "color": "white",
              "width": 0.5
             },
             "pattern": {
              "fillmode": "overlay",
              "size": 10,
              "solidity": 0.2
             }
            },
            "type": "barpolar"
           }
          ],
          "carpet": [
           {
            "aaxis": {
             "endlinecolor": "rgb(36,36,36)",
             "gridcolor": "white",
             "linecolor": "white",
             "minorgridcolor": "white",
             "startlinecolor": "rgb(36,36,36)"
            },
            "baxis": {
             "endlinecolor": "rgb(36,36,36)",
             "gridcolor": "white",
             "linecolor": "white",
             "minorgridcolor": "white",
             "startlinecolor": "rgb(36,36,36)"
            },
            "type": "carpet"
           }
          ],
          "choropleth": [
           {
            "colorbar": {
             "outlinewidth": 1,
             "tickcolor": "rgb(36,36,36)",
             "ticks": "outside"
            },
            "type": "choropleth"
           }
          ],
          "contour": [
           {
            "colorbar": {
             "outlinewidth": 1,
             "tickcolor": "rgb(36,36,36)",
             "ticks": "outside"
            },
            "colorscale": [
             [
              0,
              "#440154"
             ],
             [
              0.1111111111111111,
              "#482878"
             ],
             [
              0.2222222222222222,
              "#3e4989"
             ],
             [
              0.3333333333333333,
              "#31688e"
             ],
             [
              0.4444444444444444,
              "#26828e"
             ],
             [
              0.5555555555555556,
              "#1f9e89"
             ],
             [
              0.6666666666666666,
              "#35b779"
             ],
             [
              0.7777777777777778,
              "#6ece58"
             ],
             [
              0.8888888888888888,
              "#b5de2b"
             ],
             [
              1,
              "#fde725"
             ]
            ],
            "type": "contour"
           }
          ],
          "contourcarpet": [
           {
            "colorbar": {
             "outlinewidth": 1,
             "tickcolor": "rgb(36,36,36)",
             "ticks": "outside"
            },
            "type": "contourcarpet"
           }
          ],
          "heatmap": [
           {
            "colorbar": {
             "outlinewidth": 1,
             "tickcolor": "rgb(36,36,36)",
             "ticks": "outside"
            },
            "colorscale": [
             [
              0,
              "#440154"
             ],
             [
              0.1111111111111111,
              "#482878"
             ],
             [
              0.2222222222222222,
              "#3e4989"
             ],
             [
              0.3333333333333333,
              "#31688e"
             ],
             [
              0.4444444444444444,
              "#26828e"
             ],
             [
              0.5555555555555556,
              "#1f9e89"
             ],
             [
              0.6666666666666666,
              "#35b779"
             ],
             [
              0.7777777777777778,
              "#6ece58"
             ],
             [
              0.8888888888888888,
              "#b5de2b"
             ],
             [
              1,
              "#fde725"
             ]
            ],
            "type": "heatmap"
           }
          ],
          "heatmapgl": [
           {
            "colorbar": {
             "outlinewidth": 1,
             "tickcolor": "rgb(36,36,36)",
             "ticks": "outside"
            },
            "colorscale": [
             [
              0,
              "#440154"
             ],
             [
              0.1111111111111111,
              "#482878"
             ],
             [
              0.2222222222222222,
              "#3e4989"
             ],
             [
              0.3333333333333333,
              "#31688e"
             ],
             [
              0.4444444444444444,
              "#26828e"
             ],
             [
              0.5555555555555556,
              "#1f9e89"
             ],
             [
              0.6666666666666666,
              "#35b779"
             ],
             [
              0.7777777777777778,
              "#6ece58"
             ],
             [
              0.8888888888888888,
              "#b5de2b"
             ],
             [
              1,
              "#fde725"
             ]
            ],
            "type": "heatmapgl"
           }
          ],
          "histogram": [
           {
            "marker": {
             "line": {
              "color": "white",
              "width": 0.6
             }
            },
            "type": "histogram"
           }
          ],
          "histogram2d": [
           {
            "colorbar": {
             "outlinewidth": 1,
             "tickcolor": "rgb(36,36,36)",
             "ticks": "outside"
            },
            "colorscale": [
             [
              0,
              "#440154"
             ],
             [
              0.1111111111111111,
              "#482878"
             ],
             [
              0.2222222222222222,
              "#3e4989"
             ],
             [
              0.3333333333333333,
              "#31688e"
             ],
             [
              0.4444444444444444,
              "#26828e"
             ],
             [
              0.5555555555555556,
              "#1f9e89"
             ],
             [
              0.6666666666666666,
              "#35b779"
             ],
             [
              0.7777777777777778,
              "#6ece58"
             ],
             [
              0.8888888888888888,
              "#b5de2b"
             ],
             [
              1,
              "#fde725"
             ]
            ],
            "type": "histogram2d"
           }
          ],
          "histogram2dcontour": [
           {
            "colorbar": {
             "outlinewidth": 1,
             "tickcolor": "rgb(36,36,36)",
             "ticks": "outside"
            },
            "colorscale": [
             [
              0,
              "#440154"
             ],
             [
              0.1111111111111111,
              "#482878"
             ],
             [
              0.2222222222222222,
              "#3e4989"
             ],
             [
              0.3333333333333333,
              "#31688e"
             ],
             [
              0.4444444444444444,
              "#26828e"
             ],
             [
              0.5555555555555556,
              "#1f9e89"
             ],
             [
              0.6666666666666666,
              "#35b779"
             ],
             [
              0.7777777777777778,
              "#6ece58"
             ],
             [
              0.8888888888888888,
              "#b5de2b"
             ],
             [
              1,
              "#fde725"
             ]
            ],
            "type": "histogram2dcontour"
           }
          ],
          "mesh3d": [
           {
            "colorbar": {
             "outlinewidth": 1,
             "tickcolor": "rgb(36,36,36)",
             "ticks": "outside"
            },
            "type": "mesh3d"
           }
          ],
          "parcoords": [
           {
            "line": {
             "colorbar": {
              "outlinewidth": 1,
              "tickcolor": "rgb(36,36,36)",
              "ticks": "outside"
             }
            },
            "type": "parcoords"
           }
          ],
          "pie": [
           {
            "automargin": true,
            "type": "pie"
           }
          ],
          "scatter": [
           {
            "fillpattern": {
             "fillmode": "overlay",
             "size": 10,
             "solidity": 0.2
            },
            "type": "scatter"
           }
          ],
          "scatter3d": [
           {
            "line": {
             "colorbar": {
              "outlinewidth": 1,
              "tickcolor": "rgb(36,36,36)",
              "ticks": "outside"
             }
            },
            "marker": {
             "colorbar": {
              "outlinewidth": 1,
              "tickcolor": "rgb(36,36,36)",
              "ticks": "outside"
             }
            },
            "type": "scatter3d"
           }
          ],
          "scattercarpet": [
           {
            "marker": {
             "colorbar": {
              "outlinewidth": 1,
              "tickcolor": "rgb(36,36,36)",
              "ticks": "outside"
             }
            },
            "type": "scattercarpet"
           }
          ],
          "scattergeo": [
           {
            "marker": {
             "colorbar": {
              "outlinewidth": 1,
              "tickcolor": "rgb(36,36,36)",
              "ticks": "outside"
             }
            },
            "type": "scattergeo"
           }
          ],
          "scattergl": [
           {
            "marker": {
             "colorbar": {
              "outlinewidth": 1,
              "tickcolor": "rgb(36,36,36)",
              "ticks": "outside"
             }
            },
            "type": "scattergl"
           }
          ],
          "scattermapbox": [
           {
            "marker": {
             "colorbar": {
              "outlinewidth": 1,
              "tickcolor": "rgb(36,36,36)",
              "ticks": "outside"
             }
            },
            "type": "scattermapbox"
           }
          ],
          "scatterpolar": [
           {
            "marker": {
             "colorbar": {
              "outlinewidth": 1,
              "tickcolor": "rgb(36,36,36)",
              "ticks": "outside"
             }
            },
            "type": "scatterpolar"
           }
          ],
          "scatterpolargl": [
           {
            "marker": {
             "colorbar": {
              "outlinewidth": 1,
              "tickcolor": "rgb(36,36,36)",
              "ticks": "outside"
             }
            },
            "type": "scatterpolargl"
           }
          ],
          "scatterternary": [
           {
            "marker": {
             "colorbar": {
              "outlinewidth": 1,
              "tickcolor": "rgb(36,36,36)",
              "ticks": "outside"
             }
            },
            "type": "scatterternary"
           }
          ],
          "surface": [
           {
            "colorbar": {
             "outlinewidth": 1,
             "tickcolor": "rgb(36,36,36)",
             "ticks": "outside"
            },
            "colorscale": [
             [
              0,
              "#440154"
             ],
             [
              0.1111111111111111,
              "#482878"
             ],
             [
              0.2222222222222222,
              "#3e4989"
             ],
             [
              0.3333333333333333,
              "#31688e"
             ],
             [
              0.4444444444444444,
              "#26828e"
             ],
             [
              0.5555555555555556,
              "#1f9e89"
             ],
             [
              0.6666666666666666,
              "#35b779"
             ],
             [
              0.7777777777777778,
              "#6ece58"
             ],
             [
              0.8888888888888888,
              "#b5de2b"
             ],
             [
              1,
              "#fde725"
             ]
            ],
            "type": "surface"
           }
          ],
          "table": [
           {
            "cells": {
             "fill": {
              "color": "rgb(237,237,237)"
             },
             "line": {
              "color": "white"
             }
            },
            "header": {
             "fill": {
              "color": "rgb(217,217,217)"
             },
             "line": {
              "color": "white"
             }
            },
            "type": "table"
           }
          ]
         },
         "layout": {
          "annotationdefaults": {
           "arrowhead": 0,
           "arrowwidth": 1
          },
          "autotypenumbers": "strict",
          "coloraxis": {
           "colorbar": {
            "outlinewidth": 1,
            "tickcolor": "rgb(36,36,36)",
            "ticks": "outside"
           }
          },
          "colorscale": {
           "diverging": [
            [
             0,
             "rgb(103,0,31)"
            ],
            [
             0.1,
             "rgb(178,24,43)"
            ],
            [
             0.2,
             "rgb(214,96,77)"
            ],
            [
             0.3,
             "rgb(244,165,130)"
            ],
            [
             0.4,
             "rgb(253,219,199)"
            ],
            [
             0.5,
             "rgb(247,247,247)"
            ],
            [
             0.6,
             "rgb(209,229,240)"
            ],
            [
             0.7,
             "rgb(146,197,222)"
            ],
            [
             0.8,
             "rgb(67,147,195)"
            ],
            [
             0.9,
             "rgb(33,102,172)"
            ],
            [
             1,
             "rgb(5,48,97)"
            ]
           ],
           "sequential": [
            [
             0,
             "#440154"
            ],
            [
             0.1111111111111111,
             "#482878"
            ],
            [
             0.2222222222222222,
             "#3e4989"
            ],
            [
             0.3333333333333333,
             "#31688e"
            ],
            [
             0.4444444444444444,
             "#26828e"
            ],
            [
             0.5555555555555556,
             "#1f9e89"
            ],
            [
             0.6666666666666666,
             "#35b779"
            ],
            [
             0.7777777777777778,
             "#6ece58"
            ],
            [
             0.8888888888888888,
             "#b5de2b"
            ],
            [
             1,
             "#fde725"
            ]
           ],
           "sequentialminus": [
            [
             0,
             "#440154"
            ],
            [
             0.1111111111111111,
             "#482878"
            ],
            [
             0.2222222222222222,
             "#3e4989"
            ],
            [
             0.3333333333333333,
             "#31688e"
            ],
            [
             0.4444444444444444,
             "#26828e"
            ],
            [
             0.5555555555555556,
             "#1f9e89"
            ],
            [
             0.6666666666666666,
             "#35b779"
            ],
            [
             0.7777777777777778,
             "#6ece58"
            ],
            [
             0.8888888888888888,
             "#b5de2b"
            ],
            [
             1,
             "#fde725"
            ]
           ]
          },
          "colorway": [
           "#1F77B4",
           "#FF7F0E",
           "#2CA02C",
           "#D62728",
           "#9467BD",
           "#8C564B",
           "#E377C2",
           "#7F7F7F",
           "#BCBD22",
           "#17BECF"
          ],
          "font": {
           "color": "rgb(36,36,36)"
          },
          "geo": {
           "bgcolor": "white",
           "lakecolor": "white",
           "landcolor": "white",
           "showlakes": true,
           "showland": true,
           "subunitcolor": "white"
          },
          "hoverlabel": {
           "align": "left"
          },
          "hovermode": "closest",
          "mapbox": {
           "style": "light"
          },
          "paper_bgcolor": "white",
          "plot_bgcolor": "white",
          "polar": {
           "angularaxis": {
            "gridcolor": "rgb(232,232,232)",
            "linecolor": "rgb(36,36,36)",
            "showgrid": false,
            "showline": true,
            "ticks": "outside"
           },
           "bgcolor": "white",
           "radialaxis": {
            "gridcolor": "rgb(232,232,232)",
            "linecolor": "rgb(36,36,36)",
            "showgrid": false,
            "showline": true,
            "ticks": "outside"
           }
          },
          "scene": {
           "xaxis": {
            "backgroundcolor": "white",
            "gridcolor": "rgb(232,232,232)",
            "gridwidth": 2,
            "linecolor": "rgb(36,36,36)",
            "showbackground": true,
            "showgrid": false,
            "showline": true,
            "ticks": "outside",
            "zeroline": false,
            "zerolinecolor": "rgb(36,36,36)"
           },
           "yaxis": {
            "backgroundcolor": "white",
            "gridcolor": "rgb(232,232,232)",
            "gridwidth": 2,
            "linecolor": "rgb(36,36,36)",
            "showbackground": true,
            "showgrid": false,
            "showline": true,
            "ticks": "outside",
            "zeroline": false,
            "zerolinecolor": "rgb(36,36,36)"
           },
           "zaxis": {
            "backgroundcolor": "white",
            "gridcolor": "rgb(232,232,232)",
            "gridwidth": 2,
            "linecolor": "rgb(36,36,36)",
            "showbackground": true,
            "showgrid": false,
            "showline": true,
            "ticks": "outside",
            "zeroline": false,
            "zerolinecolor": "rgb(36,36,36)"
           }
          },
          "shapedefaults": {
           "fillcolor": "black",
           "line": {
            "width": 0
           },
           "opacity": 0.3
          },
          "ternary": {
           "aaxis": {
            "gridcolor": "rgb(232,232,232)",
            "linecolor": "rgb(36,36,36)",
            "showgrid": false,
            "showline": true,
            "ticks": "outside"
           },
           "baxis": {
            "gridcolor": "rgb(232,232,232)",
            "linecolor": "rgb(36,36,36)",
            "showgrid": false,
            "showline": true,
            "ticks": "outside"
           },
           "bgcolor": "white",
           "caxis": {
            "gridcolor": "rgb(232,232,232)",
            "linecolor": "rgb(36,36,36)",
            "showgrid": false,
            "showline": true,
            "ticks": "outside"
           }
          },
          "title": {
           "x": 0.05
          },
          "xaxis": {
           "automargin": true,
           "gridcolor": "rgb(232,232,232)",
           "linecolor": "rgb(36,36,36)",
           "showgrid": false,
           "showline": true,
           "ticks": "outside",
           "title": {
            "standoff": 15
           },
           "zeroline": false,
           "zerolinecolor": "rgb(36,36,36)"
          },
          "yaxis": {
           "automargin": true,
           "gridcolor": "rgb(232,232,232)",
           "linecolor": "rgb(36,36,36)",
           "showgrid": false,
           "showline": true,
           "ticks": "outside",
           "title": {
            "standoff": 15
           },
           "zeroline": false,
           "zerolinecolor": "rgb(36,36,36)"
          }
         }
        },
        "title": {
         "text": "Potential causes for gaining standard quality of CX-created articles (at creation to latest)<br><br>                    <sup>in total 123156 articles lost standard quality; as March 2025</sup>",
         "x": 0.5,
         "xanchor": "center"
        },
        "width": 1000,
        "xaxis": {
         "anchor": "y",
         "domain": [
          0,
          1
         ],
         "title": {
          "text": "Article feature"
         }
        },
        "yaxis": {
         "anchor": "x",
         "domain": [
          0,
          1
         ],
         "title": {
          "text": "Count"
         }
        }
       }
      },
      "text/html": [
       "<div>                            <div id=\"d3a7746f-1114-4e63-aa1a-9225dc726628\" class=\"plotly-graph-div\" style=\"height:400px; width:1000px;\"></div>            <script type=\"text/javascript\">                require([\"plotly\"], function(Plotly) {                    window.PLOTLYENV=window.PLOTLYENV || {};                                    if (document.getElementById(\"d3a7746f-1114-4e63-aa1a-9225dc726628\")) {                    Plotly.newPlot(                        \"d3a7746f-1114-4e63-aa1a-9225dc726628\",                        [{\"alignmentgroup\":\"True\",\"hovertemplate\":\"Article feature=%{x}\\u003cbr\\u003eCount=%{text}\\u003cextra\\u003e\\u003c\\u002fextra\\u003e\",\"legendgroup\":\"\",\"marker\":{\"color\":\"#1F77B4\",\"pattern\":{\"shape\":\"\"}},\"name\":\"\",\"offsetgroup\":\"\",\"orientation\":\"v\",\"showlegend\":false,\"text\":[113939.0,105581.0,91034.0,86740.0,76767.0,74026.0],\"textposition\":\"auto\",\"x\":[\"increased_length\",\"increased_wikilinks\",\"increased_headings\",\"increased_refs\",\"increased_media\",\"increased_categories\"],\"xaxis\":\"x\",\"y\":[113939.0,105581.0,91034.0,86740.0,76767.0,74026.0],\"yaxis\":\"y\",\"type\":\"bar\"}],                        {\"template\":{\"data\":{\"histogram2dcontour\":[{\"type\":\"histogram2dcontour\",\"colorbar\":{\"outlinewidth\":1,\"tickcolor\":\"rgb(36,36,36)\",\"ticks\":\"outside\"},\"colorscale\":[[0.0,\"#440154\"],[0.1111111111111111,\"#482878\"],[0.2222222222222222,\"#3e4989\"],[0.3333333333333333,\"#31688e\"],[0.4444444444444444,\"#26828e\"],[0.5555555555555556,\"#1f9e89\"],[0.6666666666666666,\"#35b779\"],[0.7777777777777778,\"#6ece58\"],[0.8888888888888888,\"#b5de2b\"],[1.0,\"#fde725\"]]}],\"choropleth\":[{\"type\":\"choropleth\",\"colorbar\":{\"outlinewidth\":1,\"tickcolor\":\"rgb(36,36,36)\",\"ticks\":\"outside\"}}],\"histogram2d\":[{\"type\":\"histogram2d\",\"colorbar\":{\"outlinewidth\":1,\"tickcolor\":\"rgb(36,36,36)\",\"ticks\":\"outside\"},\"colorscale\":[[0.0,\"#440154\"],[0.1111111111111111,\"#482878\"],[0.2222222222222222,\"#3e4989\"],[0.3333333333333333,\"#31688e\"],[0.4444444444444444,\"#26828e\"],[0.5555555555555556,\"#1f9e89\"],[0.6666666666666666,\"#35b779\"],[0.7777777777777778,\"#6ece58\"],[0.8888888888888888,\"#b5de2b\"],[1.0,\"#fde725\"]]}],\"heatmap\":[{\"type\":\"heatmap\",\"colorbar\":{\"outlinewidth\":1,\"tickcolor\":\"rgb(36,36,36)\",\"ticks\":\"outside\"},\"colorscale\":[[0.0,\"#440154\"],[0.1111111111111111,\"#482878\"],[0.2222222222222222,\"#3e4989\"],[0.3333333333333333,\"#31688e\"],[0.4444444444444444,\"#26828e\"],[0.5555555555555556,\"#1f9e89\"],[0.6666666666666666,\"#35b779\"],[0.7777777777777778,\"#6ece58\"],[0.8888888888888888,\"#b5de2b\"],[1.0,\"#fde725\"]]}],\"heatmapgl\":[{\"type\":\"heatmapgl\",\"colorbar\":{\"outlinewidth\":1,\"tickcolor\":\"rgb(36,36,36)\",\"ticks\":\"outside\"},\"colorscale\":[[0.0,\"#440154\"],[0.1111111111111111,\"#482878\"],[0.2222222222222222,\"#3e4989\"],[0.3333333333333333,\"#31688e\"],[0.4444444444444444,\"#26828e\"],[0.5555555555555556,\"#1f9e89\"],[0.6666666666666666,\"#35b779\"],[0.7777777777777778,\"#6ece58\"],[0.8888888888888888,\"#b5de2b\"],[1.0,\"#fde725\"]]}],\"contourcarpet\":[{\"type\":\"contourcarpet\",\"colorbar\":{\"outlinewidth\":1,\"tickcolor\":\"rgb(36,36,36)\",\"ticks\":\"outside\"}}],\"contour\":[{\"type\":\"contour\",\"colorbar\":{\"outlinewidth\":1,\"tickcolor\":\"rgb(36,36,36)\",\"ticks\":\"outside\"},\"colorscale\":[[0.0,\"#440154\"],[0.1111111111111111,\"#482878\"],[0.2222222222222222,\"#3e4989\"],[0.3333333333333333,\"#31688e\"],[0.4444444444444444,\"#26828e\"],[0.5555555555555556,\"#1f9e89\"],[0.6666666666666666,\"#35b779\"],[0.7777777777777778,\"#6ece58\"],[0.8888888888888888,\"#b5de2b\"],[1.0,\"#fde725\"]]}],\"surface\":[{\"type\":\"surface\",\"colorbar\":{\"outlinewidth\":1,\"tickcolor\":\"rgb(36,36,36)\",\"ticks\":\"outside\"},\"colorscale\":[[0.0,\"#440154\"],[0.1111111111111111,\"#482878\"],[0.2222222222222222,\"#3e4989\"],[0.3333333333333333,\"#31688e\"],[0.4444444444444444,\"#26828e\"],[0.5555555555555556,\"#1f9e89\"],[0.6666666666666666,\"#35b779\"],[0.7777777777777778,\"#6ece58\"],[0.8888888888888888,\"#b5de2b\"],[1.0,\"#fde725\"]]}],\"mesh3d\":[{\"type\":\"mesh3d\",\"colorbar\":{\"outlinewidth\":1,\"tickcolor\":\"rgb(36,36,36)\",\"ticks\":\"outside\"}}],\"scatter\":[{\"fillpattern\":{\"fillmode\":\"overlay\",\"size\":10,\"solidity\":0.2},\"type\":\"scatter\"}],\"parcoords\":[{\"type\":\"parcoords\",\"line\":{\"colorbar\":{\"outlinewidth\":1,\"tickcolor\":\"rgb(36,36,36)\",\"ticks\":\"outside\"}}}],\"scatterpolargl\":[{\"type\":\"scatterpolargl\",\"marker\":{\"colorbar\":{\"outlinewidth\":1,\"tickcolor\":\"rgb(36,36,36)\",\"ticks\":\"outside\"}}}],\"bar\":[{\"error_x\":{\"color\":\"rgb(36,36,36)\"},\"error_y\":{\"color\":\"rgb(36,36,36)\"},\"marker\":{\"line\":{\"color\":\"white\",\"width\":0.5},\"pattern\":{\"fillmode\":\"overlay\",\"size\":10,\"solidity\":0.2}},\"type\":\"bar\"}],\"scattergeo\":[{\"type\":\"scattergeo\",\"marker\":{\"colorbar\":{\"outlinewidth\":1,\"tickcolor\":\"rgb(36,36,36)\",\"ticks\":\"outside\"}}}],\"scatterpolar\":[{\"type\":\"scatterpolar\",\"marker\":{\"colorbar\":{\"outlinewidth\":1,\"tickcolor\":\"rgb(36,36,36)\",\"ticks\":\"outside\"}}}],\"histogram\":[{\"marker\":{\"line\":{\"color\":\"white\",\"width\":0.6}},\"type\":\"histogram\"}],\"scattergl\":[{\"type\":\"scattergl\",\"marker\":{\"colorbar\":{\"outlinewidth\":1,\"tickcolor\":\"rgb(36,36,36)\",\"ticks\":\"outside\"}}}],\"scatter3d\":[{\"type\":\"scatter3d\",\"line\":{\"colorbar\":{\"outlinewidth\":1,\"tickcolor\":\"rgb(36,36,36)\",\"ticks\":\"outside\"}},\"marker\":{\"colorbar\":{\"outlinewidth\":1,\"tickcolor\":\"rgb(36,36,36)\",\"ticks\":\"outside\"}}}],\"scattermapbox\":[{\"type\":\"scattermapbox\",\"marker\":{\"colorbar\":{\"outlinewidth\":1,\"tickcolor\":\"rgb(36,36,36)\",\"ticks\":\"outside\"}}}],\"scatterternary\":[{\"type\":\"scatterternary\",\"marker\":{\"colorbar\":{\"outlinewidth\":1,\"tickcolor\":\"rgb(36,36,36)\",\"ticks\":\"outside\"}}}],\"scattercarpet\":[{\"type\":\"scattercarpet\",\"marker\":{\"colorbar\":{\"outlinewidth\":1,\"tickcolor\":\"rgb(36,36,36)\",\"ticks\":\"outside\"}}}],\"carpet\":[{\"aaxis\":{\"endlinecolor\":\"rgb(36,36,36)\",\"gridcolor\":\"white\",\"linecolor\":\"white\",\"minorgridcolor\":\"white\",\"startlinecolor\":\"rgb(36,36,36)\"},\"baxis\":{\"endlinecolor\":\"rgb(36,36,36)\",\"gridcolor\":\"white\",\"linecolor\":\"white\",\"minorgridcolor\":\"white\",\"startlinecolor\":\"rgb(36,36,36)\"},\"type\":\"carpet\"}],\"table\":[{\"cells\":{\"fill\":{\"color\":\"rgb(237,237,237)\"},\"line\":{\"color\":\"white\"}},\"header\":{\"fill\":{\"color\":\"rgb(217,217,217)\"},\"line\":{\"color\":\"white\"}},\"type\":\"table\"}],\"barpolar\":[{\"marker\":{\"line\":{\"color\":\"white\",\"width\":0.5},\"pattern\":{\"fillmode\":\"overlay\",\"size\":10,\"solidity\":0.2}},\"type\":\"barpolar\"}],\"pie\":[{\"automargin\":true,\"type\":\"pie\"}]},\"layout\":{\"autotypenumbers\":\"strict\",\"colorway\":[\"#1F77B4\",\"#FF7F0E\",\"#2CA02C\",\"#D62728\",\"#9467BD\",\"#8C564B\",\"#E377C2\",\"#7F7F7F\",\"#BCBD22\",\"#17BECF\"],\"font\":{\"color\":\"rgb(36,36,36)\"},\"hovermode\":\"closest\",\"hoverlabel\":{\"align\":\"left\"},\"paper_bgcolor\":\"white\",\"plot_bgcolor\":\"white\",\"polar\":{\"bgcolor\":\"white\",\"angularaxis\":{\"gridcolor\":\"rgb(232,232,232)\",\"linecolor\":\"rgb(36,36,36)\",\"showgrid\":false,\"showline\":true,\"ticks\":\"outside\"},\"radialaxis\":{\"gridcolor\":\"rgb(232,232,232)\",\"linecolor\":\"rgb(36,36,36)\",\"showgrid\":false,\"showline\":true,\"ticks\":\"outside\"}},\"ternary\":{\"bgcolor\":\"white\",\"aaxis\":{\"gridcolor\":\"rgb(232,232,232)\",\"linecolor\":\"rgb(36,36,36)\",\"showgrid\":false,\"showline\":true,\"ticks\":\"outside\"},\"baxis\":{\"gridcolor\":\"rgb(232,232,232)\",\"linecolor\":\"rgb(36,36,36)\",\"showgrid\":false,\"showline\":true,\"ticks\":\"outside\"},\"caxis\":{\"gridcolor\":\"rgb(232,232,232)\",\"linecolor\":\"rgb(36,36,36)\",\"showgrid\":false,\"showline\":true,\"ticks\":\"outside\"}},\"coloraxis\":{\"colorbar\":{\"outlinewidth\":1,\"tickcolor\":\"rgb(36,36,36)\",\"ticks\":\"outside\"}},\"colorscale\":{\"sequential\":[[0.0,\"#440154\"],[0.1111111111111111,\"#482878\"],[0.2222222222222222,\"#3e4989\"],[0.3333333333333333,\"#31688e\"],[0.4444444444444444,\"#26828e\"],[0.5555555555555556,\"#1f9e89\"],[0.6666666666666666,\"#35b779\"],[0.7777777777777778,\"#6ece58\"],[0.8888888888888888,\"#b5de2b\"],[1.0,\"#fde725\"]],\"sequentialminus\":[[0.0,\"#440154\"],[0.1111111111111111,\"#482878\"],[0.2222222222222222,\"#3e4989\"],[0.3333333333333333,\"#31688e\"],[0.4444444444444444,\"#26828e\"],[0.5555555555555556,\"#1f9e89\"],[0.6666666666666666,\"#35b779\"],[0.7777777777777778,\"#6ece58\"],[0.8888888888888888,\"#b5de2b\"],[1.0,\"#fde725\"]],\"diverging\":[[0.0,\"rgb(103,0,31)\"],[0.1,\"rgb(178,24,43)\"],[0.2,\"rgb(214,96,77)\"],[0.3,\"rgb(244,165,130)\"],[0.4,\"rgb(253,219,199)\"],[0.5,\"rgb(247,247,247)\"],[0.6,\"rgb(209,229,240)\"],[0.7,\"rgb(146,197,222)\"],[0.8,\"rgb(67,147,195)\"],[0.9,\"rgb(33,102,172)\"],[1.0,\"rgb(5,48,97)\"]]},\"xaxis\":{\"gridcolor\":\"rgb(232,232,232)\",\"linecolor\":\"rgb(36,36,36)\",\"showgrid\":false,\"showline\":true,\"ticks\":\"outside\",\"title\":{\"standoff\":15},\"zerolinecolor\":\"rgb(36,36,36)\",\"automargin\":true,\"zeroline\":false},\"yaxis\":{\"gridcolor\":\"rgb(232,232,232)\",\"linecolor\":\"rgb(36,36,36)\",\"showgrid\":false,\"showline\":true,\"ticks\":\"outside\",\"title\":{\"standoff\":15},\"zerolinecolor\":\"rgb(36,36,36)\",\"automargin\":true,\"zeroline\":false},\"scene\":{\"xaxis\":{\"backgroundcolor\":\"white\",\"gridcolor\":\"rgb(232,232,232)\",\"linecolor\":\"rgb(36,36,36)\",\"showbackground\":true,\"showgrid\":false,\"showline\":true,\"ticks\":\"outside\",\"zerolinecolor\":\"rgb(36,36,36)\",\"gridwidth\":2,\"zeroline\":false},\"yaxis\":{\"backgroundcolor\":\"white\",\"gridcolor\":\"rgb(232,232,232)\",\"linecolor\":\"rgb(36,36,36)\",\"showbackground\":true,\"showgrid\":false,\"showline\":true,\"ticks\":\"outside\",\"zerolinecolor\":\"rgb(36,36,36)\",\"gridwidth\":2,\"zeroline\":false},\"zaxis\":{\"backgroundcolor\":\"white\",\"gridcolor\":\"rgb(232,232,232)\",\"linecolor\":\"rgb(36,36,36)\",\"showbackground\":true,\"showgrid\":false,\"showline\":true,\"ticks\":\"outside\",\"zerolinecolor\":\"rgb(36,36,36)\",\"gridwidth\":2,\"zeroline\":false}},\"shapedefaults\":{\"fillcolor\":\"black\",\"line\":{\"width\":0},\"opacity\":0.3},\"annotationdefaults\":{\"arrowhead\":0,\"arrowwidth\":1},\"geo\":{\"bgcolor\":\"white\",\"landcolor\":\"white\",\"subunitcolor\":\"white\",\"showland\":true,\"showlakes\":true,\"lakecolor\":\"white\"},\"title\":{\"x\":0.05},\"mapbox\":{\"style\":\"light\"}}},\"xaxis\":{\"anchor\":\"y\",\"domain\":[0.0,1.0],\"title\":{\"text\":\"Article feature\"}},\"yaxis\":{\"anchor\":\"x\",\"domain\":[0.0,1.0],\"title\":{\"text\":\"Count\"}},\"legend\":{\"tracegroupgap\":0},\"margin\":{\"t\":60},\"barmode\":\"relative\",\"title\":{\"text\":\"Potential causes for gaining standard quality of CX-created articles (at creation to latest)\\u003cbr\\u003e\\u003cbr\\u003e                    \\u003csup\\u003ein total 123156 articles lost standard quality; as March 2025\\u003c\\u002fsup\\u003e\",\"x\":0.5,\"xanchor\":\"center\"},\"width\":1000,\"height\":400},                        {\"responsive\": true}                    ).then(function(){\n",
       "                            \n",
       "var gd = document.getElementById('d3a7746f-1114-4e63-aa1a-9225dc726628');\n",
       "var x = new MutationObserver(function (mutations, observer) {{\n",
       "        var display = window.getComputedStyle(gd).display;\n",
       "        if (!display || display === 'none') {{\n",
       "            console.log([gd, 'removed!']);\n",
       "            Plotly.purge(gd);\n",
       "            observer.disconnect();\n",
       "        }}\n",
       "}});\n",
       "\n",
       "// Listen for the removal of the full notebook cells\n",
       "var notebookContainer = gd.closest('#notebook-container');\n",
       "if (notebookContainer) {{\n",
       "    x.observe(notebookContainer, {childList: true});\n",
       "}}\n",
       "\n",
       "// Listen for the clearing of the current output cell\n",
       "var outputEl = gd.closest('.output');\n",
       "if (outputEl) {{\n",
       "    x.observe(outputEl, {childList: true});\n",
       "}}\n",
       "\n",
       "                        })                };                });            </script>        </div>"
      ]
     },
     "metadata": {},
     "output_type": "display_data"
    }
   ],
   "source": [
    "#| column: page-right\n",
    "\n",
    "fig = px.bar(\n",
    "    stand_qual_growth_reasons.sort_values('Count', ascending=False),\n",
    "    x='Article feature',\n",
    "    y='Count',\n",
    "    text='Count'\n",
    ")\n",
    "\n",
    "fig.update_layout(\n",
    "    title={\n",
    "        'text': f'Potential causes for gaining standard quality of CX-created articles (at creation to latest)<br><br>\\\n",
    "                    <sup>in total {n_gained_std_qual} articles lost standard quality; as March 2025</sup>',\n",
    "        'x': 0.5,\n",
    "        'xanchor': 'center'\n",
    "    },\n",
    "    width=1000, height=400\n",
    ")\n",
    "fig.show()\n"
   ]
  },
  {
   "cell_type": "markdown",
   "id": "848d4258-b063-437c-9b17-0bd7f514922d",
   "metadata": {},
   "source": [
    "::: {.callout-tip title=\"Summary\" icon=\"false\"}\n",
    "\n",
    "* 120K articles (~7% of the total) did not meet the standard quality at the time of creation but were later improved and, as of March 2025, meet the standard. \n",
    "* Of these, the three most common potential causes are increase in article length, addition of wikilinks, and increased headings (sections).\n",
    "* In nearly 60% of the articles that were improved after creation, the addition of media (at least one image) contributed to meeting the standard quality.\n",
    "* Note: These potential causes are exploratory and based on available data. They do not imply direct causation, as other factors may also be involved.\n",
    "\n",
    ":::"
   ]
  },
  {
   "cell_type": "markdown",
   "id": "af48743e-be46-4b28-9fdb-aa40ea84c4e4",
   "metadata": {},
   "source": [
    "### Distribution by criteria met"
   ]
  },
  {
   "cell_type": "code",
   "execution_count": 247,
   "id": "a9037fbc-dc03-4584-a153-76b53c43843b",
   "metadata": {},
   "outputs": [],
   "source": [
    "cx_latest = con.sql(\"\"\"SELECT * FROM cx_latest\"\"\").df()"
   ]
  },
  {
   "cell_type": "code",
   "execution_count": 248,
   "id": "384475d4-c5e0-41b3-b3e1-e2c2e08d2094",
   "metadata": {},
   "outputs": [],
   "source": [
    "cx_latest = cx_latest.assign(\n",
    "    thres_length=(cx_latest['page_length'] >= 8000).astype(int),\n",
    "    thres_categories=(cx_latest['num_categories'] >= 1).astype(int),\n",
    "    thres_headings=(cx_latest['num_headings'] >= 7).astype(int),\n",
    "    thres_media=(cx_latest['num_media'] >= 1).astype(int),\n",
    "    thres_refs=(cx_latest['num_refs'] >= 4).astype(int),\n",
    "    thres_wikilinks=(cx_latest['num_wikilinks'] >= 2).astype(int)\n",
    ").assign(\n",
    "    criteria_met=lambda df: (\n",
    "        df['thres_length'] +\n",
    "        df['thres_categories'] +\n",
    "        df['thres_headings'] +\n",
    "        df['thres_media'] +\n",
    "        df['thres_refs'] +\n",
    "        df['thres_wikilinks']\n",
    "    )\n",
    ")\n",
    "\n",
    "criteria_distribution = cx_latest['criteria_met'].value_counts().sort_index(ascending=False).reset_index()"
   ]
  },
  {
   "cell_type": "code",
   "execution_count": 249,
   "id": "d09246b1-8494-4fc0-9038-138630137b3e",
   "metadata": {},
   "outputs": [
    {
     "data": {
      "application/vnd.plotly.v1+json": {
       "config": {
        "plotlyServerURL": "https://plot.ly"
       },
       "data": [
        {
         "marker": {
          "color": "lightgrey"
         },
         "type": "bar",
         "x": [
          "6"
         ],
         "y": [
          170213
         ]
        },
        {
         "marker": {
          "color": "lightgrey"
         },
         "type": "bar",
         "x": [
          "5"
         ],
         "y": [
          195982
         ]
        },
        {
         "marker": {
          "color": "rgb(35,139,69)"
         },
         "text": [
          "23.88%"
         ],
         "textposition": "inside",
         "type": "bar",
         "x": [
          "4"
         ],
         "y": [
          333165
         ]
        },
        {
         "marker": {
          "color": "rgb(0,68,27)"
         },
         "text": [
          "40.39%"
         ],
         "textposition": "inside",
         "type": "bar",
         "x": [
          "3"
         ],
         "y": [
          563515
         ]
        },
        {
         "marker": {
          "color": "rgb(0,109,44)"
         },
         "text": [
          "29.91%"
         ],
         "textposition": "inside",
         "type": "bar",
         "x": [
          "2"
         ],
         "y": [
          417203
         ]
        },
        {
         "marker": {
          "color": "rgb(65,171,93)"
         },
         "text": [
          "4.90%"
         ],
         "textposition": "inside",
         "type": "bar",
         "x": [
          "1"
         ],
         "y": [
          68333
         ]
        },
        {
         "marker": {
          "color": "rgb(116,196,118)"
         },
         "text": [
          "0.92%"
         ],
         "textposition": "inside",
         "type": "bar",
         "x": [
          "0"
         ],
         "y": [
          12873
         ]
        }
       ],
       "layout": {
        "annotations": [
         {
          "font": {
           "color": "black",
           "size": 13
          },
          "showarrow": false,
          "text": "meets std quality",
          "x": "6",
          "y": 85106.5
         },
         {
          "font": {
           "color": "black",
           "size": 13
          },
          "showarrow": false,
          "text": "meets std quality",
          "x": "5",
          "y": 97991
         }
        ],
        "height": 400,
        "showlegend": false,
        "template": {
         "data": {
          "bar": [
           {
            "error_x": {
             "color": "rgb(36,36,36)"
            },
            "error_y": {
             "color": "rgb(36,36,36)"
            },
            "marker": {
             "line": {
              "color": "white",
              "width": 0.5
             },
             "pattern": {
              "fillmode": "overlay",
              "size": 10,
              "solidity": 0.2
             }
            },
            "type": "bar"
           }
          ],
          "barpolar": [
           {
            "marker": {
             "line": {
              "color": "white",
              "width": 0.5
             },
             "pattern": {
              "fillmode": "overlay",
              "size": 10,
              "solidity": 0.2
             }
            },
            "type": "barpolar"
           }
          ],
          "carpet": [
           {
            "aaxis": {
             "endlinecolor": "rgb(36,36,36)",
             "gridcolor": "white",
             "linecolor": "white",
             "minorgridcolor": "white",
             "startlinecolor": "rgb(36,36,36)"
            },
            "baxis": {
             "endlinecolor": "rgb(36,36,36)",
             "gridcolor": "white",
             "linecolor": "white",
             "minorgridcolor": "white",
             "startlinecolor": "rgb(36,36,36)"
            },
            "type": "carpet"
           }
          ],
          "choropleth": [
           {
            "colorbar": {
             "outlinewidth": 1,
             "tickcolor": "rgb(36,36,36)",
             "ticks": "outside"
            },
            "type": "choropleth"
           }
          ],
          "contour": [
           {
            "colorbar": {
             "outlinewidth": 1,
             "tickcolor": "rgb(36,36,36)",
             "ticks": "outside"
            },
            "colorscale": [
             [
              0,
              "#440154"
             ],
             [
              0.1111111111111111,
              "#482878"
             ],
             [
              0.2222222222222222,
              "#3e4989"
             ],
             [
              0.3333333333333333,
              "#31688e"
             ],
             [
              0.4444444444444444,
              "#26828e"
             ],
             [
              0.5555555555555556,
              "#1f9e89"
             ],
             [
              0.6666666666666666,
              "#35b779"
             ],
             [
              0.7777777777777778,
              "#6ece58"
             ],
             [
              0.8888888888888888,
              "#b5de2b"
             ],
             [
              1,
              "#fde725"
             ]
            ],
            "type": "contour"
           }
          ],
          "contourcarpet": [
           {
            "colorbar": {
             "outlinewidth": 1,
             "tickcolor": "rgb(36,36,36)",
             "ticks": "outside"
            },
            "type": "contourcarpet"
           }
          ],
          "heatmap": [
           {
            "colorbar": {
             "outlinewidth": 1,
             "tickcolor": "rgb(36,36,36)",
             "ticks": "outside"
            },
            "colorscale": [
             [
              0,
              "#440154"
             ],
             [
              0.1111111111111111,
              "#482878"
             ],
             [
              0.2222222222222222,
              "#3e4989"
             ],
             [
              0.3333333333333333,
              "#31688e"
             ],
             [
              0.4444444444444444,
              "#26828e"
             ],
             [
              0.5555555555555556,
              "#1f9e89"
             ],
             [
              0.6666666666666666,
              "#35b779"
             ],
             [
              0.7777777777777778,
              "#6ece58"
             ],
             [
              0.8888888888888888,
              "#b5de2b"
             ],
             [
              1,
              "#fde725"
             ]
            ],
            "type": "heatmap"
           }
          ],
          "heatmapgl": [
           {
            "colorbar": {
             "outlinewidth": 1,
             "tickcolor": "rgb(36,36,36)",
             "ticks": "outside"
            },
            "colorscale": [
             [
              0,
              "#440154"
             ],
             [
              0.1111111111111111,
              "#482878"
             ],
             [
              0.2222222222222222,
              "#3e4989"
             ],
             [
              0.3333333333333333,
              "#31688e"
             ],
             [
              0.4444444444444444,
              "#26828e"
             ],
             [
              0.5555555555555556,
              "#1f9e89"
             ],
             [
              0.6666666666666666,
              "#35b779"
             ],
             [
              0.7777777777777778,
              "#6ece58"
             ],
             [
              0.8888888888888888,
              "#b5de2b"
             ],
             [
              1,
              "#fde725"
             ]
            ],
            "type": "heatmapgl"
           }
          ],
          "histogram": [
           {
            "marker": {
             "line": {
              "color": "white",
              "width": 0.6
             }
            },
            "type": "histogram"
           }
          ],
          "histogram2d": [
           {
            "colorbar": {
             "outlinewidth": 1,
             "tickcolor": "rgb(36,36,36)",
             "ticks": "outside"
            },
            "colorscale": [
             [
              0,
              "#440154"
             ],
             [
              0.1111111111111111,
              "#482878"
             ],
             [
              0.2222222222222222,
              "#3e4989"
             ],
             [
              0.3333333333333333,
              "#31688e"
             ],
             [
              0.4444444444444444,
              "#26828e"
             ],
             [
              0.5555555555555556,
              "#1f9e89"
             ],
             [
              0.6666666666666666,
              "#35b779"
             ],
             [
              0.7777777777777778,
              "#6ece58"
             ],
             [
              0.8888888888888888,
              "#b5de2b"
             ],
             [
              1,
              "#fde725"
             ]
            ],
            "type": "histogram2d"
           }
          ],
          "histogram2dcontour": [
           {
            "colorbar": {
             "outlinewidth": 1,
             "tickcolor": "rgb(36,36,36)",
             "ticks": "outside"
            },
            "colorscale": [
             [
              0,
              "#440154"
             ],
             [
              0.1111111111111111,
              "#482878"
             ],
             [
              0.2222222222222222,
              "#3e4989"
             ],
             [
              0.3333333333333333,
              "#31688e"
             ],
             [
              0.4444444444444444,
              "#26828e"
             ],
             [
              0.5555555555555556,
              "#1f9e89"
             ],
             [
              0.6666666666666666,
              "#35b779"
             ],
             [
              0.7777777777777778,
              "#6ece58"
             ],
             [
              0.8888888888888888,
              "#b5de2b"
             ],
             [
              1,
              "#fde725"
             ]
            ],
            "type": "histogram2dcontour"
           }
          ],
          "mesh3d": [
           {
            "colorbar": {
             "outlinewidth": 1,
             "tickcolor": "rgb(36,36,36)",
             "ticks": "outside"
            },
            "type": "mesh3d"
           }
          ],
          "parcoords": [
           {
            "line": {
             "colorbar": {
              "outlinewidth": 1,
              "tickcolor": "rgb(36,36,36)",
              "ticks": "outside"
             }
            },
            "type": "parcoords"
           }
          ],
          "pie": [
           {
            "automargin": true,
            "type": "pie"
           }
          ],
          "scatter": [
           {
            "fillpattern": {
             "fillmode": "overlay",
             "size": 10,
             "solidity": 0.2
            },
            "type": "scatter"
           }
          ],
          "scatter3d": [
           {
            "line": {
             "colorbar": {
              "outlinewidth": 1,
              "tickcolor": "rgb(36,36,36)",
              "ticks": "outside"
             }
            },
            "marker": {
             "colorbar": {
              "outlinewidth": 1,
              "tickcolor": "rgb(36,36,36)",
              "ticks": "outside"
             }
            },
            "type": "scatter3d"
           }
          ],
          "scattercarpet": [
           {
            "marker": {
             "colorbar": {
              "outlinewidth": 1,
              "tickcolor": "rgb(36,36,36)",
              "ticks": "outside"
             }
            },
            "type": "scattercarpet"
           }
          ],
          "scattergeo": [
           {
            "marker": {
             "colorbar": {
              "outlinewidth": 1,
              "tickcolor": "rgb(36,36,36)",
              "ticks": "outside"
             }
            },
            "type": "scattergeo"
           }
          ],
          "scattergl": [
           {
            "marker": {
             "colorbar": {
              "outlinewidth": 1,
              "tickcolor": "rgb(36,36,36)",
              "ticks": "outside"
             }
            },
            "type": "scattergl"
           }
          ],
          "scattermapbox": [
           {
            "marker": {
             "colorbar": {
              "outlinewidth": 1,
              "tickcolor": "rgb(36,36,36)",
              "ticks": "outside"
             }
            },
            "type": "scattermapbox"
           }
          ],
          "scatterpolar": [
           {
            "marker": {
             "colorbar": {
              "outlinewidth": 1,
              "tickcolor": "rgb(36,36,36)",
              "ticks": "outside"
             }
            },
            "type": "scatterpolar"
           }
          ],
          "scatterpolargl": [
           {
            "marker": {
             "colorbar": {
              "outlinewidth": 1,
              "tickcolor": "rgb(36,36,36)",
              "ticks": "outside"
             }
            },
            "type": "scatterpolargl"
           }
          ],
          "scatterternary": [
           {
            "marker": {
             "colorbar": {
              "outlinewidth": 1,
              "tickcolor": "rgb(36,36,36)",
              "ticks": "outside"
             }
            },
            "type": "scatterternary"
           }
          ],
          "surface": [
           {
            "colorbar": {
             "outlinewidth": 1,
             "tickcolor": "rgb(36,36,36)",
             "ticks": "outside"
            },
            "colorscale": [
             [
              0,
              "#440154"
             ],
             [
              0.1111111111111111,
              "#482878"
             ],
             [
              0.2222222222222222,
              "#3e4989"
             ],
             [
              0.3333333333333333,
              "#31688e"
             ],
             [
              0.4444444444444444,
              "#26828e"
             ],
             [
              0.5555555555555556,
              "#1f9e89"
             ],
             [
              0.6666666666666666,
              "#35b779"
             ],
             [
              0.7777777777777778,
              "#6ece58"
             ],
             [
              0.8888888888888888,
              "#b5de2b"
             ],
             [
              1,
              "#fde725"
             ]
            ],
            "type": "surface"
           }
          ],
          "table": [
           {
            "cells": {
             "fill": {
              "color": "rgb(237,237,237)"
             },
             "line": {
              "color": "white"
             }
            },
            "header": {
             "fill": {
              "color": "rgb(217,217,217)"
             },
             "line": {
              "color": "white"
             }
            },
            "type": "table"
           }
          ]
         },
         "layout": {
          "annotationdefaults": {
           "arrowhead": 0,
           "arrowwidth": 1
          },
          "autotypenumbers": "strict",
          "coloraxis": {
           "colorbar": {
            "outlinewidth": 1,
            "tickcolor": "rgb(36,36,36)",
            "ticks": "outside"
           }
          },
          "colorscale": {
           "diverging": [
            [
             0,
             "rgb(103,0,31)"
            ],
            [
             0.1,
             "rgb(178,24,43)"
            ],
            [
             0.2,
             "rgb(214,96,77)"
            ],
            [
             0.3,
             "rgb(244,165,130)"
            ],
            [
             0.4,
             "rgb(253,219,199)"
            ],
            [
             0.5,
             "rgb(247,247,247)"
            ],
            [
             0.6,
             "rgb(209,229,240)"
            ],
            [
             0.7,
             "rgb(146,197,222)"
            ],
            [
             0.8,
             "rgb(67,147,195)"
            ],
            [
             0.9,
             "rgb(33,102,172)"
            ],
            [
             1,
             "rgb(5,48,97)"
            ]
           ],
           "sequential": [
            [
             0,
             "#440154"
            ],
            [
             0.1111111111111111,
             "#482878"
            ],
            [
             0.2222222222222222,
             "#3e4989"
            ],
            [
             0.3333333333333333,
             "#31688e"
            ],
            [
             0.4444444444444444,
             "#26828e"
            ],
            [
             0.5555555555555556,
             "#1f9e89"
            ],
            [
             0.6666666666666666,
             "#35b779"
            ],
            [
             0.7777777777777778,
             "#6ece58"
            ],
            [
             0.8888888888888888,
             "#b5de2b"
            ],
            [
             1,
             "#fde725"
            ]
           ],
           "sequentialminus": [
            [
             0,
             "#440154"
            ],
            [
             0.1111111111111111,
             "#482878"
            ],
            [
             0.2222222222222222,
             "#3e4989"
            ],
            [
             0.3333333333333333,
             "#31688e"
            ],
            [
             0.4444444444444444,
             "#26828e"
            ],
            [
             0.5555555555555556,
             "#1f9e89"
            ],
            [
             0.6666666666666666,
             "#35b779"
            ],
            [
             0.7777777777777778,
             "#6ece58"
            ],
            [
             0.8888888888888888,
             "#b5de2b"
            ],
            [
             1,
             "#fde725"
            ]
           ]
          },
          "colorway": [
           "#1F77B4",
           "#FF7F0E",
           "#2CA02C",
           "#D62728",
           "#9467BD",
           "#8C564B",
           "#E377C2",
           "#7F7F7F",
           "#BCBD22",
           "#17BECF"
          ],
          "font": {
           "color": "rgb(36,36,36)"
          },
          "geo": {
           "bgcolor": "white",
           "lakecolor": "white",
           "landcolor": "white",
           "showlakes": true,
           "showland": true,
           "subunitcolor": "white"
          },
          "hoverlabel": {
           "align": "left"
          },
          "hovermode": "closest",
          "mapbox": {
           "style": "light"
          },
          "paper_bgcolor": "white",
          "plot_bgcolor": "white",
          "polar": {
           "angularaxis": {
            "gridcolor": "rgb(232,232,232)",
            "linecolor": "rgb(36,36,36)",
            "showgrid": false,
            "showline": true,
            "ticks": "outside"
           },
           "bgcolor": "white",
           "radialaxis": {
            "gridcolor": "rgb(232,232,232)",
            "linecolor": "rgb(36,36,36)",
            "showgrid": false,
            "showline": true,
            "ticks": "outside"
           }
          },
          "scene": {
           "xaxis": {
            "backgroundcolor": "white",
            "gridcolor": "rgb(232,232,232)",
            "gridwidth": 2,
            "linecolor": "rgb(36,36,36)",
            "showbackground": true,
            "showgrid": false,
            "showline": true,
            "ticks": "outside",
            "zeroline": false,
            "zerolinecolor": "rgb(36,36,36)"
           },
           "yaxis": {
            "backgroundcolor": "white",
            "gridcolor": "rgb(232,232,232)",
            "gridwidth": 2,
            "linecolor": "rgb(36,36,36)",
            "showbackground": true,
            "showgrid": false,
            "showline": true,
            "ticks": "outside",
            "zeroline": false,
            "zerolinecolor": "rgb(36,36,36)"
           },
           "zaxis": {
            "backgroundcolor": "white",
            "gridcolor": "rgb(232,232,232)",
            "gridwidth": 2,
            "linecolor": "rgb(36,36,36)",
            "showbackground": true,
            "showgrid": false,
            "showline": true,
            "ticks": "outside",
            "zeroline": false,
            "zerolinecolor": "rgb(36,36,36)"
           }
          },
          "shapedefaults": {
           "fillcolor": "black",
           "line": {
            "width": 0
           },
           "opacity": 0.3
          },
          "ternary": {
           "aaxis": {
            "gridcolor": "rgb(232,232,232)",
            "linecolor": "rgb(36,36,36)",
            "showgrid": false,
            "showline": true,
            "ticks": "outside"
           },
           "baxis": {
            "gridcolor": "rgb(232,232,232)",
            "linecolor": "rgb(36,36,36)",
            "showgrid": false,
            "showline": true,
            "ticks": "outside"
           },
           "bgcolor": "white",
           "caxis": {
            "gridcolor": "rgb(232,232,232)",
            "linecolor": "rgb(36,36,36)",
            "showgrid": false,
            "showline": true,
            "ticks": "outside"
           }
          },
          "title": {
           "x": 0.05
          },
          "xaxis": {
           "automargin": true,
           "gridcolor": "rgb(232,232,232)",
           "linecolor": "rgb(36,36,36)",
           "showgrid": false,
           "showline": true,
           "ticks": "outside",
           "title": {
            "standoff": 15
           },
           "zeroline": false,
           "zerolinecolor": "rgb(36,36,36)"
          },
          "yaxis": {
           "automargin": true,
           "gridcolor": "rgb(232,232,232)",
           "linecolor": "rgb(36,36,36)",
           "showgrid": false,
           "showline": true,
           "ticks": "outside",
           "title": {
            "standoff": 15
           },
           "zeroline": false,
           "zerolinecolor": "rgb(36,36,36)"
          }
         }
        },
        "title": {
         "text": "Distribution of articles created using CX by number of standard quality criteria met<br><sup>as of March 2025</sup>"
        },
        "width": 1100,
        "xaxis": {
         "categoryarray": [
          "0",
          "1",
          "2",
          "3",
          "4",
          "5",
          "6"
         ],
         "categoryorder": "array",
         "title": {
          "text": "Standard quality criteria met (of six)"
         }
        },
        "yaxis": {
         "title": {
          "text": "Article count"
         }
        }
       }
      },
      "text/html": [
       "<div>                            <div id=\"f1db9a7a-4fda-4005-a23d-14f017c7dedc\" class=\"plotly-graph-div\" style=\"height:400px; width:1100px;\"></div>            <script type=\"text/javascript\">                require([\"plotly\"], function(Plotly) {                    window.PLOTLYENV=window.PLOTLYENV || {};                                    if (document.getElementById(\"f1db9a7a-4fda-4005-a23d-14f017c7dedc\")) {                    Plotly.newPlot(                        \"f1db9a7a-4fda-4005-a23d-14f017c7dedc\",                        [{\"marker\":{\"color\":\"lightgrey\"},\"x\":[\"6\"],\"y\":[170213],\"type\":\"bar\"},{\"marker\":{\"color\":\"lightgrey\"},\"x\":[\"5\"],\"y\":[195982],\"type\":\"bar\"},{\"marker\":{\"color\":\"rgb(35,139,69)\"},\"text\":[\"23.88%\"],\"textposition\":\"inside\",\"x\":[\"4\"],\"y\":[333165],\"type\":\"bar\"},{\"marker\":{\"color\":\"rgb(0,68,27)\"},\"text\":[\"40.39%\"],\"textposition\":\"inside\",\"x\":[\"3\"],\"y\":[563515],\"type\":\"bar\"},{\"marker\":{\"color\":\"rgb(0,109,44)\"},\"text\":[\"29.91%\"],\"textposition\":\"inside\",\"x\":[\"2\"],\"y\":[417203],\"type\":\"bar\"},{\"marker\":{\"color\":\"rgb(65,171,93)\"},\"text\":[\"4.90%\"],\"textposition\":\"inside\",\"x\":[\"1\"],\"y\":[68333],\"type\":\"bar\"},{\"marker\":{\"color\":\"rgb(116,196,118)\"},\"text\":[\"0.92%\"],\"textposition\":\"inside\",\"x\":[\"0\"],\"y\":[12873],\"type\":\"bar\"}],                        {\"template\":{\"data\":{\"histogram2dcontour\":[{\"type\":\"histogram2dcontour\",\"colorbar\":{\"outlinewidth\":1,\"tickcolor\":\"rgb(36,36,36)\",\"ticks\":\"outside\"},\"colorscale\":[[0.0,\"#440154\"],[0.1111111111111111,\"#482878\"],[0.2222222222222222,\"#3e4989\"],[0.3333333333333333,\"#31688e\"],[0.4444444444444444,\"#26828e\"],[0.5555555555555556,\"#1f9e89\"],[0.6666666666666666,\"#35b779\"],[0.7777777777777778,\"#6ece58\"],[0.8888888888888888,\"#b5de2b\"],[1.0,\"#fde725\"]]}],\"choropleth\":[{\"type\":\"choropleth\",\"colorbar\":{\"outlinewidth\":1,\"tickcolor\":\"rgb(36,36,36)\",\"ticks\":\"outside\"}}],\"histogram2d\":[{\"type\":\"histogram2d\",\"colorbar\":{\"outlinewidth\":1,\"tickcolor\":\"rgb(36,36,36)\",\"ticks\":\"outside\"},\"colorscale\":[[0.0,\"#440154\"],[0.1111111111111111,\"#482878\"],[0.2222222222222222,\"#3e4989\"],[0.3333333333333333,\"#31688e\"],[0.4444444444444444,\"#26828e\"],[0.5555555555555556,\"#1f9e89\"],[0.6666666666666666,\"#35b779\"],[0.7777777777777778,\"#6ece58\"],[0.8888888888888888,\"#b5de2b\"],[1.0,\"#fde725\"]]}],\"heatmap\":[{\"type\":\"heatmap\",\"colorbar\":{\"outlinewidth\":1,\"tickcolor\":\"rgb(36,36,36)\",\"ticks\":\"outside\"},\"colorscale\":[[0.0,\"#440154\"],[0.1111111111111111,\"#482878\"],[0.2222222222222222,\"#3e4989\"],[0.3333333333333333,\"#31688e\"],[0.4444444444444444,\"#26828e\"],[0.5555555555555556,\"#1f9e89\"],[0.6666666666666666,\"#35b779\"],[0.7777777777777778,\"#6ece58\"],[0.8888888888888888,\"#b5de2b\"],[1.0,\"#fde725\"]]}],\"heatmapgl\":[{\"type\":\"heatmapgl\",\"colorbar\":{\"outlinewidth\":1,\"tickcolor\":\"rgb(36,36,36)\",\"ticks\":\"outside\"},\"colorscale\":[[0.0,\"#440154\"],[0.1111111111111111,\"#482878\"],[0.2222222222222222,\"#3e4989\"],[0.3333333333333333,\"#31688e\"],[0.4444444444444444,\"#26828e\"],[0.5555555555555556,\"#1f9e89\"],[0.6666666666666666,\"#35b779\"],[0.7777777777777778,\"#6ece58\"],[0.8888888888888888,\"#b5de2b\"],[1.0,\"#fde725\"]]}],\"contourcarpet\":[{\"type\":\"contourcarpet\",\"colorbar\":{\"outlinewidth\":1,\"tickcolor\":\"rgb(36,36,36)\",\"ticks\":\"outside\"}}],\"contour\":[{\"type\":\"contour\",\"colorbar\":{\"outlinewidth\":1,\"tickcolor\":\"rgb(36,36,36)\",\"ticks\":\"outside\"},\"colorscale\":[[0.0,\"#440154\"],[0.1111111111111111,\"#482878\"],[0.2222222222222222,\"#3e4989\"],[0.3333333333333333,\"#31688e\"],[0.4444444444444444,\"#26828e\"],[0.5555555555555556,\"#1f9e89\"],[0.6666666666666666,\"#35b779\"],[0.7777777777777778,\"#6ece58\"],[0.8888888888888888,\"#b5de2b\"],[1.0,\"#fde725\"]]}],\"surface\":[{\"type\":\"surface\",\"colorbar\":{\"outlinewidth\":1,\"tickcolor\":\"rgb(36,36,36)\",\"ticks\":\"outside\"},\"colorscale\":[[0.0,\"#440154\"],[0.1111111111111111,\"#482878\"],[0.2222222222222222,\"#3e4989\"],[0.3333333333333333,\"#31688e\"],[0.4444444444444444,\"#26828e\"],[0.5555555555555556,\"#1f9e89\"],[0.6666666666666666,\"#35b779\"],[0.7777777777777778,\"#6ece58\"],[0.8888888888888888,\"#b5de2b\"],[1.0,\"#fde725\"]]}],\"mesh3d\":[{\"type\":\"mesh3d\",\"colorbar\":{\"outlinewidth\":1,\"tickcolor\":\"rgb(36,36,36)\",\"ticks\":\"outside\"}}],\"scatter\":[{\"fillpattern\":{\"fillmode\":\"overlay\",\"size\":10,\"solidity\":0.2},\"type\":\"scatter\"}],\"parcoords\":[{\"type\":\"parcoords\",\"line\":{\"colorbar\":{\"outlinewidth\":1,\"tickcolor\":\"rgb(36,36,36)\",\"ticks\":\"outside\"}}}],\"scatterpolargl\":[{\"type\":\"scatterpolargl\",\"marker\":{\"colorbar\":{\"outlinewidth\":1,\"tickcolor\":\"rgb(36,36,36)\",\"ticks\":\"outside\"}}}],\"bar\":[{\"error_x\":{\"color\":\"rgb(36,36,36)\"},\"error_y\":{\"color\":\"rgb(36,36,36)\"},\"marker\":{\"line\":{\"color\":\"white\",\"width\":0.5},\"pattern\":{\"fillmode\":\"overlay\",\"size\":10,\"solidity\":0.2}},\"type\":\"bar\"}],\"scattergeo\":[{\"type\":\"scattergeo\",\"marker\":{\"colorbar\":{\"outlinewidth\":1,\"tickcolor\":\"rgb(36,36,36)\",\"ticks\":\"outside\"}}}],\"scatterpolar\":[{\"type\":\"scatterpolar\",\"marker\":{\"colorbar\":{\"outlinewidth\":1,\"tickcolor\":\"rgb(36,36,36)\",\"ticks\":\"outside\"}}}],\"histogram\":[{\"marker\":{\"line\":{\"color\":\"white\",\"width\":0.6}},\"type\":\"histogram\"}],\"scattergl\":[{\"type\":\"scattergl\",\"marker\":{\"colorbar\":{\"outlinewidth\":1,\"tickcolor\":\"rgb(36,36,36)\",\"ticks\":\"outside\"}}}],\"scatter3d\":[{\"type\":\"scatter3d\",\"line\":{\"colorbar\":{\"outlinewidth\":1,\"tickcolor\":\"rgb(36,36,36)\",\"ticks\":\"outside\"}},\"marker\":{\"colorbar\":{\"outlinewidth\":1,\"tickcolor\":\"rgb(36,36,36)\",\"ticks\":\"outside\"}}}],\"scattermapbox\":[{\"type\":\"scattermapbox\",\"marker\":{\"colorbar\":{\"outlinewidth\":1,\"tickcolor\":\"rgb(36,36,36)\",\"ticks\":\"outside\"}}}],\"scatterternary\":[{\"type\":\"scatterternary\",\"marker\":{\"colorbar\":{\"outlinewidth\":1,\"tickcolor\":\"rgb(36,36,36)\",\"ticks\":\"outside\"}}}],\"scattercarpet\":[{\"type\":\"scattercarpet\",\"marker\":{\"colorbar\":{\"outlinewidth\":1,\"tickcolor\":\"rgb(36,36,36)\",\"ticks\":\"outside\"}}}],\"carpet\":[{\"aaxis\":{\"endlinecolor\":\"rgb(36,36,36)\",\"gridcolor\":\"white\",\"linecolor\":\"white\",\"minorgridcolor\":\"white\",\"startlinecolor\":\"rgb(36,36,36)\"},\"baxis\":{\"endlinecolor\":\"rgb(36,36,36)\",\"gridcolor\":\"white\",\"linecolor\":\"white\",\"minorgridcolor\":\"white\",\"startlinecolor\":\"rgb(36,36,36)\"},\"type\":\"carpet\"}],\"table\":[{\"cells\":{\"fill\":{\"color\":\"rgb(237,237,237)\"},\"line\":{\"color\":\"white\"}},\"header\":{\"fill\":{\"color\":\"rgb(217,217,217)\"},\"line\":{\"color\":\"white\"}},\"type\":\"table\"}],\"barpolar\":[{\"marker\":{\"line\":{\"color\":\"white\",\"width\":0.5},\"pattern\":{\"fillmode\":\"overlay\",\"size\":10,\"solidity\":0.2}},\"type\":\"barpolar\"}],\"pie\":[{\"automargin\":true,\"type\":\"pie\"}]},\"layout\":{\"autotypenumbers\":\"strict\",\"colorway\":[\"#1F77B4\",\"#FF7F0E\",\"#2CA02C\",\"#D62728\",\"#9467BD\",\"#8C564B\",\"#E377C2\",\"#7F7F7F\",\"#BCBD22\",\"#17BECF\"],\"font\":{\"color\":\"rgb(36,36,36)\"},\"hovermode\":\"closest\",\"hoverlabel\":{\"align\":\"left\"},\"paper_bgcolor\":\"white\",\"plot_bgcolor\":\"white\",\"polar\":{\"bgcolor\":\"white\",\"angularaxis\":{\"gridcolor\":\"rgb(232,232,232)\",\"linecolor\":\"rgb(36,36,36)\",\"showgrid\":false,\"showline\":true,\"ticks\":\"outside\"},\"radialaxis\":{\"gridcolor\":\"rgb(232,232,232)\",\"linecolor\":\"rgb(36,36,36)\",\"showgrid\":false,\"showline\":true,\"ticks\":\"outside\"}},\"ternary\":{\"bgcolor\":\"white\",\"aaxis\":{\"gridcolor\":\"rgb(232,232,232)\",\"linecolor\":\"rgb(36,36,36)\",\"showgrid\":false,\"showline\":true,\"ticks\":\"outside\"},\"baxis\":{\"gridcolor\":\"rgb(232,232,232)\",\"linecolor\":\"rgb(36,36,36)\",\"showgrid\":false,\"showline\":true,\"ticks\":\"outside\"},\"caxis\":{\"gridcolor\":\"rgb(232,232,232)\",\"linecolor\":\"rgb(36,36,36)\",\"showgrid\":false,\"showline\":true,\"ticks\":\"outside\"}},\"coloraxis\":{\"colorbar\":{\"outlinewidth\":1,\"tickcolor\":\"rgb(36,36,36)\",\"ticks\":\"outside\"}},\"colorscale\":{\"sequential\":[[0.0,\"#440154\"],[0.1111111111111111,\"#482878\"],[0.2222222222222222,\"#3e4989\"],[0.3333333333333333,\"#31688e\"],[0.4444444444444444,\"#26828e\"],[0.5555555555555556,\"#1f9e89\"],[0.6666666666666666,\"#35b779\"],[0.7777777777777778,\"#6ece58\"],[0.8888888888888888,\"#b5de2b\"],[1.0,\"#fde725\"]],\"sequentialminus\":[[0.0,\"#440154\"],[0.1111111111111111,\"#482878\"],[0.2222222222222222,\"#3e4989\"],[0.3333333333333333,\"#31688e\"],[0.4444444444444444,\"#26828e\"],[0.5555555555555556,\"#1f9e89\"],[0.6666666666666666,\"#35b779\"],[0.7777777777777778,\"#6ece58\"],[0.8888888888888888,\"#b5de2b\"],[1.0,\"#fde725\"]],\"diverging\":[[0.0,\"rgb(103,0,31)\"],[0.1,\"rgb(178,24,43)\"],[0.2,\"rgb(214,96,77)\"],[0.3,\"rgb(244,165,130)\"],[0.4,\"rgb(253,219,199)\"],[0.5,\"rgb(247,247,247)\"],[0.6,\"rgb(209,229,240)\"],[0.7,\"rgb(146,197,222)\"],[0.8,\"rgb(67,147,195)\"],[0.9,\"rgb(33,102,172)\"],[1.0,\"rgb(5,48,97)\"]]},\"xaxis\":{\"gridcolor\":\"rgb(232,232,232)\",\"linecolor\":\"rgb(36,36,36)\",\"showgrid\":false,\"showline\":true,\"ticks\":\"outside\",\"title\":{\"standoff\":15},\"zerolinecolor\":\"rgb(36,36,36)\",\"automargin\":true,\"zeroline\":false},\"yaxis\":{\"gridcolor\":\"rgb(232,232,232)\",\"linecolor\":\"rgb(36,36,36)\",\"showgrid\":false,\"showline\":true,\"ticks\":\"outside\",\"title\":{\"standoff\":15},\"zerolinecolor\":\"rgb(36,36,36)\",\"automargin\":true,\"zeroline\":false},\"scene\":{\"xaxis\":{\"backgroundcolor\":\"white\",\"gridcolor\":\"rgb(232,232,232)\",\"linecolor\":\"rgb(36,36,36)\",\"showbackground\":true,\"showgrid\":false,\"showline\":true,\"ticks\":\"outside\",\"zerolinecolor\":\"rgb(36,36,36)\",\"gridwidth\":2,\"zeroline\":false},\"yaxis\":{\"backgroundcolor\":\"white\",\"gridcolor\":\"rgb(232,232,232)\",\"linecolor\":\"rgb(36,36,36)\",\"showbackground\":true,\"showgrid\":false,\"showline\":true,\"ticks\":\"outside\",\"zerolinecolor\":\"rgb(36,36,36)\",\"gridwidth\":2,\"zeroline\":false},\"zaxis\":{\"backgroundcolor\":\"white\",\"gridcolor\":\"rgb(232,232,232)\",\"linecolor\":\"rgb(36,36,36)\",\"showbackground\":true,\"showgrid\":false,\"showline\":true,\"ticks\":\"outside\",\"zerolinecolor\":\"rgb(36,36,36)\",\"gridwidth\":2,\"zeroline\":false}},\"shapedefaults\":{\"fillcolor\":\"black\",\"line\":{\"width\":0},\"opacity\":0.3},\"annotationdefaults\":{\"arrowhead\":0,\"arrowwidth\":1},\"geo\":{\"bgcolor\":\"white\",\"landcolor\":\"white\",\"subunitcolor\":\"white\",\"showland\":true,\"showlakes\":true,\"lakecolor\":\"white\"},\"title\":{\"x\":0.05},\"mapbox\":{\"style\":\"light\"}}},\"xaxis\":{\"title\":{\"text\":\"Standard quality criteria met (of six)\"},\"categoryorder\":\"array\",\"categoryarray\":[\"0\",\"1\",\"2\",\"3\",\"4\",\"5\",\"6\"]},\"title\":{\"text\":\"Distribution of articles created using CX by number of standard quality criteria met\\u003cbr\\u003e\\u003csup\\u003eas of March 2025\\u003c\\u002fsup\\u003e\"},\"yaxis\":{\"title\":{\"text\":\"Article count\"}},\"showlegend\":false,\"annotations\":[{\"font\":{\"color\":\"black\",\"size\":13},\"showarrow\":false,\"text\":\"meets std quality\",\"x\":\"6\",\"y\":85106.5},{\"font\":{\"color\":\"black\",\"size\":13},\"showarrow\":false,\"text\":\"meets std quality\",\"x\":\"5\",\"y\":97991.0}],\"width\":1100,\"height\":400},                        {\"responsive\": true}                    ).then(function(){\n",
       "                            \n",
       "var gd = document.getElementById('f1db9a7a-4fda-4005-a23d-14f017c7dedc');\n",
       "var x = new MutationObserver(function (mutations, observer) {{\n",
       "        var display = window.getComputedStyle(gd).display;\n",
       "        if (!display || display === 'none') {{\n",
       "            console.log([gd, 'removed!']);\n",
       "            Plotly.purge(gd);\n",
       "            observer.disconnect();\n",
       "        }}\n",
       "}});\n",
       "\n",
       "// Listen for the removal of the full notebook cells\n",
       "var notebookContainer = gd.closest('#notebook-container');\n",
       "if (notebookContainer) {{\n",
       "    x.observe(notebookContainer, {childList: true});\n",
       "}}\n",
       "\n",
       "// Listen for the clearing of the current output cell\n",
       "var outputEl = gd.closest('.output');\n",
       "if (outputEl) {{\n",
       "    x.observe(outputEl, {childList: true});\n",
       "}}\n",
       "\n",
       "                        })                };                });            </script>        </div>"
      ]
     },
     "metadata": {},
     "output_type": "display_data"
    }
   ],
   "source": [
    "#| column: page\n",
    "\n",
    "total = criteria_distribution.query(\"criteria_met < 5\")['count'].sum()\n",
    "criteria_distribution['percentage'] = criteria_distribution['count'] / total\n",
    "\n",
    "greens = px.colors.sequential.Greens[-5:] \n",
    "\n",
    "sorted_subset = (\n",
    "    criteria_distribution[criteria_distribution['criteria_met'] < 5]\n",
    "    .sort_values('percentage')\n",
    ")\n",
    "\n",
    "color_map = {\n",
    "    int(row.criteria_met): color\n",
    "    for row, color in zip(sorted_subset.itertuples(), greens)\n",
    "}\n",
    "\n",
    "bars = []\n",
    "annotations = []\n",
    "\n",
    "for row in criteria_distribution.itertuples():\n",
    "    criteria = int(row.criteria_met)\n",
    "    color = color_map.get(criteria, 'lightgrey')\n",
    "    \n",
    "    text = f\"{row.percentage:.2%}\" if criteria < 5 else None\n",
    "    show_text = text if criteria < 5 else None\n",
    "    \n",
    "    bars.append(go.Bar(\n",
    "        x=[str(criteria)],\n",
    "        y=[row.count],\n",
    "        marker_color=color,\n",
    "        text=[show_text] if show_text else None,\n",
    "        textposition='inside' if show_text else None\n",
    "    ))\n",
    "    \n",
    "    if criteria >= 5:\n",
    "        annotations.append(dict(\n",
    "            x=str(criteria),\n",
    "            y=row.count / 2,\n",
    "            text=f'meets std quality',\n",
    "            showarrow=False,\n",
    "            font=dict(color='black', size=13)\n",
    "        ))\n",
    "\n",
    "fig = go.Figure(bars)\n",
    "\n",
    "fig.update_layout(\n",
    "    title='Distribution of articles created using CX by number of standard quality criteria met<br><sup>as of March 2025</sup>',\n",
    "    xaxis_title='Standard quality criteria met (of six)',\n",
    "    yaxis_title='Article count',\n",
    "    xaxis=dict(categoryorder='array', categoryarray=[str(i) for i in range(7)]),\n",
    "    showlegend=False,\n",
    "    annotations=annotations,\n",
    "    width=1100, height=400\n",
    ")\n",
    "\n",
    "fig.show()"
   ]
  },
  {
   "cell_type": "markdown",
   "id": "2b071879-96d2-496a-abf9-62ee0e99c48d",
   "metadata": {},
   "source": [
    "::: {.callout-tip title=\"Summary\" icon=\"false\"}\n",
    "\n",
    "* Among the articles that did not meet the standard quality, the largest group (40%) met three of the six criteria -- just two short of the threshold.\n",
    "* The next most frequent were articles that met two of the six criteria (30%) and those that met four (23%).\n",
    "* A very small percentage of articles (<5%) met only one or none of the criteria.\n",
    "\n",
    ":::"
   ]
  },
  {
   "cell_type": "markdown",
   "id": "145259c2-01e9-4c69-b92a-2154f74d788b",
   "metadata": {},
   "source": [
    "### Shortfall from standard quality"
   ]
  },
  {
   "cell_type": "code",
   "execution_count": 250,
   "id": "2e062c31-9cb5-4c08-84c9-a3bf6ad59e02",
   "metadata": {},
   "outputs": [],
   "source": [
    "def format_big_number(n):\n",
    "    if n >= 1000000:\n",
    "        return f'{n/1000000:.1f}M'\n",
    "    elif n >= 1000:\n",
    "        return f'{n/1000:.1f}K'\n",
    "    else:\n",
    "        return str(int(n))"
   ]
  },
  {
   "cell_type": "code",
   "execution_count": 251,
   "id": "6332d9dd-9a48-4e70-8497-191a895320c3",
   "metadata": {},
   "outputs": [],
   "source": [
    "threshold_values = {\n",
    "    'page_length': 8000,\n",
    "    'num_categories': 1,\n",
    "    'num_headings': 7,\n",
    "    'num_media': 1,\n",
    "    'num_refs': 4,\n",
    "    'num_wikilinks': 2\n",
    "}\n",
    "\n",
    "threshold_flags = {\n",
    "    'page_length': 'thres_length',\n",
    "    'num_categories': 'thres_categories',\n",
    "    'num_headings': 'thres_headings',\n",
    "    'num_media': 'thres_media',\n",
    "    'num_refs': 'thres_refs',\n",
    "    'num_wikilinks': 'thres_wikilinks',\n",
    "}\n",
    "\n",
    "quality_subset = cx_latest[cx_latest['criteria_met'].isin([1, 2, 3, 4])].copy()\n",
    "\n",
    "for feature, threshold in threshold_values.items():\n",
    "    shortfall_column = f'shortfall_{feature}'\n",
    "    flag_column = threshold_flags[feature]\n",
    "    quality_subset[shortfall_column] = np.where(\n",
    "        quality_subset[flag_column] == 0,\n",
    "        threshold - quality_subset[feature],\n",
    "        0\n",
    "    )\n",
    "\n",
    "shortfall_columns = [f'shortfall_{feature}' for feature in threshold_values]\n",
    "melted_shortfalls = quality_subset.melt(\n",
    "    id_vars='criteria_met',\n",
    "    value_vars=shortfall_columns,\n",
    "    var_name='criterion',\n",
    "    value_name='shortfall'\n",
    ")\n",
    "melted_shortfalls['criterion'] = melted_shortfalls['criterion'].str.replace('shortfall_', '')\n",
    "\n",
    "avg_shortfalls = (\n",
    "    melted_shortfalls[melted_shortfalls['shortfall'] > 0]\n",
    "    .groupby(['criteria_met', 'criterion'])['shortfall']\n",
    "    .agg(avg_shortfall='mean')\n",
    "    .reset_index()\n",
    ")\n",
    "\n",
    "miss_counts = []\n",
    "\n",
    "for level in range(1, 5):\n",
    "    level_df = quality_subset[quality_subset['criteria_met'] == level]\n",
    "    for feature, flag_col in threshold_flags.items():\n",
    "        count_missed = (level_df[flag_col] == 0).sum()\n",
    "        miss_counts.append({\n",
    "            'criteria_met': level,\n",
    "            'criterion': feature,\n",
    "            'miss_count': count_missed\n",
    "        })\n",
    "\n",
    "miss_counts_df = pd.DataFrame(miss_counts)\n",
    "\n",
    "combined_shortfall_df = pd.merge(\n",
    "    avg_shortfalls,\n",
    "    miss_counts_df,\n",
    "    on=['criteria_met', 'criterion'],\n",
    "    how='left'\n",
    ")\n",
    "\n",
    "combined_shortfall_df['criteria_met_label'] = combined_shortfall_df['criteria_met'].astype(str) + ' of 6 criteria met'\n",
    "combined_shortfall_df['criterion'] = combined_shortfall_df['criterion'].replace({\n",
    "    'page_length': 'page_length (in bytes)'\n",
    "})\n",
    "\n",
    "combined_shortfall_df = combined_shortfall_df.sort_values(['criteria_met', 'miss_count'], ascending=[True, False]).reset_index(drop=True)\n",
    "combined_shortfall_df['miss_count_fmt'] = combined_shortfall_df['miss_count'].apply(format_big_number)"
   ]
  },
  {
   "cell_type": "code",
   "execution_count": 252,
   "id": "230ad918-fc4a-41c9-a335-8b44187a713a",
   "metadata": {},
   "outputs": [
    {
     "data": {
      "text/html": [
       "<div id=\"dgaozcifkk\" style=\"padding-left:0px;padding-right:0px;padding-top:10px;padding-bottom:10px;overflow-x:auto;overflow-y:auto;width:auto;height:auto;\">\n",
       "<style>\n",
       "#dgaozcifkk table {\n",
       "          font-family: -apple-system, BlinkMacSystemFont, 'Segoe UI', Roboto, Oxygen, Ubuntu, Cantarell, 'Helvetica Neue', 'Fira Sans', 'Droid Sans', Arial, sans-serif;\n",
       "          -webkit-font-smoothing: antialiased;\n",
       "          -moz-osx-font-smoothing: grayscale;\n",
       "        }\n",
       "\n",
       "#dgaozcifkk thead, tbody, tfoot, tr, td, th { border-style: none; }\n",
       " tr { background-color: transparent; }\n",
       "#dgaozcifkk p { margin: 0; padding: 0; }\n",
       " #dgaozcifkk .gt_table { display: table; border-collapse: collapse; line-height: normal; margin-left: auto; margin-right: auto; color: #333333; font-size: 16px; font-weight: normal; font-style: normal; background-color: #FFFFFF; width: auto; border-top-style: solid; border-top-width: 3px; border-top-color: #D3D3D3; border-right-style: solid; border-right-width: 3px; border-right-color: #D3D3D3; border-bottom-style: solid; border-bottom-width: 3px; border-bottom-color: #D3D3D3; border-left-style: solid; border-left-width: 3px; border-left-color: #D3D3D3; }\n",
       " #dgaozcifkk .gt_caption { padding-top: 4px; padding-bottom: 4px; }\n",
       " #dgaozcifkk .gt_title { color: #333333; font-size: 125%; font-weight: initial; padding-top: 4px; padding-bottom: 4px; padding-left: 5px; padding-right: 5px; border-bottom-color: #FFFFFF; border-bottom-width: 0; }\n",
       " #dgaozcifkk .gt_subtitle { color: #333333; font-size: 85%; font-weight: initial; padding-top: 3px; padding-bottom: 5px; padding-left: 5px; padding-right: 5px; border-top-color: #FFFFFF; border-top-width: 0; }\n",
       " #dgaozcifkk .gt_heading { background-color: #FFFFFF; text-align: center; border-bottom-color: #FFFFFF; border-left-style: none; border-left-width: 1px; border-left-color: #D3D3D3; border-right-style: none; border-right-width: 1px; border-right-color: #D3D3D3; }\n",
       " #dgaozcifkk .gt_bottom_border { border-bottom-style: solid; border-bottom-width: 2px; border-bottom-color: #0076BA; }\n",
       " #dgaozcifkk .gt_col_headings { border-top-style: solid; border-top-width: 2px; border-top-color: #0076BA; border-bottom-style: solid; border-bottom-width: 2px; border-bottom-color: #0076BA; border-left-style: none; border-left-width: 1px; border-left-color: #D3D3D3; border-right-style: none; border-right-width: 1px; border-right-color: #D3D3D3; }\n",
       " #dgaozcifkk .gt_col_heading { color: #333333; background-color: #FFFFFF; font-size: 100%; font-weight: normal; text-transform: inherit; border-left-style: none; border-left-width: 1px; border-left-color: #D3D3D3; border-right-style: none; border-right-width: 1px; border-right-color: #D3D3D3; vertical-align: bottom; padding-top: 5px; padding-bottom: 5px; padding-left: 5px; padding-right: 5px; overflow-x: hidden; }\n",
       " #dgaozcifkk .gt_column_spanner_outer { color: #333333; background-color: #FFFFFF; font-size: 100%; font-weight: normal; text-transform: inherit; padding-top: 0; padding-bottom: 0; padding-left: 4px; padding-right: 4px; }\n",
       " #dgaozcifkk .gt_column_spanner_outer:first-child { padding-left: 0; }\n",
       " #dgaozcifkk .gt_column_spanner_outer:last-child { padding-right: 0; }\n",
       " #dgaozcifkk .gt_column_spanner { border-bottom-style: solid; border-bottom-width: 2px; border-bottom-color: #0076BA; vertical-align: bottom; padding-top: 5px; padding-bottom: 5px; overflow-x: hidden; display: inline-block; width: 100%; }\n",
       " #dgaozcifkk .gt_spanner_row { border-bottom-style: hidden; }\n",
       " #dgaozcifkk .gt_group_heading { padding-top: 8px; padding-bottom: 8px; padding-left: 5px; padding-right: 5px; color: #333333; background-color: #FFFFFF; font-size: 100%; font-weight: initial; text-transform: inherit; border-top-style: solid; border-top-width: 2px; border-top-color: #0076BA; border-bottom-style: solid; border-bottom-width: 2px; border-bottom-color: #0076BA; border-left-style: none; border-left-width: 1px; border-left-color: #D3D3D3; border-right-style: none; border-right-width: 1px; border-right-color: #D3D3D3; vertical-align: middle; text-align: left; }\n",
       " #dgaozcifkk .gt_empty_group_heading { padding: 0.5px; color: #333333; background-color: #FFFFFF; font-size: 100%; font-weight: initial; border-top-style: solid; border-top-width: 2px; border-top-color: #0076BA; border-bottom-style: solid; border-bottom-width: 2px; border-bottom-color: #0076BA; vertical-align: middle; }\n",
       " #dgaozcifkk .gt_from_md> :first-child { margin-top: 0; }\n",
       " #dgaozcifkk .gt_from_md> :last-child { margin-bottom: 0; }\n",
       " #dgaozcifkk .gt_row { padding-top: 8px; padding-bottom: 8px; padding-left: 5px; padding-right: 5px; margin: 10px; border-top-style: none; border-top-width: 1px; border-top-color: #89D3FE; border-left-style: none; border-left-width: 1px; border-left-color: #89D3FE; border-right-style: none; border-right-width: 1px; border-right-color: #89D3FE; vertical-align: middle; overflow-x: hidden; }\n",
       " #dgaozcifkk .gt_stub { color: #FFFFFF; background-color: #0076BA; font-size: 100%; font-weight: initial; text-transform: inherit; border-right-style: solid; border-right-width: 2px; border-right-color: #0076BA; padding-left: 5px; padding-right: 5px; }\n",
       " #dgaozcifkk .gt_stub_row_group { color: #333333; background-color: #FFFFFF; font-size: 100%; font-weight: initial; text-transform: inherit; border-right-style: solid; border-right-width: 2px; border-right-color: #D3D3D3; padding-left: 5px; padding-right: 5px; vertical-align: top; }\n",
       " #dgaozcifkk .gt_row_group_first td { border-top-width: 2px; }\n",
       " #dgaozcifkk .gt_row_group_first th { border-top-width: 2px; }\n",
       " #dgaozcifkk .gt_striped { background-color: #F4F4F4; }\n",
       " #dgaozcifkk .gt_table_body { border-top-style: solid; border-top-width: 2px; border-top-color: #0076BA; border-bottom-style: solid; border-bottom-width: 2px; border-bottom-color: #0076BA; }\n",
       " #dgaozcifkk .gt_sourcenotes { color: #333333; background-color: #FFFFFF; border-bottom-style: none; border-bottom-width: 2px; border-bottom-color: #D3D3D3; border-left-style: none; border-left-width: 2px; border-left-color: #D3D3D3; border-right-style: none; border-right-width: 2px; border-right-color: #D3D3D3; }\n",
       " #dgaozcifkk .gt_sourcenote { font-size: 90%; padding-top: 4px; padding-bottom: 4px; padding-left: 5px; padding-right: 5px; text-align: left; }\n",
       " #dgaozcifkk .gt_left { text-align: left; }\n",
       " #dgaozcifkk .gt_center { text-align: center; }\n",
       " #dgaozcifkk .gt_right { text-align: right; font-variant-numeric: tabular-nums; }\n",
       " #dgaozcifkk .gt_font_normal { font-weight: normal; }\n",
       " #dgaozcifkk .gt_font_bold { font-weight: bold; }\n",
       " #dgaozcifkk .gt_font_italic { font-style: italic; }\n",
       " #dgaozcifkk .gt_super { font-size: 65%; }\n",
       " #dgaozcifkk .gt_footnote_marks { font-size: 75%; vertical-align: 0.4em; position: initial; }\n",
       " #dgaozcifkk .gt_asterisk { font-size: 100%; vertical-align: 0; }\n",
       " \n",
       "</style>\n",
       "<table class=\"gt_table\" data-quarto-disable-processing=\"false\" data-quarto-bootstrap=\"false\">\n",
       "<thead>\n",
       "\n",
       "  <tr class=\"gt_heading\">\n",
       "    <td colspan=\"3\" class=\"gt_heading gt_title gt_font_normal\">Aggregate shortfall from standard quality</td>\n",
       "  </tr>\n",
       "  <tr class=\"gt_heading\">\n",
       "    <td colspan=\"3\" class=\"gt_heading gt_subtitle gt_font_normal gt_bottom_border\">of articles created using CX</td>\n",
       "  </tr>\n",
       "<tr class=\"gt_col_headings\">\n",
       "  <th class=\"gt_col_heading gt_columns_bottom_border gt_left\" rowspan=\"1\" colspan=\"1\" scope=\"col\" id=\"\"></th>\n",
       "  <th class=\"gt_col_heading gt_columns_bottom_border gt_right\" rowspan=\"1\" colspan=\"1\" scope=\"col\" id=\"miss_count_fmt\">Count of shortfall articles</th>\n",
       "  <th class=\"gt_col_heading gt_columns_bottom_border gt_left\" rowspan=\"1\" colspan=\"1\" scope=\"col\" id=\"avg_shortfall\">Average shortfall</th>\n",
       "</tr>\n",
       "</thead>\n",
       "<tbody class=\"gt_table_body\">\n",
       "  <tr class=\"gt_group_heading_row\">\n",
       "    <th class=\"gt_group_heading\" colspan=\"3\">1 of 6 criteria met</th>\n",
       "  </tr>\n",
       "  <tr>\n",
       "    <th class=\"gt_row gt_left gt_stub\">page_length (in bytes)</th>\n",
       "    <td style=\"border-right: 1px solid #000000;\" class=\"gt_row gt_right\">68.2K</td>\n",
       "    <td class=\"gt_row gt_left\">6,576</td>\n",
       "  </tr>\n",
       "  <tr>\n",
       "    <th class=\"gt_row gt_left gt_stub\">num_headings</th>\n",
       "    <td style=\"border-right: 1px solid #000000;\" class=\"gt_row gt_right gt_striped\">68.0K</td>\n",
       "    <td class=\"gt_row gt_left gt_striped\">5</td>\n",
       "  </tr>\n",
       "  <tr>\n",
       "    <th class=\"gt_row gt_left gt_stub\">num_refs</th>\n",
       "    <td style=\"border-right: 1px solid #000000;\" class=\"gt_row gt_right\">65.5K</td>\n",
       "    <td class=\"gt_row gt_left\">3</td>\n",
       "  </tr>\n",
       "  <tr>\n",
       "    <th class=\"gt_row gt_left gt_stub\">num_media</th>\n",
       "    <td style=\"border-right: 1px solid #000000;\" class=\"gt_row gt_right gt_striped\">63.5K</td>\n",
       "    <td class=\"gt_row gt_left gt_striped\">1</td>\n",
       "  </tr>\n",
       "  <tr>\n",
       "    <th class=\"gt_row gt_left gt_stub\">num_categories</th>\n",
       "    <td style=\"border-right: 1px solid #000000;\" class=\"gt_row gt_right\">39.7K</td>\n",
       "    <td class=\"gt_row gt_left\">1</td>\n",
       "  </tr>\n",
       "  <tr>\n",
       "    <th class=\"gt_row gt_left gt_stub\">num_wikilinks</th>\n",
       "    <td style=\"border-right: 1px solid #000000;\" class=\"gt_row gt_right gt_striped\">36.9K</td>\n",
       "    <td class=\"gt_row gt_left gt_striped\">1</td>\n",
       "  </tr>\n",
       "  <tr class=\"gt_group_heading_row\">\n",
       "    <th class=\"gt_group_heading\" colspan=\"3\">2 of 6 criteria met</th>\n",
       "  </tr>\n",
       "  <tr>\n",
       "    <th class=\"gt_row gt_left gt_stub\">page_length (in bytes)</th>\n",
       "    <td style=\"border-right: 1px solid #000000;\" class=\"gt_row gt_right\">416.7K</td>\n",
       "    <td class=\"gt_row gt_left\">5,763</td>\n",
       "  </tr>\n",
       "  <tr>\n",
       "    <th class=\"gt_row gt_left gt_stub\">num_headings</th>\n",
       "    <td style=\"border-right: 1px solid #000000;\" class=\"gt_row gt_right gt_striped\">415.2K</td>\n",
       "    <td class=\"gt_row gt_left gt_striped\">4</td>\n",
       "  </tr>\n",
       "  <tr>\n",
       "    <th class=\"gt_row gt_left gt_stub\">num_refs</th>\n",
       "    <td style=\"border-right: 1px solid #000000;\" class=\"gt_row gt_right\">397.1K</td>\n",
       "    <td class=\"gt_row gt_left\">3</td>\n",
       "  </tr>\n",
       "  <tr>\n",
       "    <th class=\"gt_row gt_left gt_stub\">num_media</th>\n",
       "    <td style=\"border-right: 1px solid #000000;\" class=\"gt_row gt_right gt_striped\">381.8K</td>\n",
       "    <td class=\"gt_row gt_left gt_striped\">1</td>\n",
       "  </tr>\n",
       "  <tr>\n",
       "    <th class=\"gt_row gt_left gt_stub\">num_categories</th>\n",
       "    <td style=\"border-right: 1px solid #000000;\" class=\"gt_row gt_right\">37.7K</td>\n",
       "    <td class=\"gt_row gt_left\">1</td>\n",
       "  </tr>\n",
       "  <tr>\n",
       "    <th class=\"gt_row gt_left gt_stub\">num_wikilinks</th>\n",
       "    <td style=\"border-right: 1px solid #000000;\" class=\"gt_row gt_right gt_striped\">20.3K</td>\n",
       "    <td class=\"gt_row gt_left gt_striped\">1</td>\n",
       "  </tr>\n",
       "  <tr class=\"gt_group_heading_row\">\n",
       "    <th class=\"gt_group_heading\" colspan=\"3\">3 of 6 criteria met</th>\n",
       "  </tr>\n",
       "  <tr>\n",
       "    <th class=\"gt_row gt_left gt_stub\">page_length (in bytes)</th>\n",
       "    <td style=\"border-right: 1px solid #000000;\" class=\"gt_row gt_right\">555.0K</td>\n",
       "    <td class=\"gt_row gt_left\">4,448</td>\n",
       "  </tr>\n",
       "  <tr>\n",
       "    <th class=\"gt_row gt_left gt_stub\">num_headings</th>\n",
       "    <td style=\"border-right: 1px solid #000000;\" class=\"gt_row gt_right gt_striped\">542.1K</td>\n",
       "    <td class=\"gt_row gt_left gt_striped\">4</td>\n",
       "  </tr>\n",
       "  <tr>\n",
       "    <th class=\"gt_row gt_left gt_stub\">num_refs</th>\n",
       "    <td style=\"border-right: 1px solid #000000;\" class=\"gt_row gt_right\">304.5K</td>\n",
       "    <td class=\"gt_row gt_left\">3</td>\n",
       "  </tr>\n",
       "  <tr>\n",
       "    <th class=\"gt_row gt_left gt_stub\">num_media</th>\n",
       "    <td style=\"border-right: 1px solid #000000;\" class=\"gt_row gt_right gt_striped\">266.8K</td>\n",
       "    <td class=\"gt_row gt_left gt_striped\">1</td>\n",
       "  </tr>\n",
       "  <tr>\n",
       "    <th class=\"gt_row gt_left gt_stub\">num_categories</th>\n",
       "    <td style=\"border-right: 1px solid #000000;\" class=\"gt_row gt_right\">17.6K</td>\n",
       "    <td class=\"gt_row gt_left\">1</td>\n",
       "  </tr>\n",
       "  <tr>\n",
       "    <th class=\"gt_row gt_left gt_stub\">num_wikilinks</th>\n",
       "    <td style=\"border-right: 1px solid #000000;\" class=\"gt_row gt_right gt_striped\">4.5K</td>\n",
       "    <td class=\"gt_row gt_left gt_striped\">1</td>\n",
       "  </tr>\n",
       "  <tr class=\"gt_group_heading_row\">\n",
       "    <th class=\"gt_group_heading\" colspan=\"3\">4 of 6 criteria met</th>\n",
       "  </tr>\n",
       "  <tr>\n",
       "    <th class=\"gt_row gt_left gt_stub\">num_headings</th>\n",
       "    <td style=\"border-right: 1px solid #000000;\" class=\"gt_row gt_right\">269.6K</td>\n",
       "    <td class=\"gt_row gt_left\">3</td>\n",
       "  </tr>\n",
       "  <tr>\n",
       "    <th class=\"gt_row gt_left gt_stub\">page_length (in bytes)</th>\n",
       "    <td style=\"border-right: 1px solid #000000;\" class=\"gt_row gt_right gt_striped\">264.3K</td>\n",
       "    <td class=\"gt_row gt_left gt_striped\">3,030</td>\n",
       "  </tr>\n",
       "  <tr>\n",
       "    <th class=\"gt_row gt_left gt_stub\">num_media</th>\n",
       "    <td style=\"border-right: 1px solid #000000;\" class=\"gt_row gt_right\">80.1K</td>\n",
       "    <td class=\"gt_row gt_left\">1</td>\n",
       "  </tr>\n",
       "  <tr>\n",
       "    <th class=\"gt_row gt_left gt_stub\">num_refs</th>\n",
       "    <td style=\"border-right: 1px solid #000000;\" class=\"gt_row gt_right gt_striped\">43.6K</td>\n",
       "    <td class=\"gt_row gt_left gt_striped\">3</td>\n",
       "  </tr>\n",
       "  <tr>\n",
       "    <th class=\"gt_row gt_left gt_stub\">num_categories</th>\n",
       "    <td style=\"border-right: 1px solid #000000;\" class=\"gt_row gt_right\">7.6K</td>\n",
       "    <td class=\"gt_row gt_left\">1</td>\n",
       "  </tr>\n",
       "  <tr>\n",
       "    <th class=\"gt_row gt_left gt_stub\">num_wikilinks</th>\n",
       "    <td style=\"border-right: 1px solid #000000;\" class=\"gt_row gt_right gt_striped\">1.1K</td>\n",
       "    <td class=\"gt_row gt_left gt_striped\">1</td>\n",
       "  </tr>\n",
       "</tbody>\n",
       "  <tfoot class=\"gt_sourcenotes\">\n",
       "  \n",
       "  <tr>\n",
       "    <td class=\"gt_sourcenote\" colspan=\"3\">as of March 2025</td>\n",
       "  </tr>\n",
       "\n",
       "</tfoot>\n",
       "\n",
       "</table>\n",
       "\n",
       "</div>\n",
       "        "
      ],
      "text/plain": [
       "GT(_tbl_data=    criteria_met               criterion  avg_shortfall  miss_count  \\\n",
       "0              1  page_length (in bytes)    6576.302601       68212   \n",
       "1              1            num_headings       5.346906       67955   \n",
       "2              1                num_refs       3.097085       65458   \n",
       "3              1               num_media       1.001338       63507   \n",
       "4              1          num_categories       1.002143       39660   \n",
       "5              1           num_wikilinks       1.447129       36873   \n",
       "6              2  page_length (in bytes)    5763.087100      416740   \n",
       "7              2            num_headings       4.496404      415198   \n",
       "8              2                num_refs       2.700322      397059   \n",
       "9              2               num_media       1.000000      381765   \n",
       "10             2          num_categories       1.000000       37712   \n",
       "11             2           num_wikilinks       1.389222       20338   \n",
       "12             3  page_length (in bytes)    4447.810120      555018   \n",
       "13             3            num_headings       3.922965      542067   \n",
       "14             3                num_refs       2.678601      304537   \n",
       "15             3               num_media       1.000000      266781   \n",
       "16             3          num_categories       1.000000       17613   \n",
       "17             3           num_wikilinks       1.413557        4529   \n",
       "18             4            num_headings       3.205352      269606   \n",
       "19             4  page_length (in bytes)    3029.593570      264304   \n",
       "20             4               num_media       1.000000       80115   \n",
       "21             4                num_refs       2.623147       43643   \n",
       "22             4          num_categories       1.000000        7612   \n",
       "23             4           num_wikilinks       1.480952        1050   \n",
       "\n",
       "     criteria_met_label miss_count_fmt  \n",
       "0   1 of 6 criteria met          68.2K  \n",
       "1   1 of 6 criteria met          68.0K  \n",
       "2   1 of 6 criteria met          65.5K  \n",
       "3   1 of 6 criteria met          63.5K  \n",
       "4   1 of 6 criteria met          39.7K  \n",
       "5   1 of 6 criteria met          36.9K  \n",
       "6   2 of 6 criteria met         416.7K  \n",
       "7   2 of 6 criteria met         415.2K  \n",
       "8   2 of 6 criteria met         397.1K  \n",
       "9   2 of 6 criteria met         381.8K  \n",
       "10  2 of 6 criteria met          37.7K  \n",
       "11  2 of 6 criteria met          20.3K  \n",
       "12  3 of 6 criteria met         555.0K  \n",
       "13  3 of 6 criteria met         542.1K  \n",
       "14  3 of 6 criteria met         304.5K  \n",
       "15  3 of 6 criteria met         266.8K  \n",
       "16  3 of 6 criteria met          17.6K  \n",
       "17  3 of 6 criteria met           4.5K  \n",
       "18  4 of 6 criteria met         269.6K  \n",
       "19  4 of 6 criteria met         264.3K  \n",
       "20  4 of 6 criteria met          80.1K  \n",
       "21  4 of 6 criteria met          43.6K  \n",
       "22  4 of 6 criteria met           7.6K  \n",
       "23  4 of 6 criteria met           1.1K  , _body=<great_tables._gt_data.Body object at 0x7ceb0ad73380>, _boxhead=Boxhead([ColInfo(var='miss_count_fmt', type=<ColInfoTypeEnum.default: 1>, column_label='Count of shortfall articles', column_align='right', column_width=None), ColInfo(var='criteria_met', type=<ColInfoTypeEnum.hidden: 4>, column_label='criteria_met', column_align='right', column_width=None), ColInfo(var='criterion', type=<ColInfoTypeEnum.stub: 2>, column_label='criterion', column_align='left', column_width=None), ColInfo(var='avg_shortfall', type=<ColInfoTypeEnum.default: 1>, column_label='Average shortfall', column_align='left', column_width=None), ColInfo(var='miss_count', type=<ColInfoTypeEnum.hidden: 4>, column_label='miss_count', column_align='right', column_width=None), ColInfo(var='criteria_met_label', type=<ColInfoTypeEnum.row_group: 3>, column_label='criteria_met_label', column_align='left', column_width=None)]), _stub=<great_tables._gt_data.Stub object at 0x7cea7c61e750>, _spanners=Spanners([]), _heading=Heading(title='Aggregate shortfall from standard quality', subtitle='of articles created using CX', preheader=None), _stubhead=None, _source_notes=['as of March 2025'], _footnotes=[], _styles=[StyleInfo(locname=LocBody(columns='miss_count_fmt', rows=None, mask=None), grpname=None, colname='miss_count_fmt', rownum=0, colnum=None, styles=[CellStyleBorders(sides='right', color='#000000', style='solid', weight='1px')]), StyleInfo(locname=LocBody(columns='miss_count_fmt', rows=None, mask=None), grpname=None, colname='miss_count_fmt', rownum=1, colnum=None, styles=[CellStyleBorders(sides='right', color='#000000', style='solid', weight='1px')]), StyleInfo(locname=LocBody(columns='miss_count_fmt', rows=None, mask=None), grpname=None, colname='miss_count_fmt', rownum=2, colnum=None, styles=[CellStyleBorders(sides='right', color='#000000', style='solid', weight='1px')]), StyleInfo(locname=LocBody(columns='miss_count_fmt', rows=None, mask=None), grpname=None, colname='miss_count_fmt', rownum=3, colnum=None, styles=[CellStyleBorders(sides='right', color='#000000', style='solid', weight='1px')]), StyleInfo(locname=LocBody(columns='miss_count_fmt', rows=None, mask=None), grpname=None, colname='miss_count_fmt', rownum=4, colnum=None, styles=[CellStyleBorders(sides='right', color='#000000', style='solid', weight='1px')]), StyleInfo(locname=LocBody(columns='miss_count_fmt', rows=None, mask=None), grpname=None, colname='miss_count_fmt', rownum=5, colnum=None, styles=[CellStyleBorders(sides='right', color='#000000', style='solid', weight='1px')]), StyleInfo(locname=LocBody(columns='miss_count_fmt', rows=None, mask=None), grpname=None, colname='miss_count_fmt', rownum=6, colnum=None, styles=[CellStyleBorders(sides='right', color='#000000', style='solid', weight='1px')]), StyleInfo(locname=LocBody(columns='miss_count_fmt', rows=None, mask=None), grpname=None, colname='miss_count_fmt', rownum=7, colnum=None, styles=[CellStyleBorders(sides='right', color='#000000', style='solid', weight='1px')]), StyleInfo(locname=LocBody(columns='miss_count_fmt', rows=None, mask=None), grpname=None, colname='miss_count_fmt', rownum=8, colnum=None, styles=[CellStyleBorders(sides='right', color='#000000', style='solid', weight='1px')]), StyleInfo(locname=LocBody(columns='miss_count_fmt', rows=None, mask=None), grpname=None, colname='miss_count_fmt', rownum=9, colnum=None, styles=[CellStyleBorders(sides='right', color='#000000', style='solid', weight='1px')]), StyleInfo(locname=LocBody(columns='miss_count_fmt', rows=None, mask=None), grpname=None, colname='miss_count_fmt', rownum=10, colnum=None, styles=[CellStyleBorders(sides='right', color='#000000', style='solid', weight='1px')]), StyleInfo(locname=LocBody(columns='miss_count_fmt', rows=None, mask=None), grpname=None, colname='miss_count_fmt', rownum=11, colnum=None, styles=[CellStyleBorders(sides='right', color='#000000', style='solid', weight='1px')]), StyleInfo(locname=LocBody(columns='miss_count_fmt', rows=None, mask=None), grpname=None, colname='miss_count_fmt', rownum=12, colnum=None, styles=[CellStyleBorders(sides='right', color='#000000', style='solid', weight='1px')]), StyleInfo(locname=LocBody(columns='miss_count_fmt', rows=None, mask=None), grpname=None, colname='miss_count_fmt', rownum=13, colnum=None, styles=[CellStyleBorders(sides='right', color='#000000', style='solid', weight='1px')]), StyleInfo(locname=LocBody(columns='miss_count_fmt', rows=None, mask=None), grpname=None, colname='miss_count_fmt', rownum=14, colnum=None, styles=[CellStyleBorders(sides='right', color='#000000', style='solid', weight='1px')]), StyleInfo(locname=LocBody(columns='miss_count_fmt', rows=None, mask=None), grpname=None, colname='miss_count_fmt', rownum=15, colnum=None, styles=[CellStyleBorders(sides='right', color='#000000', style='solid', weight='1px')]), StyleInfo(locname=LocBody(columns='miss_count_fmt', rows=None, mask=None), grpname=None, colname='miss_count_fmt', rownum=16, colnum=None, styles=[CellStyleBorders(sides='right', color='#000000', style='solid', weight='1px')]), StyleInfo(locname=LocBody(columns='miss_count_fmt', rows=None, mask=None), grpname=None, colname='miss_count_fmt', rownum=17, colnum=None, styles=[CellStyleBorders(sides='right', color='#000000', style='solid', weight='1px')]), StyleInfo(locname=LocBody(columns='miss_count_fmt', rows=None, mask=None), grpname=None, colname='miss_count_fmt', rownum=18, colnum=None, styles=[CellStyleBorders(sides='right', color='#000000', style='solid', weight='1px')]), StyleInfo(locname=LocBody(columns='miss_count_fmt', rows=None, mask=None), grpname=None, colname='miss_count_fmt', rownum=19, colnum=None, styles=[CellStyleBorders(sides='right', color='#000000', style='solid', weight='1px')]), StyleInfo(locname=LocBody(columns='miss_count_fmt', rows=None, mask=None), grpname=None, colname='miss_count_fmt', rownum=20, colnum=None, styles=[CellStyleBorders(sides='right', color='#000000', style='solid', weight='1px')]), StyleInfo(locname=LocBody(columns='miss_count_fmt', rows=None, mask=None), grpname=None, colname='miss_count_fmt', rownum=21, colnum=None, styles=[CellStyleBorders(sides='right', color='#000000', style='solid', weight='1px')]), StyleInfo(locname=LocBody(columns='miss_count_fmt', rows=None, mask=None), grpname=None, colname='miss_count_fmt', rownum=22, colnum=None, styles=[CellStyleBorders(sides='right', color='#000000', style='solid', weight='1px')]), StyleInfo(locname=LocBody(columns='miss_count_fmt', rows=None, mask=None), grpname=None, colname='miss_count_fmt', rownum=23, colnum=None, styles=[CellStyleBorders(sides='right', color='#000000', style='solid', weight='1px')])], _locale=<great_tables._gt_data.Locale object at 0x7cea7c61f470>, _formats=[<great_tables._gt_data.FormatInfo object at 0x7cea7c61f2c0>], _substitutions=[], _options=Options(table_id=OptionsInfo(scss=False, category='table', type='value', value=None), table_caption=OptionsInfo(scss=False, category='table', type='value', value=None), table_width=OptionsInfo(scss=True, category='table', type='px', value='auto'), table_layout=OptionsInfo(scss=True, category='table', type='value', value='fixed'), table_margin_left=OptionsInfo(scss=True, category='table', type='px', value='auto'), table_margin_right=OptionsInfo(scss=True, category='table', type='px', value='auto'), table_background_color=OptionsInfo(scss=True, category='table', type='value', value='#FFFFFF'), table_additional_css=OptionsInfo(scss=False, category='table', type='values', value=[]), table_font_names=OptionsInfo(scss=False, category='table', type='values', value=['-apple-system', 'BlinkMacSystemFont', 'Segoe UI', 'Roboto', 'Oxygen', 'Ubuntu', 'Cantarell', 'Helvetica Neue', 'Fira Sans', 'Droid Sans', 'Arial', 'sans-serif']), table_font_size=OptionsInfo(scss=True, category='table', type='px', value='16px'), table_font_weight=OptionsInfo(scss=True, category='table', type='value', value='normal'), table_font_style=OptionsInfo(scss=True, category='table', type='value', value='normal'), table_font_color=OptionsInfo(scss=True, category='table', type='value', value='#333333'), table_font_color_light=OptionsInfo(scss=True, category='table', type='value', value='#FFFFFF'), table_border_top_include=OptionsInfo(scss=False, category='table', type='boolean', value=True), table_border_top_style=OptionsInfo(scss=True, category='table', type='value', value='solid'), table_border_top_width=OptionsInfo(scss=True, category='table', type='px', value='3px'), table_border_top_color=OptionsInfo(scss=True, category='table', type='value', value='#D3D3D3'), table_border_right_style=OptionsInfo(scss=True, category='table', type='value', value='solid'), table_border_right_width=OptionsInfo(scss=True, category='table', type='px', value='3px'), table_border_right_color=OptionsInfo(scss=True, category='table', type='value', value='#D3D3D3'), table_border_bottom_include=OptionsInfo(scss=False, category='table', type='boolean', value=True), table_border_bottom_style=OptionsInfo(scss=True, category='table', type='value', value='solid'), table_border_bottom_width=OptionsInfo(scss=True, category='table', type='px', value='3px'), table_border_bottom_color=OptionsInfo(scss=True, category='table', type='value', value='#D3D3D3'), table_border_left_style=OptionsInfo(scss=True, category='table', type='value', value='solid'), table_border_left_width=OptionsInfo(scss=True, category='table', type='px', value='3px'), table_border_left_color=OptionsInfo(scss=True, category='table', type='value', value='#D3D3D3'), heading_background_color=OptionsInfo(scss=True, category='heading', type='value', value=None), heading_align=OptionsInfo(scss=True, category='heading', type='value', value='center'), heading_title_font_size=OptionsInfo(scss=True, category='heading', type='px', value='125%'), heading_title_font_weight=OptionsInfo(scss=True, category='heading', type='value', value='initial'), heading_subtitle_font_size=OptionsInfo(scss=True, category='heading', type='px', value='85%'), heading_subtitle_font_weight=OptionsInfo(scss=True, category='heading', type='value', value='initial'), heading_padding=OptionsInfo(scss=True, category='heading', type='px', value='4px'), heading_padding_horizontal=OptionsInfo(scss=True, category='heading', type='px', value='5px'), heading_border_bottom_style=OptionsInfo(scss=True, category='heading', type='value', value='solid'), heading_border_bottom_width=OptionsInfo(scss=True, category='heading', type='px', value='2px'), heading_border_bottom_color=OptionsInfo(scss=True, category='heading', type='value', value='#0076BA'), heading_border_lr_style=OptionsInfo(scss=True, category='heading', type='value', value='none'), heading_border_lr_width=OptionsInfo(scss=True, category='heading', type='px', value='1px'), heading_border_lr_color=OptionsInfo(scss=True, category='heading', type='value', value='#D3D3D3'), column_labels_background_color=OptionsInfo(scss=True, category='column_labels', type='value', value='#FFFFFF'), column_labels_font_size=OptionsInfo(scss=True, category='column_labels', type='px', value='100%'), column_labels_font_weight=OptionsInfo(scss=True, category='column_labels', type='value', value='normal'), column_labels_text_transform=OptionsInfo(scss=True, category='column_labels', type='value', value='inherit'), column_labels_padding=OptionsInfo(scss=True, category='column_labels', type='px', value='5px'), column_labels_padding_horizontal=OptionsInfo(scss=True, category='column_labels', type='px', value='5px'), column_labels_vlines_style=OptionsInfo(scss=True, category='table_body', type='value', value='none'), column_labels_vlines_width=OptionsInfo(scss=True, category='table_body', type='px', value='1px'), column_labels_vlines_color=OptionsInfo(scss=True, category='table_body', type='value', value='#D3D3D3'), column_labels_border_top_style=OptionsInfo(scss=True, category='column_labels', type='value', value='solid'), column_labels_border_top_width=OptionsInfo(scss=True, category='column_labels', type='px', value='2px'), column_labels_border_top_color=OptionsInfo(scss=True, category='column_labels', type='value', value='#0076BA'), column_labels_border_bottom_style=OptionsInfo(scss=True, category='column_labels', type='value', value='solid'), column_labels_border_bottom_width=OptionsInfo(scss=True, category='column_labels', type='px', value='2px'), column_labels_border_bottom_color=OptionsInfo(scss=True, category='column_labels', type='value', value='#0076BA'), column_labels_border_lr_style=OptionsInfo(scss=True, category='column_labels', type='value', value='none'), column_labels_border_lr_width=OptionsInfo(scss=True, category='column_labels', type='px', value='1px'), column_labels_border_lr_color=OptionsInfo(scss=True, category='column_labels', type='value', value='#D3D3D3'), column_labels_hidden=OptionsInfo(scss=False, category='column_labels', type='boolean', value=False), row_group_background_color=OptionsInfo(scss=True, category='row_group', type='value', value=None), row_group_font_size=OptionsInfo(scss=True, category='row_group', type='px', value='100%'), row_group_font_weight=OptionsInfo(scss=True, category='row_group', type='value', value='initial'), row_group_text_transform=OptionsInfo(scss=True, category='row_group', type='value', value='inherit'), row_group_padding=OptionsInfo(scss=True, category='row_group', type='px', value='8px'), row_group_padding_horizontal=OptionsInfo(scss=True, category='row_group', type='px', value='5px'), row_group_border_top_style=OptionsInfo(scss=True, category='row_group', type='value', value='solid'), row_group_border_top_width=OptionsInfo(scss=True, category='row_group', type='px', value='2px'), row_group_border_top_color=OptionsInfo(scss=True, category='row_group', type='value', value='#0076BA'), row_group_border_right_style=OptionsInfo(scss=True, category='row_group', type='value', value='none'), row_group_border_right_width=OptionsInfo(scss=True, category='row_group', type='px', value='1px'), row_group_border_right_color=OptionsInfo(scss=True, category='row_group', type='value', value='#D3D3D3'), row_group_border_bottom_style=OptionsInfo(scss=True, category='row_group', type='value', value='solid'), row_group_border_bottom_width=OptionsInfo(scss=True, category='row_group', type='px', value='2px'), row_group_border_bottom_color=OptionsInfo(scss=True, category='row_group', type='value', value='#0076BA'), row_group_border_left_style=OptionsInfo(scss=True, category='row_group', type='value', value='none'), row_group_border_left_width=OptionsInfo(scss=True, category='row_group', type='px', value='1px'), row_group_border_left_color=OptionsInfo(scss=True, category='row_group', type='value', value='#D3D3D3'), row_group_as_column=OptionsInfo(scss=False, category='row_group', type='boolean', value=False), table_body_hlines_style=OptionsInfo(scss=True, category='table_body', type='value', value='none'), table_body_hlines_width=OptionsInfo(scss=True, category='table_body', type='px', value='1px'), table_body_hlines_color=OptionsInfo(scss=True, category='table_body', type='value', value='#89D3FE'), table_body_vlines_style=OptionsInfo(scss=True, category='table_body', type='value', value='none'), table_body_vlines_width=OptionsInfo(scss=True, category='table_body', type='px', value='1px'), table_body_vlines_color=OptionsInfo(scss=True, category='table_body', type='value', value='#89D3FE'), table_body_border_top_style=OptionsInfo(scss=True, category='table_body', type='value', value='solid'), table_body_border_top_width=OptionsInfo(scss=True, category='table_body', type='px', value='2px'), table_body_border_top_color=OptionsInfo(scss=True, category='table_body', type='value', value='#0076BA'), table_body_border_bottom_style=OptionsInfo(scss=True, category='table_body', type='value', value='solid'), table_body_border_bottom_width=OptionsInfo(scss=True, category='table_body', type='px', value='2px'), table_body_border_bottom_color=OptionsInfo(scss=True, category='table_body', type='value', value='#0076BA'), data_row_padding=OptionsInfo(scss=True, category='data_row', type='px', value='8px'), data_row_padding_horizontal=OptionsInfo(scss=True, category='data_row', type='px', value='5px'), stub_background_color=OptionsInfo(scss=True, category='stub', type='value', value='#0076BA'), stub_font_size=OptionsInfo(scss=True, category='stub', type='px', value='100%'), stub_font_weight=OptionsInfo(scss=True, category='stub', type='value', value='initial'), stub_text_transform=OptionsInfo(scss=True, category='stub', type='value', value='inherit'), stub_border_style=OptionsInfo(scss=True, category='stub', type='value', value='solid'), stub_border_width=OptionsInfo(scss=True, category='stub', type='px', value='2px'), stub_border_color=OptionsInfo(scss=True, category='stub', type='value', value='#0076BA'), stub_row_group_background_color=OptionsInfo(scss=True, category='stub', type='value', value=None), stub_row_group_font_size=OptionsInfo(scss=True, category='stub', type='px', value='100%'), stub_row_group_font_weight=OptionsInfo(scss=True, category='stub', type='value', value='initial'), stub_row_group_text_transform=OptionsInfo(scss=True, category='stub', type='value', value='inherit'), stub_row_group_border_style=OptionsInfo(scss=True, category='stub', type='value', value='solid'), stub_row_group_border_width=OptionsInfo(scss=True, category='stub', type='px', value='2px'), stub_row_group_border_color=OptionsInfo(scss=True, category='stub', type='value', value='#D3D3D3'), source_notes_padding=OptionsInfo(scss=True, category='source_notes', type='px', value='4px'), source_notes_padding_horizontal=OptionsInfo(scss=True, category='source_notes', type='px', value='5px'), source_notes_background_color=OptionsInfo(scss=True, category='source_notes', type='value', value=None), source_notes_font_size=OptionsInfo(scss=True, category='source_notes', type='px', value='90%'), source_notes_border_bottom_style=OptionsInfo(scss=True, category='source_notes', type='value', value='none'), source_notes_border_bottom_width=OptionsInfo(scss=True, category='source_notes', type='px', value='2px'), source_notes_border_bottom_color=OptionsInfo(scss=True, category='source_notes', type='value', value='#D3D3D3'), source_notes_border_lr_style=OptionsInfo(scss=True, category='source_notes', type='value', value='none'), source_notes_border_lr_width=OptionsInfo(scss=True, category='source_notes', type='px', value='2px'), source_notes_border_lr_color=OptionsInfo(scss=True, category='source_notes', type='value', value='#D3D3D3'), source_notes_multiline=OptionsInfo(scss=False, category='source_notes', type='boolean', value=True), source_notes_sep=OptionsInfo(scss=False, category='source_notes', type='value', value=' '), row_striping_background_color=OptionsInfo(scss=True, category='row', type='value', value='#F4F4F4'), row_striping_include_stub=OptionsInfo(scss=False, category='row', type='boolean', value=False), row_striping_include_table_body=OptionsInfo(scss=False, category='row', type='boolean', value=['True']), container_width=OptionsInfo(scss=False, category='container', type='px', value='auto'), container_height=OptionsInfo(scss=False, category='container', type='px', value='auto'), container_padding_x=OptionsInfo(scss=False, category='container', type='px', value='0px'), container_padding_y=OptionsInfo(scss=False, category='container', type='px', value='10px'), container_overflow_x=OptionsInfo(scss=False, category='container', type='overflow', value='auto'), container_overflow_y=OptionsInfo(scss=False, category='container', type='overflow', value='auto'), quarto_disable_processing=OptionsInfo(scss=False, category='quarto', type='logical', value=False), quarto_use_bootstrap=OptionsInfo(scss=False, category='quarto', type='logical', value=False)), _has_built=False)"
      ]
     },
     "execution_count": 252,
     "metadata": {},
     "output_type": "execute_result"
    }
   ],
   "source": [
    "agg_shortfall_tbl = (\n",
    "    gt.GT(combined_shortfall_df, groupname_col='criteria_met_label', rowname_col='criterion')\n",
    "    .tab_header('Aggregate shortfall from standard quality', 'of articles created using CX')\n",
    "    .cols_hide(['criteria_met', 'miss_count'])\n",
    "    .fmt_number(columns='avg_shortfall', decimals=0)\n",
    "    .cols_move_to_start('miss_count_fmt')\n",
    "    .cols_align(align='right', columns='miss_count_fmt')\n",
    "    .cols_align(align='left', columns='avg_shortfall')\n",
    "    .tab_style(\n",
    "        style=gt.style.borders(sides='right', style='solid'),\n",
    "        locations=gt.loc.body(columns='miss_count_fmt')\n",
    "    )\n",
    "    .cols_label(\n",
    "        avg_shortfall='Average shortfall',\n",
    "        miss_count_fmt='Count of shortfall articles'\n",
    "    )\n",
    "    .opt_stylize()\n",
    "    .opt_table_outline()\n",
    "    .tab_source_note('as of March 2025')\n",
    ")\n",
    "\n",
    "agg_shortfall_tbl"
   ]
  },
  {
   "cell_type": "markdown",
   "id": "a0d749b2-7aa4-4bf7-9e4f-56b4574cf89b",
   "metadata": {},
   "source": [
    "::: {.callout-note title=\"Interpretation\" icon=\"false\" collapse=false}\n",
    "\n",
    "Beyond identifying the most commonly missed standard criteria, this information can also be helpful to identify areas with the highest potential for impact, and for opportunities to improve article quality. For example, around 80K translated articles fall short of standard quality solely due to the absence of at least one media file — adding just one image could enable them to meet standard quality. Similarly, increasing the page length by approximately 3,000 bytes for articles that currently meet 4 of the 6 criteria could move about 264K articles to standard quality. For articles that meet 3 of the 6 criteria, improving any two additional features would enable them to reach standard quality.\n",
    "\n",
    ":::"
   ]
  },
  {
   "cell_type": "markdown",
   "id": "1a743da5-dbf1-4ad9-9b2d-8fcb0df99c82",
   "metadata": {},
   "source": [
    "::: {.callout-tip title=\"Summary\" icon=\"false\" collapse=false}\n",
    "\n",
    "* Among articles that do not meet standard quality, the most common shortfall is page length (in bytes)\n",
    "* This is followed by the number of headings (i.e., sections the content is divided into) and the number of references.\n",
    "    * The number of headings is likely related to page length—as content increases, the number of sections tends to increase as well.\n",
    "* Across all criteria, especially in articles closer to standard quality -- the number of categories and wikilinks are the least commonly missing aspects.\n",
    "* The average shortfall in page length varies significantly across article groups, more so than other criteria. We will explore this further.\n",
    "  \n",
    ":::"
   ]
  },
  {
   "cell_type": "markdown",
   "id": "bf7f6704-7ed9-4264-a03e-e884c5738f18",
   "metadata": {},
   "source": [
    "#### Page length distributions"
   ]
  },
  {
   "cell_type": "code",
   "execution_count": 253,
   "id": "6849fda2-c5b1-47c9-a150-efb3ece74533",
   "metadata": {},
   "outputs": [
    {
     "data": {
      "image/png": "[encoded data removed]",
      "text/plain": [
       "<Figure size 1400x1000 with 4 Axes>"
      ]
     },
     "metadata": {},
     "output_type": "display_data"
    }
   ],
   "source": [
    "#| column: page\n",
    "\n",
    "fig, axes = plt.subplots(2, 2, figsize=(14, 10))\n",
    "axes = axes.flatten()\n",
    "criteria_levels = [1, 2, 3, 4]\n",
    "\n",
    "for idx, level in enumerate(criteria_levels):\n",
    "    df_level = subset.query(f\"criteria_met == {level}\")\n",
    "    page_lengths = df_level.page_length.values\n",
    "    cutoff = np.percentile(page_lengths, 95)\n",
    "    filtered_lengths = df_level.query(\"\"\"page_length <= @cutoff\"\"\").page_length.values\n",
    "\n",
    "    mean = filtered_lengths.mean()\n",
    "    std = filtered_lengths.std()\n",
    "    lower, upper = mean - std, mean + std\n",
    "    count_within_range = ((filtered_lengths >= lower) & (filtered_lengths <= upper)).sum()\n",
    "    percent_within_range = round(100 * count_within_range / len(filtered_lengths), 1)\n",
    "\n",
    "    ax = axes[idx]\n",
    "    counts, bins, _ = ax.hist(filtered_lengths, bins=50, color='skyblue', edgecolor='black')\n",
    "\n",
    "    ax.set_ylim(0, max(counts) * 1.5)\n",
    "    ax.set_title(f'{level} of 6 criteria met', fontsize=11)\n",
    "\n",
    "    for i in [-1, 0, 1]:\n",
    "        x = mean + i * std\n",
    "        style = '-' if i == 0 else '--'\n",
    "        label = 'Mean' if i == 0 else f'{i:+}σ'\n",
    "        ax.axvline(x, color='black', linestyle=style, linewidth=1.5)\n",
    "        ax.annotate(label, xy=(x-100, 0.95), xycoords=('data', 'axes fraction'),\n",
    "                    ha='right', fontsize=8)\n",
    "\n",
    "    y_arrow = max(counts) * 1.1\n",
    "    ax.annotate('', xy=(lower, y_arrow), xytext=(upper, y_arrow),\n",
    "                arrowprops=dict(arrowstyle='<->', color='green', linewidth=2))\n",
    "\n",
    "    ax.text(mean, y_arrow + max(counts) * 0.05,\n",
    "            f'{count_within_range} articles ({percent_within_range}%)\\nrange: {int(lower)} to {int(upper)}',\n",
    "            ha='center', color='green', fontsize=9)\n",
    "\n",
    "fig.suptitle('Page length distributions of articles that are not of standard quality', fontsize=12)\n",
    "fig.text(0.5, 0.91, 'created using CX; as of March 2025', fontsize=11, ha='center')\n",
    "fig.supxlabel('Page Length', fontsize=10)\n",
    "fig.supylabel('Frequency', fontsize=10)\n",
    "\n",
    "plt.tight_layout(rect=[0, 0.03, 1, 0.94])\n",
    "plt.show()"
   ]
  },
  {
   "cell_type": "markdown",
   "id": "1cb3fabb-1c1a-4543-817c-9b8c4fb7d4a3",
   "metadata": {},
   "source": [
    "::: {.callout-tip title=\"Summary\" icon=\"false\" collapse=false}\n",
    "\n",
    "* Page length (in bytes) is the criterion that varied the most across articles that did not meet standard quality, as evident from the above distributions.\n",
    "* Most articles that meet only 1 of the 6 criteria are between 400 and 2,000 bytes in length.\n",
    "* As articles meet more of the criteria—indicating a potential increase in quality—their average and distribution of page length move closer to the 8,000-byte threshold.\n",
    "* For articles meeting 4 of the 6 criteria, approximately 69% are between 3,300 and 8,000 bytes, with about 35% falling between 5,700 and 8,000 bytes.\n",
    "    * This suggests that, if these articles are expanded by 100 to 2,300 bytes, approximately 109K could meet the standard quality.\n",
    "* For articles meeting 3 of the 6 criteria, around 63% are between 1,700 and 5,000 bytes, and about 31% fall between 3,400 and 5,000 bytes.\n",
    "  * If these articles can be expanded by 3,000 to 4,500 bytes, along with improvements in other criteria (such as headings, as noted earlier), approximately 170K could reach standard quality.\n",
    "  \n",
    ":::"
   ]
  },
  {
   "cell_type": "markdown",
   "id": "726318e7-f1bb-4cbc-8f0f-c705605defa0",
   "metadata": {},
   "source": [
    "### Distribution by wiki"
   ]
  },
  {
   "cell_type": "code",
   "execution_count": 254,
   "id": "8dbd772a-28d3-4c61-941f-bb7ce81a9f57",
   "metadata": {},
   "outputs": [],
   "source": [
    "criteria_by_db = (\n",
    "    cx_latest\n",
    "    .assign(criteria_met=cx_latest['criteria_met'].astype(str).replace({'5': 'std qual', '6': 'std qual'}))\n",
    "    .groupby(['wiki_db', 'criteria_met'])['page_id'].count().reset_index(name='count')\n",
    ")\n",
    "\n",
    "criteria_by_db['total'] = criteria_by_db.groupby('wiki_db')['count'].transform('sum')\n",
    "criteria_by_db['percentage'] = criteria_by_db['count'] / criteria_by_db['total']\n",
    "\n",
    "criteria_by_db.query(\"total >= 50\").to_csv('secrets/criteria_by_db_min50_cx_032025.tsv', sep='\\t', index=False)"
   ]
  },
  {
   "cell_type": "markdown",
   "id": "d9b07338-37c0-4dda-87ee-37559220d8ae",
   "metadata": {},
   "source": [
    "::: {.callout-note title=\"Explore by wiki\" icon=\"false\"}\n",
    "\n",
    "Distribution of articles across standard quality criteria by each wiki, can be explored in this [Google Spreadsheet](https://docs.google.com/spreadsheets/d/1_sruNNmyvLOS4gdvkCOryqqU6ezpX7ExSMiXKjgLOZk/edit?gid=1734321599#gid=1734321599&fvid=1671074555).\n",
    "\n",
    ":::"
   ]
  },
  {
   "cell_type": "code",
   "execution_count": null,
   "id": "0cb8f31c-f038-4d13-ae05-890f794844d3",
   "metadata": {},
   "outputs": [],
   "source": [
    "con.close()"
   ]
  },
  {
   "cell_type": "markdown",
   "id": "3689f968-6604-4437-94fd-647af7aa4b79",
   "metadata": {},
   "source": [
    "## Summary"
   ]
  },
  {
   "cell_type": "markdown",
   "id": "5e2b1e63-1e44-46f6-ac64-ebdf866388e9",
   "metadata": {},
   "source": [
    "::: {.callout-tip icon=\"false\" appearance=simple}\n",
    "\n",
    "The analysis explores quality of Wikipedia articles created using the Content Translation (CX) tool and not deleted,^[approximately 1.75 million articles] focusing on how these articles align with six standard quality criteria: length (minimum 8kB), number of categories, number of sections, presence of images, number of references, and intra-wiki links. As of March 2025, about 20% of all translated articles are of standard quality. Of those, 13% met the standard at the time of creation, while another 7% were improved post-creation. About 78% of the translated articles, do not meet the standard quality. Interestingly, about 1% of articles that initially met the standard quality, later did not, possibly due to content removal. \n",
    "\n",
    "Among the small percentage of article that saw a drop in quality, reduction in length, decrease in wikilinks, and removal references were the most common causes. The most commons reasons for improvement in article quality are, growth in length, additional sections, and more wikilinks. In nearly 60% of the articles that were improved after creation, the addition of media (at least one image) contributed to meeting the standard quality.\n",
    "\n",
    "Among articles that do not meet the standard quality, about 23% meet four of the six criteria, 40% meet three, and 30% meet two. This suggests that many articles are within reach of meeting the standard quality with a few targeted improvements. For instance, nearly 80,000 articles fail to qualify solely because they lack an image. Similarly, expanding articles that already meet four of six criteria by just 100 to 2,300 bytes could bring roughly 109,000 articles up to the standard quality. For articles that meet three criteria, expanding them by 3,000 to 4,500 bytes -- especially combined with addition of references or structural improvements (such as division of sections), will bring 170,000 more to standard quality.\n",
    "\n",
    "Among all criteria, page length was the most frequently missing and highly varied. Articles that meet only one of the six criteria tend to be short, often under 2,000 bytes, while those that meet more of the criteria trend toward the 8,000-byte threshold. A lot of the articles that meet four out of six criteria are already quite close to the 8,000-byte threshold, with many of them between 5,700 and 8,000 bytes. So just expanding the articles by a few hundred to a couple of thousand bytes will enable them to meet the standard quality. The same goes for articles that meet three crteria—most are between 1,700 and 5,000 bytes, and plenty are already over 3,000 bytes.\n",
    "\n",
    "----\n",
    "\n",
    "While a majority of the articles still fall short of the standard quality, these insights can be helpful to identify opportunities for improving the existing articles and enabling them to meet the standard quality. \n",
    "\n",
    ":::\n"
   ]
  }
 ],
 "metadata": {
  "kernelspec": {
   "display_name": "Python 3 (ipykernel)",
   "language": "python",
   "name": "python3"
  },
  "language_info": {
   "codemirror_mode": {
    "name": "ipython",
    "version": 3
   },
   "file_extension": ".py",
   "mimetype": "text/x-python",
   "name": "python",
   "nbconvert_exporter": "python",
   "pygments_lexer": "ipython3",
   "version": "3.12.2"
  }
 },
 "nbformat": 4,
 "nbformat_minor": 5
}
