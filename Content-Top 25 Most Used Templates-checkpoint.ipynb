{
 "cells": [
  {
   "cell_type": "code",
   "execution_count": null,
   "id": "538becda-4ff6-429b-b660-e424ce4f94a9",
   "metadata": {},
   "outputs": [],
   "source": [
    "# importing necessary libraries\n",
    "import numpy as np\n",
    "import pandas as pd\n",
    "import pymysql\n",
    "from sqlite3 import dbapi2 as sq3\n",
    "from pathlib import Path\n",
    "\n",
    "import time\n",
    "import copy\n",
    "import random\n",
    "\n",
    "from datetime import datetime\n",
    "from dateutil import rrule\n",
    "\n",
    "from io import BytesIO\n",
    "from collections import OrderedDict\n",
    "PATHSTART = '.'"
   ]
  },
  {
   "cell_type": "code",
   "execution_count": null,
   "id": "cf7e1217-ab1b-4b68-90e3-74437fa75cbf",
   "metadata": {},
   "outputs": [],
   "source": [
    "# ignore warnings\n",
    "import warnings\n",
    "warnings.filterwarnings('ignore')"
   ]
  },
  {
   "cell_type": "code",
   "execution_count": null,
   "id": "54cb8456-1a57-466b-8fb3-9abbddc9513c",
   "metadata": {},
   "outputs": [],
   "source": [
    "# function to connect to wiki_dbs and query\n",
    "def connect_and_query(wiki_name, query, cnf_path = \"/home/paws/.my.cnf\"):\n",
    "    \n",
    "    conn = pymysql.connect(host = wiki_name + '.analytics.db.svc.wikimedia.cloud',\n",
    "                           read_default_file = cnf_path,\n",
    "                           database = wiki_name + '_p')\n",
    "    \n",
    "    with conn.cursor() as cur:\n",
    "        cur.execute(query)\n",
    "        data = cur.fetchall()\n",
    "    \n",
    "    conn.close()\n",
    "    return data"
   ]
  },
  {
   "cell_type": "code",
   "execution_count": null,
   "id": "ef5b54f8-9e87-4620-806b-65ee3d6b38c7",
   "metadata": {},
   "outputs": [],
   "source": [
    "query = \"\"\"\n",
    "SELECT \n",
    "    p.page_title AS template_name,  -- Select the template's name\n",
    "    COUNT(*) AS usage_count         -- Count how many times each template is used\n",
    "FROM templatelinks tl\n",
    "JOIN page p \n",
    "    ON tl.tl_target_id = p.page_id  -- Join with the 'page' table using the template's page ID\n",
    "WHERE p.page_namespace = 10         -- Filter to include only pages in the 'Template' namespace (10)\n",
    "GROUP BY p.page_title               -- Group by template name to count occurrences\n",
    "ORDER BY usage_count DESC          \n",
    "LIMIT 25;                           -- Get the top 25 most used templates\n",
    "\"\"\"\n",
    "\n",
    "output = connect_and_query('enwiki', query)\n",
    "df = pd.DataFrame(output, columns=['template_name', 'usage_count'])"
   ]
  },
  {
   "cell_type": "raw",
   "id": "de80e60b-e31c-4a8e-9b6f-1c21b0ef1727",
   "metadata": {},
   "source": [
    "df"
   ]
  },
  {
   "cell_type": "markdown",
   "id": "8be8b38b-649a-47ed-b4c9-0bc0e6f7dab8",
   "metadata": {},
   "source": []
  }
 ],
 "metadata": {
  "kernelspec": {
   "display_name": "Python 3 (ipykernel)",
   "language": "python",
   "name": "python3"
  },
  "language_info": {
   "codemirror_mode": {
    "name": "ipython",
    "version": 3
   },
   "file_extension": ".py",
   "mimetype": "text/x-python",
   "name": "python",
   "nbconvert_exporter": "python",
   "pygments_lexer": "ipython3",
   "version": "3.12.7"
  }
 },
 "nbformat": 4,
 "nbformat_minor": 5
}
